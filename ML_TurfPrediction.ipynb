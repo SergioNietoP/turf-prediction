{
  "cells": [
    {
      "cell_type": "markdown",
      "metadata": {
        "id": "p2qbeMFefL4Z"
      },
      "source": [
        "# **DataSheet Description**\n",
        "\n",
        "---\n",
        "\n",
        "\n",
        "En este proyecto emplearemos un dataset que contiene información de los resultados de las carreras de el panorama nacional de carreras de caballos.\n",
        "\n",
        "- **Puesto** (Clase): Posición en la que terminan la carrera **int64**\n",
        "- **NombreCaballo**: Nombre de caballo  **object**\n",
        "- **Peso** : Peso de caballo  **object**\n",
        "- **Edad**: Edad de caballo **int64**\n",
        "- **DistanciaMeta**: Distancia respecto a ganador en llegada a meta **object** (DROPEAR)\n",
        "- **Mantilla**: Dorsal   **int64**\n",
        "- **Dividendo** : Pago por euro apostado por ganador de carrera **object** (DROPEAR)\n",
        "- **Propietario** : Cuadra Propietaria **object**\n",
        "- **Preparador**: Nombre Preparador **object**\n",
        "- **Jinete**: Jinete o Amazona que monta al caballo en esta carrera  **object**\n",
        "- **Problemas**: Problemas que posee en esta carrera el caballo  **object**\n",
        "- **Fecha**: Fecha Carrera   **object**\n",
        "- **Hora**: Hora carrera  **object**\n",
        "- **Terreno**: Estado del terreno en carrera **object**\n",
        "- **Distancia**: Longitud carrera  **float64**\n",
        "- **Tipo**: Tipo de terreno en carrera  **object**\n",
        "- **SentidoHipodromo**:  (0 -> Sentido Normal, 1 -> Inverso) **int64**\n",
        "- **Meteorología**: Previsión estado meteorología del día entero **object** (Tiempo3)\n",
        "- **Lluvia**: Previsión cantidad de lluvia del dia entero  **object**\n",
        "- **Viento**: Previsión velocidad de viento del dia entero  **int64**\n",
        "- **Temperatura**: Previsión de temp. del horario de la carrera  **int64**\n",
        "- **Hipodromo**: Nombre del hipódromo de la carrera   **object**"
      ]
    },
    {
      "cell_type": "code",
      "execution_count": 16,
      "metadata": {
        "colab": {
          "base_uri": "https://localhost:8080/"
        },
        "id": "Lh89cWwdfM-Q",
        "outputId": "84a493c2-ac95-40ad-fbad-c13f1bde88f1"
      },
      "outputs": [
        {
          "output_type": "execute_result",
          "data": {
            "text/plain": [
              "Puesto              2764\n",
              "NombreCaballo       2764\n",
              "Peso                2764\n",
              "Edad                2764\n",
              "DistanciaMeta       2363\n",
              "Mantilla            2764\n",
              "Dividendo           2749\n",
              "Propietario         2764\n",
              "Preparador          2764\n",
              "Jinete              2763\n",
              "Problemas           1481\n",
              "Fecha               2764\n",
              "Hora                2764\n",
              "Terreno             2764\n",
              "Distancia           2764\n",
              "Tipo                2763\n",
              "SentidoHipodromo    2764\n",
              "Meteorología        2764\n",
              "LLuvia              2764\n",
              "Viento              2764\n",
              "Temperatura         2764\n",
              "Hipodromo           2764\n",
              "dtype: int64"
            ]
          },
          "metadata": {},
          "execution_count": 16
        }
      ],
      "source": [
        "import pandas as pd\n",
        "import numpy as np\n",
        "import numpy as np # linear algebra\n",
        "import pandas as pd # data processing, CSV file I/O (e.g. pd.read_csv)\n",
        "import matplotlib.pyplot as plt\n",
        "import seaborn as sns\n",
        "import sklearn\n",
        "import sklearn.compose\n",
        "from xgboost import XGBClassifier\n",
        "from sklearn.metrics import f1_score\n",
        "\n",
        "url = 'https://raw.githubusercontent.com/SergioNietoP/ML-Try-Catch/main/Learning%20Datasheets/Turf%20Prediction/Data%20Turf%20Races%20Train%20-%2030%20-%201006.csv'\n",
        "\n",
        "url1 = 'https://raw.githubusercontent.com/SergioNietoP/ML-Try-Catch/main/Learning%20Datasheets/Turf%20Prediction/Data%20Turf%20Races%20Test%20-%2023%20-%201706.csv'\n",
        "test = pd.read_csv(url1, sep=',')\n",
        "\n",
        "# test_labels = test.pop('Puesto')\n",
        "# y_testNN = test_labels\n",
        "\n",
        "\n",
        "train = pd.read_csv(url, sep=',')\n",
        "\n",
        "\n",
        "ogData = train\n",
        "train.head()\n",
        "train.count()\n",
        "\n"
      ]
    },
    {
      "cell_type": "markdown",
      "metadata": {
        "id": "63faZK8krpxr"
      },
      "source": []
    },
    {
      "cell_type": "code",
      "execution_count": 17,
      "metadata": {
        "id": "NGZSqYOOCYBy"
      },
      "outputs": [],
      "source": [
        "print(train['DistanciaMeta'].unique())"
      ]
    },
    {
      "cell_type": "code",
      "execution_count": 13,
      "metadata": {
        "colab": {
          "base_uri": "https://localhost:8080/"
        },
        "id": "nI-FJUUWI8NN",
        "outputId": "d5b21661-737c-4c82-cdff-f3e5b93fe0e5"
      },
      "outputs": [
        {
          "output_type": "stream",
          "name": "stdout",
          "text": [
            "<class 'pandas.core.frame.DataFrame'>\n",
            "RangeIndex: 2764 entries, 0 to 2763\n",
            "Data columns (total 22 columns):\n",
            " #   Column            Non-Null Count  Dtype  \n",
            "---  ------            --------------  -----  \n",
            " 0   Puesto            2764 non-null   int64  \n",
            " 1   NombreCaballo     2764 non-null   object \n",
            " 2   Peso              2764 non-null   object \n",
            " 3   Edad              2764 non-null   int64  \n",
            " 4   DistanciaMeta     2363 non-null   object \n",
            " 5   Mantilla          2764 non-null   int64  \n",
            " 6   Dividendo         2749 non-null   object \n",
            " 7   Propietario       2764 non-null   object \n",
            " 8   Preparador        2764 non-null   object \n",
            " 9   Jinete            2763 non-null   object \n",
            " 10  Problemas         1481 non-null   object \n",
            " 11  Fecha             2764 non-null   object \n",
            " 12  Hora              2764 non-null   object \n",
            " 13  Terreno           2764 non-null   object \n",
            " 14  Distancia         2764 non-null   int64  \n",
            " 15  Tipo              2763 non-null   object \n",
            " 16  SentidoHipodromo  2764 non-null   int64  \n",
            " 17  Meteorología      2764 non-null   object \n",
            " 18  LLuvia            2764 non-null   float64\n",
            " 19  Viento            2764 non-null   int64  \n",
            " 20  Temperatura       2764 non-null   float64\n",
            " 21  Hipodromo         2764 non-null   object \n",
            "dtypes: float64(2), int64(6), object(14)\n",
            "memory usage: 475.2+ KB\n"
          ]
        }
      ],
      "source": [
        "train.info()"
      ]
    },
    {
      "cell_type": "code",
      "execution_count": 15,
      "metadata": {
        "id": "1Lfh75aJIlru"
      },
      "outputs": [],
      "source": [
        "def comaDividendo():\n",
        "    for i in range(len(train.index)):\n",
        "      train.at[i, 'Dividendo'] = str(train.at[i, 'Dividendo']).replace(',', '.')\n",
        "\n",
        "comaDividendo()"
      ]
    },
    {
      "cell_type": "code",
      "execution_count": null,
      "metadata": {
        "id": "EupQBKaJCe3g"
      },
      "outputs": [],
      "source": [
        "# train = train.drop('Dividendo', axis=1)\n",
        "\n",
        "def dividendToFloat():\n",
        "  for index, row in train.iterrows():\n",
        "    train.at[index, 'Dividendo'] = train.at[index, 'Dividendo'].replace('€', '')\n",
        "    if( '-' in train.at[index, 'Dividendo']):\n",
        "      train.at[index, 'Dividendo'] = '0.0'\n",
        "\n",
        "\n",
        "dividendToFloat()\n",
        "train['Dividendo'] = train['Dividendo'].astype(float)\n"
      ]
    },
    {
      "cell_type": "code",
      "execution_count": null,
      "metadata": {
        "id": "5xUOT63yZSNS"
      },
      "outputs": [],
      "source": [
        "train.info()"
      ]
    },
    {
      "cell_type": "markdown",
      "metadata": {
        "id": "XBAEU6JSkbnA"
      },
      "source": [
        "# Preprocesamiento\n",
        "---"
      ]
    },
    {
      "cell_type": "code",
      "execution_count": null,
      "metadata": {
        "id": "BPEttOp8xBoa"
      },
      "outputs": [],
      "source": [
        "train['PuestoOg'] = train['Puesto']"
      ]
    },
    {
      "cell_type": "code",
      "execution_count": null,
      "metadata": {
        "id": "VAIAe2irmQV4"
      },
      "outputs": [],
      "source": [
        "pd.set_option('display.max_columns', None)\n",
        "train.head(10)\n"
      ]
    },
    {
      "cell_type": "markdown",
      "metadata": {
        "id": "7vgk3OuMUKfj"
      },
      "source": [
        "## **Convertir DistanciaMeta (Test & Train)**"
      ]
    },
    {
      "cell_type": "code",
      "execution_count": null,
      "metadata": {
        "id": "UIfsLhNdVDW0"
      },
      "outputs": [],
      "source": [
        "train[\"DistanciaMeta\"] = train[\"DistanciaMeta\"].fillna(0)"
      ]
    },
    {
      "cell_type": "code",
      "execution_count": null,
      "metadata": {
        "id": "vz9moMtTUKzc"
      },
      "outputs": [],
      "source": [
        "def conversionDistanciaMetaTrain():\n",
        "  train['DistanciaMeta'] = train['DistanciaMeta'].astype('str')\n",
        "  for i in range(len(train.index)):\n",
        "    decimal = 0\n",
        "    if('LEJOS' in train.at[i, 'DistanciaMeta'] or 'Lejos' in train.at[i, 'DistanciaMeta'] or 'lejos' in train.at[i, 'DistanciaMeta']):\n",
        "      train.at[i, 'DistanciaMeta'] = '20'\n",
        "    if('DISTANCIADO' in train.at[i, 'DistanciaMeta'] or'Distanciado' in train.at[i, 'DistanciaMeta'] or 'distanciado' in train.at[i, 'DistanciaMeta']):\n",
        "      train.at[i, 'DistanciaMeta'] = '20'\n",
        "    if('CUELLO' in train.at[i, 'DistanciaMeta'] or 'Cuello' in train.at[i, 'DistanciaMeta'] or 'cuello' in train.at[i, 'DistanciaMeta']):\n",
        "      train.at[i, 'DistanciaMeta'] = '0.3'\n",
        "    if(('CABEZA') in train.at[i, 'DistanciaMeta'] or ('Cabeza') in train.at[i, 'DistanciaMeta'] or ('cabeza') in train.at[i, 'DistanciaMeta']):\n",
        "      train.at[i, 'DistanciaMeta'] = '0.2'\n",
        "    if(('NARIZ') in train.at[i, 'DistanciaMeta'] or ('Nariz') in train.at[i, 'DistanciaMeta'] or ('nariz') in train.at[i, 'DistanciaMeta']):\n",
        "      train.at[i, 'DistanciaMeta'] = '0.1'\n",
        "    if(('EMPATE') in train.at[i, 'DistanciaMeta'] or ('Empate') in train.at[i, 'DistanciaMeta'] or ('empate') in train.at[i, 'DistanciaMeta'] or train.at[i, 'DistanciaMeta'] == '-'):\n",
        "      train.at[i, 'DistanciaMeta'] = '0'\n",
        "    if(('CABALLO') in train.at[i, 'DistanciaMeta'] or ('Caballo') in train.at[i, 'DistanciaMeta'] or ('caballo') in train.at[i, 'DistanciaMeta']):\n",
        "      train.at[i, 'DistanciaMeta'] = '1'\n",
        "    if((' C') in train.at[i, 'DistanciaMeta']):\n",
        "      train.at[i, 'DistanciaMeta'] = train.at[i, 'DistanciaMeta'].replace(' C', '')\n",
        "    if(train.at[i, 'DistanciaMeta'] == '1/4'):\n",
        "      train.at[i, 'DistanciaMeta'] = '0.25'\n",
        "    if(train.at[i, 'DistanciaMeta'] == '1/2'):\n",
        "      train.at[i, 'DistanciaMeta'] = '0.5'\n",
        "    if(train.at[i, 'DistanciaMeta'] == '3/4'):\n",
        "      train.at[i, 'DistanciaMeta'] = '0.75'\n",
        "    if((' 1/4') in train.at[i, 'DistanciaMeta']):\n",
        "      train.at[i, 'DistanciaMeta'] = train.at[i, 'DistanciaMeta'].replace(' 1/4', '')\n",
        "      train.at[i, 'DistanciaMeta'] = train.at[i, 'DistanciaMeta'] + '.25'\n",
        "    if((' 1/2') in train.at[i, 'DistanciaMeta']):\n",
        "      train.at[i, 'DistanciaMeta'] = train.at[i, 'DistanciaMeta'].replace(' 1/2', '')\n",
        "      train.at[i, 'DistanciaMeta'] = train.at[i, 'DistanciaMeta'] + '.5'\n",
        "    if((' 3/4') in train.at[i, 'DistanciaMeta']):\n",
        "      train.at[i, 'DistanciaMeta'] = train.at[i, 'DistanciaMeta'].replace(' 3/4', '')\n",
        "      train.at[i, 'DistanciaMeta'] = train.at[i, 'DistanciaMeta'] + '.75'\n",
        "\n",
        "conversionDistanciaMetaTrain();\n",
        "train['DistanciaMeta'] = train['DistanciaMeta'].astype('float')\n",
        "train['DistanciaMeta'] = np.where(train['DistanciaMeta'] > 20, 20, train['DistanciaMeta'])\n",
        "train['DistanciaMeta'].describe()\n"
      ]
    },
    {
      "cell_type": "markdown",
      "metadata": {
        "id": "zBkuLFwodhPi"
      },
      "source": [
        "## **Tratamiento (Puesto)(Train)**"
      ]
    },
    {
      "cell_type": "code",
      "execution_count": null,
      "metadata": {
        "id": "fiCZavCsFC0e"
      },
      "outputs": [],
      "source": [
        "train = train.drop(train[train.Puesto >= 90].index)\n",
        "train = train.reset_index(drop=True)\n",
        "train.count()\n",
        "# train['Puesto'] = train['Puesto'].replace(95, 10) # Penalización Parado"
      ]
    },
    {
      "cell_type": "markdown",
      "metadata": {
        "id": "kQUBnHP2c_B_"
      },
      "source": [
        "## **Tratamiento (Fecha)**\n"
      ]
    },
    {
      "cell_type": "code",
      "execution_count": null,
      "metadata": {
        "id": "CP0UP3Vsektt"
      },
      "outputs": [],
      "source": [
        "import datetime as dt\n",
        "from datetime import date\n",
        "\n",
        "\n",
        "def switchMonth(month):\n",
        "  if month == 'ENERO':\n",
        "   return '01'\n",
        "  elif month == 'FEBRERO':\n",
        "    return '02'\n",
        "  elif month == 'MARZO':\n",
        "   return '03'\n",
        "  elif month == 'ABRIL':\n",
        "    return '04'\n",
        "  elif month == 'MAYO':\n",
        "    return '05'\n",
        "  elif month == 'JUNIO':\n",
        "    return '06'\n",
        "  elif month == 'JULIO':\n",
        "    return '07'\n",
        "  elif month == 'AGOSTO':\n",
        "    return '08'\n",
        "  elif month == 'SEPTIEMBRE':\n",
        "    return '09'\n",
        "  elif month == 'OCTUBRE':\n",
        "     return '10'\n",
        "  elif month == 'NOVIEMBRE':\n",
        "    return '11'\n",
        "  elif month == 'DICIEMBRE':\n",
        "    return '12'\n",
        "\n",
        "def convertDate(fechas):\n",
        "  index = 0\n",
        "  for element in fechas:\n",
        "    sum = 0\n",
        "    year = element[-4:]\n",
        "    dateAux = year\n",
        "    day = element[:2]\n",
        "    if(int(day) < 10):\n",
        "      day = \"0\" + day[:1]\n",
        "    month = element[5:]\n",
        "    month = ''.join(month.split())[:-6].upper()\n",
        "    month = switchMonth(month)\n",
        "    dateAux = dateAux + \"-\" + month + \"-\" + day\n",
        "\n",
        "    today = date.today()\n",
        "    yearToday = int(str(today)[:4])\n",
        "    monthToday = int(str(today)[5:7])\n",
        "    dayToday = int(str(today)[8:10])\n",
        "    if(yearToday > int(year)):\n",
        "      sum += (yearToday - int(year))*365\n",
        "    sum += (monthToday - int(month))*30\n",
        "    sum += (dayToday - int(day))\n",
        "    datetimeAux = dt.datetime(int(year), int(month), int(day))\n",
        "    train.at[index, 'FechaAux'] = datetimeAux\n",
        "\n",
        "    train.at[index, 'year'] = int(year)\n",
        "    train.at[index, 'month'] = int(month)\n",
        "    train.at[index, 'day'] = int(day)\n",
        "    calculateSeason(int(month), index)\n",
        "\n",
        "    # train.at[index, 'DiasDesdeCarrera'] = sum\n",
        "    index += 1\n",
        "\n",
        "def calculateSeason(month, index):\n",
        "  # train['Invierno'] = 0\n",
        "  # train['Primavera'] = 0\n",
        "  # train['Verano'] = 0\n",
        "  train['Otoño'] = 0\n",
        "  # if(month >= 12 and month <=2):\n",
        "  #    train.at[index, 'Invierno'] = month\n",
        "  # if(month >= 3 and month <=5):\n",
        "  #    train.at[index, 'Primavera'] = month\n",
        "  # if(month >= 6 and month <=8):\n",
        "  #    train.at[index, 'Verano'] = month\n",
        "  if(month >= 9 and month <=11):\n",
        "     train.at[index, 'Otoño'] = month\n",
        "\n",
        "\n",
        "\n",
        "\n",
        "t_array = train[\"Fecha\"]\n",
        "convertDate(t_array)\n",
        "train['FechaAux'].head(120)"
      ]
    },
    {
      "cell_type": "code",
      "execution_count": null,
      "metadata": {
        "id": "wVxaeGrr8y7t"
      },
      "outputs": [],
      "source": [
        "train.head(5)"
      ]
    },
    {
      "cell_type": "code",
      "execution_count": null,
      "metadata": {
        "id": "22J42KX73vcP"
      },
      "outputs": [],
      "source": [
        "from datetime import datetime\n",
        "\n",
        "def daysSincePreviousRace():\n",
        "  for index, row in train.iterrows():\n",
        "\n",
        "    nombreCaballo = row['NombreCaballo']\n",
        "    dict = {}\n",
        "    conta = 0\n",
        "    for indice, fila in train.iterrows():\n",
        "      if( fila['NombreCaballo'] == nombreCaballo):\n",
        "        rowData = fila['FechaAux'].date()\n",
        "        dict[rowData] = indice\n",
        "        conta += 1\n",
        "\n",
        "    listaFechasAux = list(filter(lambda n: n < row['FechaAux'].date(), list(dict.keys())))\n",
        "    if(listaFechasAux):\n",
        "      mostRecentRace = max(listaFechasAux)\n",
        "      jockeyRecent = train.at[dict[mostRecentRace], 'Jinete']\n",
        "      daysDifference = row['FechaAux'].date() - mostRecentRace\n",
        "      train.at[index, 'DaysSincePreviousRace'] = daysDifference.days\n",
        "\n",
        "\n",
        "      if(jockeyRecent == row['Jinete']):\n",
        "         train.at[index, 'SameJockey'] = 1\n",
        "      else:\n",
        "        train.at[index, 'SameJockey'] = 0\n",
        "    else:\n",
        "        train.at[index, 'SameJockey'] = 0\n",
        "        train.at[index, 'DaysSincePreviousRace'] = 45\n",
        "\n",
        "\n",
        "\n",
        "    # Rellenar dictionario con keys que sean las fechas en las que ha participado el caballo y los values , el index en el que aparecen\n",
        "    # Deberias buscar primero las fechas anteriores en las que corrio un caballo antes de este codigo\n",
        "    # y en caso de que no haya fechas hacer algo al respecto\n",
        "    # En caso de qie si haya , por keys.values y coger anteriores y la mas reciente. Obtener key.value de jinete y comprobar con jinete actual .\n",
        "    # Rambien calcular dias de diferencia desde fecha\n",
        "\n",
        "\n",
        "daysSincePreviousRace()\n",
        "train.info()"
      ]
    },
    {
      "cell_type": "code",
      "execution_count": null,
      "metadata": {
        "id": "bxmaiiNYBsWS"
      },
      "outputs": [],
      "source": [
        "train.head()"
      ]
    },
    {
      "cell_type": "code",
      "execution_count": null,
      "metadata": {
        "id": "MWlCcFV4_yEE"
      },
      "outputs": [],
      "source": []
    },
    {
      "cell_type": "markdown",
      "metadata": {
        "id": "pRrKU5JlLmug"
      },
      "source": [
        "## **Tratamiento (NombreCaballo)(Train)**"
      ]
    },
    {
      "cell_type": "code",
      "execution_count": null,
      "metadata": {
        "id": "ZJqWGKnp4RDB"
      },
      "outputs": [],
      "source": [
        "test['Propietario'] = test['Propietario'].str.strip()\n",
        "test['NombreCaballo'] = test['NombreCaballo'].str.strip()\n",
        "test['Jinete'] = test['Jinete'].str.strip()\n",
        "test['Preparador'] = test['Preparador'].str.strip()\n",
        "\n",
        "test['Jinete'] = test['Jinete'].replace('. ', '.')\n",
        "test['Preparador'] = test['Preparador'].replace('. ', '.')\n",
        "test['Propietario'] = test['Propietario'].replace('. ', '.')\n",
        "\n",
        "def removePointSS():\n",
        "  for index, fila in test.iterrows():\n",
        "      test.at[index,'Jinete'] = test.at[index, 'Jinete'].replace('. ', '.')\n",
        "      test.at[index,'Preparador'] = test.at[index, 'Preparador'].replace('. ', '.')\n",
        "      test.at[index, 'Propietario'] = test.at[index, 'Propietario'].replace('. ', '.')\n",
        "  for index, fila in train.iterrows():\n",
        "      train.at[index,'Jinete'] = train.at[index, 'Jinete'].replace('. ', '.')\n",
        "      train.at[index,'Preparador'] = train.at[index,'Preparador'].replace('. ', '.')\n",
        "      train.at[index,'Propietario'] = train.at[index,'Propietario'].replace('. ', '.')\n",
        "\n",
        "removePointSS()\n",
        "\n",
        "print('asd')"
      ]
    },
    {
      "cell_type": "code",
      "execution_count": null,
      "metadata": {
        "id": "-X9s-JwZLuv4"
      },
      "outputs": [],
      "source": [
        "def eraseBlank(list):\n",
        "  aux = []\n",
        "  for element in list:\n",
        "    print(element)\n",
        "    element = element.strip()\n",
        "    aux.append(element)\n",
        "  return aux\n",
        "\n",
        "test['NombreCaballo'] = test['NombreCaballo'].str.partition('(')[0]\n",
        "listaNombreCaballo = test['NombreCaballo'].unique().tolist()\n",
        "\n",
        "listTestHorse= eraseBlank(listaNombreCaballo)\n",
        "\n",
        "print(listTestHorse)"
      ]
    },
    {
      "cell_type": "code",
      "execution_count": null,
      "metadata": {
        "id": "U-nJbwAdR7Ci"
      },
      "outputs": [],
      "source": [
        "listTestHorse.sort()\n",
        "print(listTestHorse)"
      ]
    },
    {
      "cell_type": "code",
      "execution_count": null,
      "metadata": {
        "id": "ZSeprKNlOoSA"
      },
      "outputs": [],
      "source": [
        "test['Jinete'] = test['Jinete'].str.partition('(')[0]\n",
        "lista = test['Jinete'].unique().tolist()\n",
        "\n",
        "listTestJockey = eraseBlank(lista)\n",
        "\n",
        "test['Preparador'] = test['Preparador'].str.partition('(')[0]\n",
        "lista = test['Preparador'].unique().tolist()\n",
        "\n",
        "listTestTrainer = eraseBlank(lista)\n",
        "\n",
        "test['Propietario'] = test['Propietario'].str.partition('(')[0]\n",
        "lista = test['Propietario'].unique().tolist()\n",
        "\n",
        "listTestOwner = eraseBlank(lista)\n",
        "\n"
      ]
    },
    {
      "cell_type": "code",
      "execution_count": null,
      "metadata": {
        "id": "LOxbWh3uid7V"
      },
      "outputs": [],
      "source": [
        "train.info()"
      ]
    },
    {
      "cell_type": "code",
      "execution_count": null,
      "metadata": {
        "id": "6atesVdLq4jl"
      },
      "outputs": [],
      "source": [
        "def changeNotFoundInListHorse(listTrain, listTest):\n",
        "  index = 0\n",
        "  listaApariciones = []\n",
        "  for element in listTrain:\n",
        "    if(element not in listTest):\n",
        "      print(\"No Encontrado:\", element)\n",
        "      train.at[index, 'NombreCaballo'] = 'OtherHorse'\n",
        "    else:\n",
        "      print(\"Encontrado:\", element)\n",
        "      listaApariciones.append(element)\n",
        "    index += 1\n",
        "  return listaApariciones\n",
        "\n",
        "\n",
        "train['NombreCaballo'] = train['NombreCaballo'].str.partition('(')[0]\n",
        "listTrainHorse = train['NombreCaballo'].tolist()\n",
        "listTrainHorse= eraseBlank(listTrainHorse)"
      ]
    },
    {
      "cell_type": "markdown",
      "metadata": {
        "id": "gAhENIVQgUq6"
      },
      "source": [
        "## Calculo Contricantes\n",
        "---"
      ]
    },
    {
      "cell_type": "code",
      "execution_count": null,
      "metadata": {
        "id": "m10TP9xcdekh"
      },
      "outputs": [],
      "source": [
        "def calculoContrincantes(listaF, listaH, longitud):\n",
        "  for fecha in listaF:\n",
        "    for horario in listaH:\n",
        "      index = 0\n",
        "      listaIndex = []\n",
        "      sum = 0\n",
        "      while(index < longitud):\n",
        "        if((train.at[index, 'Fecha'] == fecha ) and (train.at[index, 'Hora'] == horario )):\n",
        "          listaIndex.append(index)\n",
        "          sum += 1\n",
        "        index += 1\n",
        "      for indice in listaIndex:\n",
        "        train.at[indice, 'Contrincantes'] = sum\n",
        "\n",
        "\n",
        "listaFechas = train['Fecha'].unique().tolist()\n",
        "listaHorarios = train['Hora'].unique().tolist()\n",
        "longitud = len(train.index)\n",
        "\n",
        "calculoContrincantes(listaFechas, listaHorarios, longitud)\n",
        "\n",
        "\n"
      ]
    },
    {
      "cell_type": "markdown",
      "metadata": {
        "id": "FNHPqSxQ1-Gs"
      },
      "source": [
        "## Calculo Raiz Puesto\n",
        "---"
      ]
    },
    {
      "cell_type": "code",
      "execution_count": null,
      "metadata": {
        "id": "CVa8uN062CSG"
      },
      "outputs": [],
      "source": [
        "def calculoRaizPuesto(index):\n",
        "  i = 0\n",
        "  while(i < index):\n",
        "    train.at[i, 'Puesto'] = float(((train.at[i, 'Puesto'] / (train.at[i, 'Contrincantes'])**(1. / 3.))))\n",
        "    # train.at[i, 'PuestoOg'] = float(((train.at[i, 'PuestoOg'] / (train.at[i, 'Contrincantes'])**(1. / 3.))))\n",
        "    i += 1\n",
        "\n",
        "train['Puesto'] = train['Puesto'].astype(float)\n",
        "calculoRaizPuesto(len(train.index))\n"
      ]
    },
    {
      "cell_type": "code",
      "execution_count": null,
      "metadata": {
        "id": "-bX78jEsjWaq"
      },
      "outputs": [],
      "source": [
        "pd.set_option('display.max_rows', None)\n",
        "train[['NombreCaballo','Puesto','Contrincantes']].head(501)"
      ]
    },
    {
      "cell_type": "markdown",
      "metadata": {
        "id": "3tLWw1W6pSYA"
      },
      "source": [
        "## **Busqueda Caballos Ganadores en ciertas condiciones**\n",
        "---"
      ]
    },
    {
      "cell_type": "markdown",
      "metadata": {
        "id": "M5dO89LU-UdM"
      },
      "source": [
        "### Busqueda UltimasActuacionesCorto\n",
        "---"
      ]
    },
    {
      "cell_type": "code",
      "execution_count": null,
      "metadata": {
        "id": "dyAp5Bt0-UdN"
      },
      "outputs": [],
      "source": [
        "from datetime import timedelta\n",
        "\n",
        "\n",
        "def ultimasActuacionesIter(indices):\n",
        "  for i in range(indices):\n",
        "    print(i)\n",
        "    puesto = train.at[i, 'PuestoOg'] #Para Train\n",
        "    dividendo = train.at[i, 'Dividendo']\n",
        "    nombre = train.at[i, 'NombreCaballo']\n",
        "    fecha = train.at[i, 'FechaAux']\n",
        "    print(\"Puesto Actual -><\", puesto ,\" y Fecha Actual -->\", fecha)\n",
        "\n",
        "    media = 0.0 # Media carreras\n",
        "    sum = 0.0 # Numero Carreras\n",
        "\n",
        "    media_odds = 0.0\n",
        "    sum_odds = 0.0\n",
        "\n",
        "    for j in range(indices):\n",
        "      fechaAux = train.at[j, 'FechaAux']\n",
        "      nombreAux= train.at[j, 'NombreCaballo']\n",
        "      sinceDate = fecha - timedelta(days=90)\n",
        "      recentDates = fecha - timedelta(days = 15)\n",
        "      # print(\"Since ->\", sinceDate, \"/Fecga-->\", fechaAux, \"/Resul -->\", (sinceDate < fechaAux) )\n",
        "      if((nombreAux == nombre) and (fechaAux < fecha) and (sinceDate < fechaAux)):\n",
        "        print(\"Valor Puesto-->\", train.at[j, 'PuestoOg'], \"/Fecha -->\", fechaAux)\n",
        "        value = 0.0\n",
        "        value = (train.at[j, 'PuestoOg'] )\n",
        "        media += value\n",
        "        sum += 1\n",
        "\n",
        "        # if(recentDates < fechaAux):\n",
        "          # value = value**(1.3);\n",
        "        odds = 0.0\n",
        "        odds = (train.at[j, 'Dividendo'])\n",
        "        if((train.at[j, 'Hipodromo'] != 'Sanlucar')):\n",
        "          media_odds += odds\n",
        "          sum_odds += 1\n",
        "\n",
        "    print(\"Suma Medias -->\", media, \"/\", sum, \"<-- Nº Act Anteriores\")\n",
        "    # Puesto\n",
        "    if(sum != 0):\n",
        "      media /= sum\n",
        "    if(sum == 0):\n",
        "      media = puesto\n",
        "      train.at[i, 'UltimasActuacionesCorto'] = media\n",
        "    else:\n",
        "      train.at[i, 'UltimasActuacionesCorto'] = media\n",
        "    print(i, \"-->\", nombre, \" MediaUltAct->\", media)\n",
        "\n",
        "    # Dividendo\n",
        "    if(sum_odds != 0):\n",
        "      media_odds /= sum_odds\n",
        "    if(sum_odds == 0):\n",
        "      media_odds = dividendo\n",
        "      train.at[i, 'UltimosDividendosCorto'] = media_odds\n",
        "    else:\n",
        "      train.at[i, 'UltimosDividendosCorto'] = media_odds\n",
        "\n",
        "indices = len(train.index)\n",
        "ultimasActuacionesIter(indices)"
      ]
    },
    {
      "cell_type": "code",
      "execution_count": null,
      "metadata": {
        "id": "JKutqi7S-UdP"
      },
      "outputs": [],
      "source": [
        "train['UltimasActuacionesCorto'][:20].value_counts().sort_values(ascending=False) #90 primeras apariencias >= 3"
      ]
    },
    {
      "cell_type": "markdown",
      "metadata": {
        "id": "991FqEu_AbCh"
      },
      "source": [
        "### Busqueda UltimasActuacionesMedio\n",
        "---"
      ]
    },
    {
      "cell_type": "code",
      "execution_count": null,
      "metadata": {
        "id": "kp6J5rMnAbCh"
      },
      "outputs": [],
      "source": [
        "from datetime import timedelta\n",
        "\n",
        "\n",
        "def ultimasActuacionesIter(indices):\n",
        "  for i in range(indices):\n",
        "    print(i)\n",
        "    puesto = train.at[i, 'PuestoOg'] #Para Train\n",
        "    dividendo = train.at[i, 'Dividendo']\n",
        "    nombre = train.at[i, 'NombreCaballo']\n",
        "    fecha = train.at[i, 'FechaAux']\n",
        "    print(\"Puesto Actual -><\", puesto ,\" y Fecha Actual -->\", fecha)\n",
        "\n",
        "    media = 0.0 # Media carreras\n",
        "    sum = 0.0 # Numero Carreras\n",
        "\n",
        "    media_odds = 0.0\n",
        "    sum_odds = 0.0\n",
        "\n",
        "    for j in range(indices):\n",
        "      fechaAux = train.at[j, 'FechaAux']\n",
        "      nombreAux= train.at[j, 'NombreCaballo']\n",
        "      sinceDate = fecha - timedelta(days=120)\n",
        "      recentDates = fecha - timedelta(days = 22)\n",
        "      # print(\"Aince ->\", sinceDate, \"/Fecga-->\", fechaAux, \"/Resul -->\", (sinceDate < fechaAux) )\n",
        "      if((nombreAux == nombre) and (fechaAux < fecha) and (sinceDate < fechaAux)):\n",
        "        print(\"Valor Puesto-->\", train.at[j, 'PuestoOg'], \"/Fecha -->\", fechaAux)\n",
        "        value = 0.0\n",
        "        value = (train.at[j, 'PuestoOg'])\n",
        "        media += value\n",
        "        sum += 1\n",
        "        # if(recentDates < fechaAux):\n",
        "          # value = value**(1.4);\n",
        "\n",
        "        odds = 0.0\n",
        "        odds = (train.at[j, 'Dividendo'])\n",
        "        if((train.at[j, 'Hipodromo'] != 'Sanlucar')):\n",
        "          media_odds += odds\n",
        "          sum_odds += 1\n",
        "\n",
        "    print(\"Suma Medias -->\", media, \"/\", sum, \"<-- Nº Act Anteriores\")\n",
        "    if(sum != 0):\n",
        "      media /= sum\n",
        "    if(sum == 0):\n",
        "      media = puesto\n",
        "      train.at[i, 'UltimasActuacionesMedio'] = media\n",
        "    else:\n",
        "      train.at[i, 'UltimasActuacionesMedio'] = media\n",
        "    print(i, \"-->\", nombre, \" MediaUltAct->\", media)\n",
        "\n",
        "    # Dividendo\n",
        "    if(sum_odds != 0):\n",
        "      media_odds /= sum_odds\n",
        "    if(sum_odds == 0):\n",
        "      media_odds = dividendo\n",
        "      train.at[i, 'UltimosDividendosMedio'] = media_odds\n",
        "    else:\n",
        "      train.at[i, 'UltimosDividendosMedio'] = media_odds\n",
        "\n",
        "\n",
        "\n",
        "indices = len(train.index)\n",
        "ultimasActuacionesIter(indices)"
      ]
    },
    {
      "cell_type": "code",
      "execution_count": null,
      "metadata": {
        "id": "mHxqFbUfAbCh"
      },
      "outputs": [],
      "source": [
        "train['UltimasActuacionesMedio'][:20].value_counts().sort_values(ascending=False) #90 primeras apariencias >= 3"
      ]
    },
    {
      "cell_type": "markdown",
      "metadata": {
        "id": "51Zysh4I7e5c"
      },
      "source": [
        "### Busqueda UltimasActuacionesLargo\n",
        "---"
      ]
    },
    {
      "cell_type": "code",
      "execution_count": null,
      "metadata": {
        "id": "TUaHkN-V7e5d"
      },
      "outputs": [],
      "source": [
        "from datetime import timedelta\n",
        "\n",
        "\n",
        "def ultimasActuacionesIter(indices):\n",
        "  for i in range(indices):\n",
        "    print(i)\n",
        "    puesto = train.at[i, 'PuestoOg'] #Para Train\n",
        "    dividendo = train.at[i, 'Dividendo'] #Para Train\n",
        "\n",
        "    nombre = train.at[i, 'NombreCaballo']\n",
        "    fecha = train.at[i, 'FechaAux']\n",
        "    print(\"Puesto Actual -><\", puesto ,\" y Fecha Actual -->\", fecha)\n",
        "\n",
        "    media = 0.0 # Media carreras\n",
        "    sum = 0.0 # Numero Carreras\n",
        "\n",
        "    media_odds = 0.0\n",
        "    sum_odds = 0.0\n",
        "\n",
        "    for j in range(indices):\n",
        "      fechaAux = train.at[j, 'FechaAux']\n",
        "      nombreAux= train.at[j, 'NombreCaballo']\n",
        "      sinceDate = fecha - timedelta(days=200)\n",
        "      recentDates = fecha - timedelta(days = 30)\n",
        "      # print(\"Aince ->\", sinceDate, \"/Fecga-->\", fechaAux, \"/Resul -->\", (sinceDate < fechaAux) )\n",
        "      if((nombreAux == nombre) and (fechaAux < fecha) and (sinceDate < fechaAux)):\n",
        "        print(\"Valor Puesto-->\", train.at[j, 'PuestoOg'], \"/Fecha -->\", fechaAux)\n",
        "        value = 0.0\n",
        "        value = (train.at[j, 'PuestoOg'] )\n",
        "        media += value\n",
        "        sum += 1\n",
        "        # if(recentDates < fechaAux):\n",
        "          # value = value**(1.5);\n",
        "\n",
        "        odds = 0.0\n",
        "        odds = (train.at[j, 'Dividendo'])\n",
        "        if((train.at[j, 'Hipodromo'] != 'Sanlucar')):\n",
        "          media_odds += odds\n",
        "          sum_odds += 1\n",
        "\n",
        "    print(\"Suma Medias -->\", media, \"/\", sum, \"<-- Nº Act Anteriores\")\n",
        "    if(sum != 0):\n",
        "      media /= sum\n",
        "    if(sum == 0):\n",
        "      media = puesto\n",
        "      train.at[i, 'UltimasActuacionesLargo'] = media\n",
        "    else:\n",
        "      train.at[i, 'UltimasActuacionesLargo'] = media\n",
        "    print(i, \"-->\", nombre, \" MediaUltAct->\", media)\n",
        "\n",
        "    # Dividendo\n",
        "    if(sum_odds != 0):\n",
        "      media_odds /= sum_odds\n",
        "    if(sum_odds == 0):\n",
        "      media_odds = dividendo\n",
        "      train.at[i, 'UltimosDividendosLargo'] = media_odds\n",
        "    else:\n",
        "      train.at[i, 'UltimosDividendosLargo'] = media_odds\n",
        "\n",
        "\n",
        "\n",
        "indices = len(train.index)\n",
        "ultimasActuacionesIter(indices)"
      ]
    },
    {
      "cell_type": "code",
      "execution_count": null,
      "metadata": {
        "id": "9hvAHtD77e5e"
      },
      "outputs": [],
      "source": [
        "train['UltimasActuacionesLargo'][:20].value_counts().sort_values(ascending=False) #90 primeras apariencias >= 3"
      ]
    },
    {
      "cell_type": "markdown",
      "metadata": {
        "id": "CPS_p7HZpCv9"
      },
      "source": [
        "### Busqueda UltimasDistancia(Corto/Medio/Largo)\n",
        "---"
      ]
    },
    {
      "cell_type": "code",
      "execution_count": null,
      "metadata": {
        "id": "EdMzWKAxoHvB"
      },
      "outputs": [],
      "source": [
        "from datetime import timedelta\n",
        "\n",
        "\n",
        "def ultimasDistanciasCorto():\n",
        "  for i in range(len(train.index)):\n",
        "    print(i)\n",
        "    distancia = train.at[i, 'DistanciaMeta'] #Para Train\n",
        "    nombre = train.at[i, 'NombreCaballo']\n",
        "    fecha = train.at[i, 'FechaAux']\n",
        "    print(\"Distancia Actual -><\", distancia ,\" y Fecha Actual -->\", fecha)\n",
        "\n",
        "    media = 0.0 # Media carreras\n",
        "    sum = 0.0 # Numero Carreras\n",
        "\n",
        "    for j in range(len(train.index)):\n",
        "      fechaAux = train.at[j, 'FechaAux']\n",
        "      nombreAux= train.at[j, 'NombreCaballo']\n",
        "      sinceDate = fecha - timedelta(days=60)\n",
        "      # print(\"Aince ->\", sinceDate, \"/Fecga-->\", fechaAux, \"/Resul -->\", (sinceDate < fechaAux) )\n",
        "      if((nombreAux == nombre) and (fechaAux < fecha) and (sinceDate < fechaAux)):\n",
        "        print(\"Valor Distancia-->\", train.at[j, 'DistanciaMeta'], \"/Fecha -->\", fechaAux)\n",
        "        value = 0.0\n",
        "        value = (train.at[j, 'DistanciaMeta'] )\n",
        "        media += value\n",
        "        sum += 1\n",
        "    print(\"Suma Medias -->\", media, \"/\", sum, \"<-- Nº Act Anteriores\")\n",
        "    if(sum != 0):\n",
        "      media /= sum\n",
        "    if(sum == 0):\n",
        "      media = distancia\n",
        "      train.at[i, 'ultimasDistanciasCorto'] = media\n",
        "    else:\n",
        "      train.at[i, 'ultimasDistanciasCorto'] = media\n",
        "    print(i, \"-->\", nombre, \" MediaUltAct->\", media)\n",
        "\n",
        "\n",
        "\n",
        "ultimasDistanciasCorto()"
      ]
    },
    {
      "cell_type": "code",
      "execution_count": null,
      "metadata": {
        "id": "aesEbzw4pQcX"
      },
      "outputs": [],
      "source": [
        "from datetime import timedelta\n",
        "\n",
        "\n",
        "def ultimasDistanciasMedio():\n",
        "  for i in range(len(train.index)):\n",
        "    print(i)\n",
        "    distancia = train.at[i, 'DistanciaMeta'] #Para Train\n",
        "    nombre = train.at[i, 'NombreCaballo']\n",
        "    fecha = train.at[i, 'FechaAux']\n",
        "    print(\"Distancia Actual -><\", distancia ,\" y Fecha Actual -->\", fecha)\n",
        "\n",
        "    media = 0.0 # Media carreras\n",
        "    sum = 0.0 # Numero Carreras\n",
        "\n",
        "    for j in range(len(train.index)):\n",
        "      fechaAux = train.at[j, 'FechaAux']\n",
        "      nombreAux= train.at[j, 'NombreCaballo']\n",
        "      sinceDate = fecha - timedelta(days=120)\n",
        "      # print(\"Aince ->\", sinceDate, \"/Fecga-->\", fechaAux, \"/Resul -->\", (sinceDate < fechaAux) )\n",
        "      if((nombreAux == nombre) and (fechaAux < fecha) and (sinceDate < fechaAux)):\n",
        "        print(\"Valor Distancia-->\", train.at[j, 'DistanciaMeta'], \"/Fecha -->\", fechaAux)\n",
        "        value = 0.0\n",
        "        value = (train.at[j, 'DistanciaMeta'] )\n",
        "        media += value\n",
        "        sum += 1\n",
        "    print(\"Suma Medias -->\", media, \"/\", sum, \"<-- Nº Act Anteriores\")\n",
        "    if(sum != 0):\n",
        "      media /= sum\n",
        "    if(sum == 0):\n",
        "      media = distancia\n",
        "      train.at[i, 'ultimasDistanciasMedio'] = media\n",
        "    else:\n",
        "      train.at[i, 'ultimasDistanciasMedio'] = media\n",
        "    print(i, \"-->\", nombre, \" MediaUltAct->\", media)\n",
        "\n",
        "\n",
        "\n",
        "ultimasDistanciasMedio()"
      ]
    },
    {
      "cell_type": "code",
      "execution_count": null,
      "metadata": {
        "id": "zLfgkM13pQn-"
      },
      "outputs": [],
      "source": [
        "from datetime import timedelta\n",
        "\n",
        "\n",
        "def ultimasDistanciasLargo():\n",
        "  for i in range(len(train.index)):\n",
        "    print(i)\n",
        "    distancia = train.at[i, 'DistanciaMeta'] #Para Train\n",
        "    nombre = train.at[i, 'NombreCaballo']\n",
        "    fecha = train.at[i, 'FechaAux']\n",
        "    print(\"Distancia Actual -><\", distancia ,\" y Fecha Actual -->\", fecha)\n",
        "\n",
        "    media = 0.0 # Media carreras\n",
        "    sum = 0.0 # Numero Carreras\n",
        "\n",
        "    for j in range(len(train.index)):\n",
        "      fechaAux = train.at[j, 'FechaAux']\n",
        "      nombreAux= train.at[j, 'NombreCaballo']\n",
        "      sinceDate = fecha - timedelta(days=200)\n",
        "      # print(\"Aince ->\", sinceDate, \"/Fecga-->\", fechaAux, \"/Resul -->\", (sinceDate < fechaAux) )\n",
        "      if((nombreAux == nombre) and (fechaAux < fecha) and (sinceDate < fechaAux)):\n",
        "        print(\"Valor Distancia-->\", train.at[j, 'DistanciaMeta'], \"/Fecha -->\", fechaAux)\n",
        "        value = 0.0\n",
        "        value = (train.at[j, 'DistanciaMeta'] )\n",
        "        media += value\n",
        "        sum += 1\n",
        "    print(\"Suma Medias -->\", media, \"/\", sum, \"<-- Nº Act Anteriores\")\n",
        "    if(sum != 0):\n",
        "      media /= sum\n",
        "    if(sum == 0):\n",
        "      media = distancia\n",
        "      train.at[i, 'ultimasDistanciasLargo'] = media\n",
        "    else:\n",
        "      train.at[i, 'ultimasDistanciasLargo'] = media\n",
        "    print(i, \"-->\", nombre, \" MediaUltAct->\", media)\n",
        "\n",
        "\n",
        "\n",
        "ultimasDistanciasLargo()"
      ]
    },
    {
      "cell_type": "code",
      "execution_count": null,
      "metadata": {
        "id": "b6eUhUyqppuf"
      },
      "outputs": [],
      "source": []
    },
    {
      "cell_type": "markdown",
      "metadata": {
        "id": "QjeeiBjzpr_k"
      },
      "source": [
        "### Busqueda Distancia\n",
        "---"
      ]
    },
    {
      "cell_type": "code",
      "execution_count": null,
      "metadata": {
        "id": "gKE7dYDjp2JO"
      },
      "outputs": [],
      "source": [
        "def comprobacionTipoDistancia(indice):\n",
        "  tipo = 0   # 0, 1, 2 / Corta, Media, Larga\n",
        "  val = train.at[indice, 'Distancia']\n",
        "  if(val >= 3200):\n",
        "    tipo = 2\n",
        "  if((val >= 1600) & (val <= 2400)):\n",
        "    tipo = 1\n",
        "  return tipo;\n",
        "\n",
        "def destrezaDistancia(indices):\n",
        "  for i in range(indices):\n",
        "    print(i)\n",
        "    tipo = comprobacionTipoDistancia(i)\n",
        "    nombre = train.at[i, 'NombreCaballo']\n",
        "    fecha = train.at[i, 'FechaAux']\n",
        "    media = 0 # Media carreras\n",
        "    sum = 0 # Numero Carreras\n",
        "    mediaAux = 0\n",
        "    sumAux = 0\n",
        "    for j in range(indices):\n",
        "      fechaAux = train.at[j, 'FechaAux']\n",
        "      tipoAux = comprobacionTipoDistancia(j)\n",
        "      nombreAux= train.at[j, 'NombreCaballo']\n",
        "      if(nombreAux == nombre):\n",
        "        if((fechaAux < fecha) & (tipoAux == tipo)):\n",
        "          media += (train.at[j, 'PuestoOg'] )\n",
        "          sum += 1\n",
        "        elif((fechaAux < fecha) & (tipoAux != tipo)):\n",
        "          mediaAux += (train.at[j, 'PuestoOg'] )\n",
        "          sumAux += 1\n",
        "    if(sum != 0):\n",
        "      media /= sum\n",
        "    if(sumAux != 0):\n",
        "      mediaAux /= sumAux\n",
        "    print(i, \"-->\", nombre, \" - Media->\", media, \"/MediaAux-->\", mediaAux, \"/Numero Destreza(\", sum, sumAux, \"):Numero Otros/\") # Si hay mas de 2 participaciones (en esas condiciones y resto ) y con una media al menos un 33% mas baja , es valido\n",
        "    if((sum >= 2) & (sumAux >= 2) & (((1.1* media) < mediaAux))): # Si hay mas de 2 participaciones (en esas condiciones y resto ) y con una media al menos un 33% mas baja , es valido\n",
        "      train.at[i, 'DestrezaDistancia'] = 1\n",
        "    else:\n",
        "      train.at[i, 'DestrezaDistancia'] = 0\n",
        "\n",
        "\n",
        "indices = len(train.index)\n",
        "trainOg = train\n",
        "destrezaDistancia(indices)\n",
        "\n",
        "\n",
        "#Len Intervalos\n",
        "print(len(train[(train['Distancia'] < 1600).tolist()]))\n",
        "print(len(train[((train['Distancia'] >= 1600) & (train['Distancia'] <= 2400) ).tolist()]))\n",
        "print(len(train[(train['Distancia'] >= 3200).tolist()]))"
      ]
    },
    {
      "cell_type": "code",
      "execution_count": null,
      "metadata": {
        "id": "UsRJ5siZmDOR"
      },
      "outputs": [],
      "source": [
        "train['DestrezaDistancia'].value_counts()[:35].sort_values(ascending=False) #90 primeras apariencias >= 3"
      ]
    },
    {
      "cell_type": "code",
      "execution_count": null,
      "metadata": {
        "id": "s_5eCJA6mSkm"
      },
      "outputs": [],
      "source": [
        "pd.set_option('display.max_rows', None)\n",
        "train[['NombreCaballo','DestrezaDistancia']].head(501)"
      ]
    },
    {
      "cell_type": "markdown",
      "metadata": {
        "id": "HQVT4l8wPiMf"
      },
      "source": [
        "### Busqueda Meteorología\n",
        "---"
      ]
    },
    {
      "cell_type": "code",
      "execution_count": null,
      "metadata": {
        "id": "0CnkijZWS627"
      },
      "outputs": [],
      "source": [
        "train['Meteorología'].value_counts()[:35].sort_values(ascending=False) #90 primeras apariencias >= 3"
      ]
    },
    {
      "cell_type": "code",
      "execution_count": null,
      "metadata": {
        "id": "-qUEKN5FQRjf"
      },
      "outputs": [],
      "source": [
        "def comprobacionTipoMeteorologia(indice, listaMeteo):\n",
        "  tipo = -1 # 0 -> Lluvia / 1 -> Nublado / 2 -> Soleado, Despejado\n",
        "  val = train.at[indice, 'Meteorología']\n",
        "  for meteo in listaMeteo:\n",
        "   if(\"Lluvia\" in val or \"precipitaciones\" in val):\n",
        "      tipo = 1\n",
        "   elif(\"Soleado\" in val or \"Despejado\" in val):\n",
        "      tipo = 2\n",
        "   else:\n",
        "     tipo = 0\n",
        "  return tipo;\n",
        "\n",
        "def destrezaMeteorologia(indices, listaMeteo):\n",
        "  for i in range(indices):\n",
        "    print(i)\n",
        "    tipo = comprobacionTipoMeteorologia(i, listaMeteo)\n",
        "    nombre = train.at[i, 'NombreCaballo']\n",
        "    fecha = train.at[i, 'FechaAux']\n",
        "    media = 0 # Media carreras\n",
        "    sum = 0 # Numero Carreras\n",
        "    mediaAux = 0\n",
        "    sumAux = 0\n",
        "    for j in range(indices):\n",
        "      fechaAux = train.at[j, 'FechaAux']\n",
        "      tipoAux = comprobacionTipoMeteorologia(j, listaMeteo)\n",
        "      nombreAux= train.at[j, 'NombreCaballo']\n",
        "      if(nombreAux == nombre):\n",
        "        if((fechaAux < fecha) & (tipoAux == tipo)):\n",
        "          media += (train.at[j, 'PuestoOg'] )\n",
        "          sum += 1\n",
        "        elif((fechaAux < fecha) & (tipoAux != tipo)):\n",
        "          mediaAux += (train.at[j, 'PuestoOg'] )\n",
        "          sumAux += 1\n",
        "    if(sum != 0):\n",
        "      media /= sum\n",
        "    if(sumAux != 0):\n",
        "      mediaAux /= sumAux\n",
        "    print(i, \"-->\", nombre, \" - Media->\", media, \"/MediaAux-->\", mediaAux, \"/Numero Destreza(\", sum, sumAux, \"):Numero Otros/\")\n",
        "    if((sum >= 2) & (sumAux >= 2) & (((1.1* media) < mediaAux))): # Si hay mas de 2 participaciones (en esas condiciones y resto ) y con una media al menos un 33% mas baja , es valido\n",
        "      train.at[i, 'DestrezaMeteo'] = 1\n",
        "    else:\n",
        "      train.at[i, 'DestrezaMeteo'] = 0\n",
        "\n",
        "\n",
        "indices = len(train.index)\n",
        "listaMeteo = train['Meteorología'].unique().tolist()\n",
        "destrezaMeteorologia(indices, listaMeteo)"
      ]
    },
    {
      "cell_type": "code",
      "execution_count": null,
      "metadata": {
        "id": "tuWyDG0hVro0"
      },
      "outputs": [],
      "source": [
        "train['DestrezaMeteo'].value_counts()[:35].sort_values(ascending=False) #90 primeras apariencias >= 3"
      ]
    },
    {
      "cell_type": "markdown",
      "metadata": {
        "id": "lMoHtG0plzfp"
      },
      "source": [
        "### Busqueda Lluvia\n",
        "---"
      ]
    },
    {
      "cell_type": "code",
      "execution_count": null,
      "metadata": {
        "id": "_Rx_DjSzlzfp"
      },
      "outputs": [],
      "source": [
        "train['LLuvia'].value_counts().sort_values(ascending=False) #90 primeras apariencias >= 3"
      ]
    },
    {
      "cell_type": "code",
      "execution_count": null,
      "metadata": {
        "id": "ql25AGFrlzfp"
      },
      "outputs": [],
      "source": [
        "def comprobacionTipoLLuvia(indice, listaLLuvia):\n",
        "  tipo = -1 # 0 -> 0.0 / 1 -> > 0.0 / 2 -> > 1\n",
        "  val = train.at[indice, 'LLuvia']\n",
        "  for meteo in listaMeteo:\n",
        "   if(val > 0):\n",
        "      tipo = 1\n",
        "   elif(val > 1):\n",
        "      tipo = 2\n",
        "   else:\n",
        "     tipo = 0\n",
        "  return tipo;\n",
        "\n",
        "def destrezaMeteorologia(indices, listaLLuvia):\n",
        "  for i in range(indices):\n",
        "    print(i)\n",
        "    tipo = comprobacionTipoLLuvia(i, listaLLuvia)\n",
        "    nombre = train.at[i, 'NombreCaballo']\n",
        "    fecha = train.at[i, 'FechaAux']\n",
        "    media = 0 # Media carreras\n",
        "    sum = 0 # Numero Carreras\n",
        "    mediaAux = 0\n",
        "    sumAux = 0\n",
        "    for j in range(indices):\n",
        "      fechaAux = train.at[j, 'FechaAux']\n",
        "      tipoAux = comprobacionTipoLLuvia(j, listaLLuvia)\n",
        "      nombreAux= train.at[j, 'NombreCaballo']\n",
        "      if(nombreAux == nombre):\n",
        "        if((fechaAux < fecha) & (tipoAux == tipo)):\n",
        "          media += (train.at[j, 'PuestoOg'] )\n",
        "          sum += 1\n",
        "        elif((fechaAux < fecha) & (tipoAux != tipo)):\n",
        "          mediaAux += (train.at[j, 'PuestoOg'] )\n",
        "          sumAux += 1\n",
        "    if(sum != 0):\n",
        "      media /= sum\n",
        "    if(sumAux != 0):\n",
        "      mediaAux /= sumAux\n",
        "    print(i, \"-->\", nombre, \" - Media->\", media, \"/MediaAux-->\", mediaAux, \"/Numero Destreza(\", sum, sumAux, \"):Numero Otros/\")\n",
        "    if((sum >= 2) & (sumAux >= 2) & (((1.1* media) < mediaAux))): # Si hay mas de 2 participaciones (en esas condiciones y resto ) y con una media al menos un 33% mas baja , es valido\n",
        "      train.at[i, 'DestrezaLLuvia'] = 1\n",
        "    else:\n",
        "      train.at[i, 'DestrezaLLuvia'] = 0\n",
        "\n",
        "\n",
        "indices = len(train.index)\n",
        "listaLLuvia = train['LLuvia'].unique().tolist()\n",
        "destrezaMeteorologia(indices, listaLLuvia)"
      ]
    },
    {
      "cell_type": "code",
      "execution_count": null,
      "metadata": {
        "id": "SKA_L8Anlzfq"
      },
      "outputs": [],
      "source": [
        "train['DestrezaLLuvia'].value_counts()[:35].sort_values(ascending=False) #90 primeras apariencias >= 3"
      ]
    },
    {
      "cell_type": "markdown",
      "metadata": {
        "id": "qpZrbmDunXnE"
      },
      "source": [
        "### Busqueda Temperatura\n",
        "---"
      ]
    },
    {
      "cell_type": "code",
      "execution_count": null,
      "metadata": {
        "id": "RCnwsjoNnXnE"
      },
      "outputs": [],
      "source": [
        "train['Temperatura'].value_counts().sort_values(ascending=False) #90 primeras apariencias >= 3"
      ]
    },
    {
      "cell_type": "code",
      "execution_count": null,
      "metadata": {
        "id": "7CK5DRM-nXnE"
      },
      "outputs": [],
      "source": [
        "def comprobacionTipoTemperatura(indice, listaTemperatura):\n",
        "  tipo = -1 # 0 -> < 20 / 1 -> > 30 > x < 20 / 2 -> > > 30\n",
        "  val = train.at[indice, 'Temperatura']\n",
        "  for meteo in listaMeteo:\n",
        "   if(val > 30):\n",
        "      tipo = 2\n",
        "   elif(val < 20):\n",
        "      tipo = 0\n",
        "   else:\n",
        "     tipo = 0\n",
        "  return tipo;\n",
        "\n",
        "def destrezaTemperatura(indices, listaTemperatura):\n",
        "  for i in range(indices):\n",
        "    print(i)\n",
        "    tipo = comprobacionTipoTemperatura(i, listaTemperatura)\n",
        "    nombre = train.at[i, 'NombreCaballo']\n",
        "    fecha = train.at[i, 'FechaAux']\n",
        "    media = 0 # Media carreras\n",
        "    sum = 0 # Numero Carreras\n",
        "    mediaAux = 0\n",
        "    sumAux = 0\n",
        "    for j in range(indices):\n",
        "      fechaAux = train.at[j, 'FechaAux']\n",
        "      tipoAux = comprobacionTipoTemperatura(j, listaTemperatura)\n",
        "      nombreAux= train.at[j, 'NombreCaballo']\n",
        "      if(nombreAux == nombre):\n",
        "        if((fechaAux < fecha) & (tipoAux == tipo)):\n",
        "          media += (train.at[j, 'PuestoOg'] )\n",
        "          sum += 1\n",
        "        elif((fechaAux < fecha) & (tipoAux != tipo)):\n",
        "          mediaAux += (train.at[j, 'PuestoOg'] )\n",
        "          sumAux += 1\n",
        "    if(sum != 0):\n",
        "      media /= sum\n",
        "    if(sumAux != 0):\n",
        "      mediaAux /= sumAux\n",
        "    print(i, \"-->\", nombre, \" - Media->\", media, \"/MediaAux-->\", mediaAux, \"/Numero Destreza(\", sum, sumAux, \"):Numero Otros/\")\n",
        "    if((sum >= 2) & (sumAux >= 2) & (((1.1* media) < mediaAux))): # Si hay mas de 2 participaciones (en esas condiciones y resto ) y con una media al menos un 33% mas baja , es valido\n",
        "      train.at[i, 'DestrezaTemperatura'] = 1\n",
        "    else:\n",
        "      train.at[i, 'DestrezaTemperatura'] = 0\n",
        "\n",
        "\n",
        "indices = len(train.index)\n",
        "listaTemperatura = train['Temperatura'].unique().tolist()\n",
        "destrezaTemperatura(indices, listaTemperatura)"
      ]
    },
    {
      "cell_type": "code",
      "execution_count": null,
      "metadata": {
        "id": "AgLpGMmwnXnF"
      },
      "outputs": [],
      "source": [
        "train['DestrezaTemperatura'].value_counts().sort_values(ascending=False) #90 primeras apariencias >= 3"
      ]
    },
    {
      "cell_type": "markdown",
      "metadata": {
        "id": "Rl8x6qOLvur-"
      },
      "source": [
        "### Busqueda Viento\n",
        "---"
      ]
    },
    {
      "cell_type": "code",
      "execution_count": null,
      "metadata": {
        "id": "byaTETWqvur-"
      },
      "outputs": [],
      "source": [
        "train['Viento'].value_counts().sort_values(ascending=False) #90 primeras apariencias >= 3"
      ]
    },
    {
      "cell_type": "code",
      "execution_count": null,
      "metadata": {
        "id": "gXqjmwolvur-"
      },
      "outputs": [],
      "source": [
        "def comprobacionTipoViento(indice, listaViento):\n",
        "  tipo = -1 # 0 -> < 5 / 1 -> > 30 > x > 5 / 2 -> > > 30\n",
        "  val = train.at[indice, 'Viento']\n",
        "  for meteo in listaMeteo:\n",
        "   if(val > 30):\n",
        "      tipo = 2\n",
        "   elif(val < 5):\n",
        "      tipo = 0\n",
        "   else:\n",
        "     tipo = 0\n",
        "  return tipo;\n",
        "\n",
        "def destrezaViento(indices, listaViento):\n",
        "  for i in range(indices):\n",
        "    print(i)\n",
        "    tipo = comprobacionTipoViento(i, listaViento)\n",
        "    nombre = train.at[i, 'NombreCaballo']\n",
        "    fecha = train.at[i, 'FechaAux']\n",
        "    media = 0 # Media carreras\n",
        "    sum = 0 # Numero Carreras\n",
        "    mediaAux = 0\n",
        "    sumAux = 0\n",
        "    for j in range(indices):\n",
        "      fechaAux = train.at[j, 'FechaAux']\n",
        "      tipoAux = comprobacionTipoViento(j, listaViento)\n",
        "      nombreAux= train.at[j, 'NombreCaballo']\n",
        "      if(nombreAux == nombre):\n",
        "        if((fechaAux < fecha) & (tipoAux == tipo)):\n",
        "          media += (train.at[j, 'PuestoOg'] )\n",
        "          sum += 1\n",
        "        elif((fechaAux < fecha) & (tipoAux != tipo)):\n",
        "          mediaAux += (train.at[j, 'PuestoOg'] )\n",
        "          sumAux += 1\n",
        "    if(sum != 0):\n",
        "      media /= sum\n",
        "    if(sumAux != 0):\n",
        "      mediaAux /= sumAux\n",
        "    print(i, \"-->\", nombre, \" - Media->\", media, \"/MediaAux-->\", mediaAux, \"/Numero Destreza(\", sum, sumAux, \"):Numero Otros/\")\n",
        "    if((sum >= 2) & (sumAux >= 2) & (((1.1* media) < mediaAux))): # Si hay mas de 2 participaciones (en esas condiciones y resto ) y con una media al menos un 33% mas baja , es valido\n",
        "      train.at[i, 'DestrezaViento'] = 1\n",
        "    else:\n",
        "      train.at[i, 'DestrezaViento'] = 0\n",
        "\n",
        "\n",
        "indices = len(train.index)\n",
        "listaViento = train['Viento'].unique().tolist()\n",
        "destrezaViento(indices, listaViento)"
      ]
    },
    {
      "cell_type": "code",
      "execution_count": null,
      "metadata": {
        "id": "4yu6MBjivur-"
      },
      "outputs": [],
      "source": [
        "train['DestrezaViento'].value_counts().sort_values(ascending=False) #90 primeras apariencias >= 3"
      ]
    },
    {
      "cell_type": "markdown",
      "metadata": {
        "id": "pTP8tb-Awmac"
      },
      "source": [
        "### Busqueda Terreno\n",
        "---"
      ]
    },
    {
      "cell_type": "code",
      "execution_count": null,
      "metadata": {
        "id": "rhIJP3Qtwmac"
      },
      "outputs": [],
      "source": [
        "train['Terreno'].value_counts().sort_values(ascending=False) #90 primeras apariencias >= 3"
      ]
    },
    {
      "cell_type": "code",
      "execution_count": null,
      "metadata": {
        "id": "Yd8S2OpIwmad"
      },
      "outputs": [],
      "source": [
        "def comprobacionTipoTerreno(indice, listaTerreno):\n",
        "  tipo = -1 # 0 -> Arena / 1 -> H - Blando / 2 -> H - Bueno\n",
        "  val = train.at[indice, 'Terreno']\n",
        "  if(val == \"H-Bueno\"):\n",
        "    val = val.replace('H-Bueno', 'H - Bueno')\n",
        "    train.at[indice, 'Terreno'] = val\n",
        "  for meteo in listaMeteo:\n",
        "   if(val == 'H - Bueno'):\n",
        "      tipo = 2\n",
        "   elif(val == 'H - Blando'):\n",
        "      tipo = 1\n",
        "   elif(val == 'Arena'):\n",
        "      tipo = 0\n",
        "   elif(val == 'Playa'):\n",
        "      tipo = 3\n",
        "   else:\n",
        "      tipo = 4\n",
        "  return tipo;\n",
        "\n",
        "def destrezaTerreno(indices, listaTerreno):\n",
        "  for i in range(indices):\n",
        "    print(i)\n",
        "    tipo = comprobacionTipoTerreno(i, listaTerreno)\n",
        "    nombre = train.at[i, 'NombreCaballo']\n",
        "    fecha = train.at[i, 'FechaAux']\n",
        "    media = 0 # Media carreras\n",
        "    sum = 0 # Numero Carreras\n",
        "    mediaAux = 0\n",
        "    sumAux = 0\n",
        "    for j in range(indices):\n",
        "      fechaAux = train.at[j, 'FechaAux']\n",
        "      tipoAux = comprobacionTipoTerreno(j, listaTerreno)\n",
        "      nombreAux= train.at[j, 'NombreCaballo']\n",
        "      if(nombreAux == nombre):\n",
        "        if((fechaAux < fecha) & (tipoAux == tipo)):\n",
        "          media += (train.at[j, 'PuestoOg'] )\n",
        "          sum += 1\n",
        "        elif((fechaAux < fecha) & (tipoAux != tipo)):\n",
        "          mediaAux += (train.at[j, 'PuestoOg'] )\n",
        "          sumAux += 1\n",
        "    if(sum != 0):\n",
        "      media /= sum\n",
        "    if(sumAux != 0):\n",
        "      mediaAux /= sumAux\n",
        "    print(i, \"-->\", nombre, \" - Media->\", media, \"/MediaAux-->\", mediaAux, \"/Numero Destreza(\", sum, sumAux, \"):Numero Otros/\")\n",
        "    if((sum >= 2) & (sumAux >= 2) & (((1.1* media) < mediaAux))): # Si hay mas de 2 participaciones (en esas condiciones y resto ) y con una media al menos un 33% mas baja , es valido\n",
        "      train.at[i, 'DestrezaTerreno'] = 1\n",
        "    else:\n",
        "      train.at[i, 'DestrezaTerreno'] = 0\n",
        "\n",
        "\n",
        "indices = len(train.index)\n",
        "listaTerreno = train['Terreno'].unique().tolist()\n",
        "destrezaTerreno(indices, listaTerreno)"
      ]
    },
    {
      "cell_type": "code",
      "execution_count": null,
      "metadata": {
        "id": "N00YBqxQyMMe"
      },
      "outputs": [],
      "source": [
        "train['DestrezaTerreno'].value_counts().sort_values(ascending=False) #90 primeras apariencias >= 3"
      ]
    },
    {
      "cell_type": "markdown",
      "metadata": {
        "id": "cszh0PPWqego"
      },
      "source": [
        "## **Tratamiento (Peso)**"
      ]
    },
    {
      "cell_type": "code",
      "execution_count": null,
      "metadata": {
        "id": "U5ZxXKUOqooe"
      },
      "outputs": [],
      "source": [
        "train['Peso'] = train['Peso'].str.partition('-')[0]\n",
        "train['Peso'] = train['Peso'].str[:2]\n",
        "\n"
      ]
    },
    {
      "cell_type": "code",
      "execution_count": null,
      "metadata": {
        "id": "PpO4SGiMqj1C"
      },
      "outputs": [],
      "source": [
        "train['Peso'].value_counts()[:35].sort_values(ascending=False) #90 primeras apariencias >= 3"
      ]
    },
    {
      "cell_type": "markdown",
      "metadata": {
        "id": "YtUAW4RbsgBI"
      },
      "source": [
        "## **Tratamiento (Edad)**"
      ]
    },
    {
      "cell_type": "code",
      "execution_count": null,
      "metadata": {
        "id": "grrr_9F2sij7"
      },
      "outputs": [],
      "source": [
        "train['Edad'].value_counts()[:35].sort_values(ascending=False) #90 primeras apariencias >= 3"
      ]
    },
    {
      "cell_type": "markdown",
      "metadata": {
        "id": "7cG1h6OssuhQ"
      },
      "source": [
        "## **Tratamiento (Mantilla)**"
      ]
    },
    {
      "cell_type": "code",
      "execution_count": null,
      "metadata": {
        "id": "TEVrL5dzswdZ"
      },
      "outputs": [],
      "source": [
        "train['Mantilla'].value_counts()[:35].sort_values(ascending=False) #90 primeras apariencias >= 3"
      ]
    },
    {
      "cell_type": "markdown",
      "metadata": {
        "id": "8h8B8ApIs-bo"
      },
      "source": [
        "## **Tratamiento (Propietario)(Train)**"
      ]
    },
    {
      "cell_type": "code",
      "execution_count": null,
      "metadata": {
        "id": "pedFR5rLtC5y"
      },
      "outputs": [],
      "source": [
        "def changeNotFoundInListOwner(listTrain, listTest):\n",
        "  index = 0\n",
        "  listaApariciones = []\n",
        "  for element in listTrain:\n",
        "    if(element not in listTest):\n",
        "      print(\"No Encontrado:\", element)\n",
        "      train.at[index, 'Propietario'] = 'OtherOwner'\n",
        "    else:\n",
        "      print(\"Encontrado:\", element)\n",
        "      listaApariciones.append(element)\n",
        "    index += 1\n",
        "  return listaApariciones\n",
        "\n",
        "\n",
        "\n",
        "#Lógica de lista de Test en \"Tratamiento(NombreCaballo)\"\n",
        "\n",
        "listTrainOwner = train['Propietario'].tolist()\n",
        "listTrainOwner= eraseBlank(listTrainOwner)\n"
      ]
    },
    {
      "cell_type": "markdown",
      "metadata": {
        "id": "VBp5FYGQte6u"
      },
      "source": [
        "## **Tratamiento (Preparador)(Train)**"
      ]
    },
    {
      "cell_type": "code",
      "execution_count": null,
      "metadata": {
        "id": "oHjy0gIZtigN"
      },
      "outputs": [],
      "source": [
        "def changeNotFoundInListTrainer(listTrain, listTest):\n",
        "  index = 0\n",
        "  listaApariciones = []\n",
        "  for element in listTrain:\n",
        "    if(element not in listTest):\n",
        "      print(\"No Encontrado:\", element)\n",
        "      train.at[index, 'Preparador'] = 'OtherTrainer'\n",
        "    else:\n",
        "      print(\"Encontrado:\", element)\n",
        "      listaApariciones.append(element)\n",
        "    index += 1\n",
        "  return listaApariciones\n",
        "\n",
        "#Lógica de lista de Test en \"Tratamiento(NombreCaballo)\"\n",
        "\n",
        "listTrainTrainer = train['Preparador'].tolist()\n",
        "listTrainTrainer= eraseBlank(listTrainTrainer)\n"
      ]
    },
    {
      "cell_type": "markdown",
      "metadata": {
        "id": "IZ-owC1wtr2D"
      },
      "source": [
        "## **Tratamiento (Jinete)(Train)**"
      ]
    },
    {
      "cell_type": "code",
      "execution_count": null,
      "metadata": {
        "id": "SbcaVGyYtxmc"
      },
      "outputs": [],
      "source": [
        "def changeNotFoundInListJockey(listTrain, listTest):\n",
        "  index = 0\n",
        "  listaApariciones = []\n",
        "  for element in listTrain:\n",
        "    if(element not in listTest):\n",
        "      print(\"No Encontrado:\", element)\n",
        "      train.at[index, 'Jinete'] = 'OtherJockey'\n",
        "    else:\n",
        "      print(\"Encontrado:\", element)\n",
        "      listaApariciones.append(element)\n",
        "    index += 1\n",
        "  return listaApariciones\n",
        "\n",
        "#Lógica de lista de Test en \"Tratamiento(NombreCaballo)\"\n",
        "\n",
        "train['Jinete'] = train['Jinete'].str.partition('(')[0]\n",
        "listTrainJockey = train['Jinete'].tolist()\n",
        "listTrainJockey= eraseBlank(listTrainJockey)\n",
        "\n",
        "print('asd')\n"
      ]
    },
    {
      "cell_type": "markdown",
      "metadata": {
        "id": "-o4Y1o8zpBkw"
      },
      "source": [
        "## **Tratamiento Change Not Found In Test(NombreCaballo)(Propieatario)(Preparador)(Jinete)**"
      ]
    },
    {
      "cell_type": "code",
      "execution_count": null,
      "metadata": {
        "id": "-IeUWScS0hiO"
      },
      "outputs": [],
      "source": [
        "listTestHorse = [x.upper() for x in listTestHorse]\n",
        "listTestOwner = [x.upper() for x in listTestOwner]\n",
        "listTestTrainer = [x.upper() for x in listTestTrainer]\n",
        "listTestJockey = [x.upper() for x in listTestJockey]\n",
        "\n"
      ]
    },
    {
      "cell_type": "code",
      "execution_count": null,
      "metadata": {
        "id": "jnzs1eItOTd2"
      },
      "outputs": [],
      "source": [
        "listAparicionesHorse= changeNotFoundInListHorse(listTrainHorse, listTestHorse)\n",
        "\n",
        "train['Propietario'] = train['Propietario'].str.strip()\n",
        "train['NombreCaballo'] = train['NombreCaballo'].str.strip()\n",
        "train['Jinete'] = train['Jinete'].str.strip()\n",
        "train['Preparador'] = train['Preparador'].str.strip()\n",
        "\n"
      ]
    },
    {
      "cell_type": "code",
      "execution_count": null,
      "metadata": {
        "id": "uEsNeUMc3lJB"
      },
      "outputs": [],
      "source": [
        "train['NombreCaballo'].head(45)"
      ]
    },
    {
      "cell_type": "code",
      "execution_count": null,
      "metadata": {
        "id": "ygJDBeg4rANZ"
      },
      "outputs": [],
      "source": [
        "train['Propietario'] = train['Propietario'].str.partition('(')[0]\n",
        "\n",
        "listAparicionesOwner = changeNotFoundInListOwner(listTrainOwner, listTestOwner)\n",
        "train['Propietario'].head(15)"
      ]
    },
    {
      "cell_type": "code",
      "execution_count": null,
      "metadata": {
        "id": "iYbdAgbhq_VD"
      },
      "outputs": [],
      "source": [
        "listAparicionesTrainer = changeNotFoundInListTrainer(listTrainTrainer, listTestTrainer)\n",
        "train['Preparador'].head(15)"
      ]
    },
    {
      "cell_type": "code",
      "execution_count": null,
      "metadata": {
        "id": "NMeh63MFs6GF"
      },
      "outputs": [],
      "source": [
        "print(listTestJockey)"
      ]
    },
    {
      "cell_type": "code",
      "execution_count": null,
      "metadata": {
        "id": "-OiG4a9VrFqr"
      },
      "outputs": [],
      "source": [
        "listAparicionesJockey = changeNotFoundInListJockey(listTrainJockey, listTestJockey)\n",
        "train['Jinete'].head(15)"
      ]
    },
    {
      "cell_type": "code",
      "execution_count": null,
      "metadata": {
        "id": "UuL1CSksnpek"
      },
      "outputs": [],
      "source": [
        "train['NombreCaballo'].value_counts()[:35].sort_values(ascending=False) #90 primeras apariencias >= 3"
      ]
    },
    {
      "cell_type": "markdown",
      "metadata": {
        "id": "Vm1c9qJnu4-u"
      },
      "source": [
        "## **Tratamiento (Problemas)**\n"
      ]
    },
    {
      "cell_type": "code",
      "execution_count": null,
      "metadata": {
        "id": "VUInjzYlvls2"
      },
      "outputs": [],
      "source": [
        "train['Problemas'].value_counts()[:35].sort_values(ascending=False) #90 primeras apariencias >= 3"
      ]
    },
    {
      "cell_type": "code",
      "execution_count": null,
      "metadata": {
        "id": "gC-9eodqu6bg"
      },
      "outputs": [],
      "source": [
        "train['Problemas'] = train['Problemas'].fillna('0')\n",
        "train['Problema_Nulo'] = np.where(train['Problemas'].str.contains('0'),1,0)\n",
        "train['Problema_1'] = np.where(train['Problemas'].str.contains('1'),1,0)\n",
        "train['Problema_2'] = np.where(train['Problemas'].str.contains('2'),1,0)\n",
        "train['Problema_3'] = np.where(train['Problemas'].str.contains('3'),1,0)\n",
        "train['Problema_4'] = np.where(train['Problemas'].str.contains('4'),1,0)\n",
        "train['Problema_5'] = np.where(train['Problemas'].str.contains('5'),1,0)\n",
        "train['Problema_6'] = np.where(train['Problemas'].str.contains('6'),1,0)\n",
        "train['Problema_7'] = np.where(train['Problemas'].str.contains('7'),1,0)\n",
        "train['Problema_8'] = np.where(train['Problemas'].str.contains('8'),1,0)\n",
        "train.head()\n",
        "\n"
      ]
    },
    {
      "cell_type": "markdown",
      "metadata": {
        "id": "FaTopoV10syt"
      },
      "source": [
        "## **Tratamiento (UltimasActuaciones)**\n"
      ]
    },
    {
      "cell_type": "code",
      "execution_count": null,
      "metadata": {
        "id": "Fn1Y7u_YRDx0"
      },
      "outputs": [],
      "source": [
        "# def count_lastRaces(arrayLast):\n",
        "#   index = 0\n",
        "#   for element in arrayLast:\n",
        "#     element = element.replace(',', '')\n",
        "#     element = element.replace('[', '')\n",
        "#     element = element[:len(element)-1]\n",
        "#     i = 0\n",
        "#     j = 0\n",
        "#     sum = 0\n",
        "#     if 'Debutante' in element:\n",
        "#       sum = 10\n",
        "#       element = []\n",
        "#     else:\n",
        "#       element = element.replace('NP', '08')\n",
        "#       element = element.replace('Desc', '08')\n",
        "#       element = element.replace(' ', '')\n",
        "#       while(i < len(element)):\n",
        "#         if(i == 0 and len(element)>4):\n",
        "#           j = j+2\n",
        "#           sum += int(element[i:j])**1.3\n",
        "#           i = i+2\n",
        "#         elif (i == 2 and len(element)>4):\n",
        "#           j = j+2\n",
        "#           sum += int(element[i:j])**1.2\n",
        "#           i = i+2\n",
        "#         else:\n",
        "#           j = j+2\n",
        "#           print(index)\n",
        "#           sum += int(element[i:j])\n",
        "#           i = i+2\n",
        "#       print('******INDEX ', index+2, '*****')\n",
        "#       print('Sum -->', sum, '/Len -->', len(element))\n",
        "#       sum = sum / len(element)\n",
        "#       print('Result -->', sum, '/Element -->' ,element)\n",
        "#     train.at[index, 'MediaUltimasActuaciones'] = sum\n",
        "#     train.at[index, 'CantidadActuaciones'] = (len(element)/2)\n",
        "#     index += 1\n",
        "\n",
        "\n",
        "\n",
        "\n",
        "\n",
        "# t_array = train[\"UltimasActuaciones\"]\n",
        "# count_lastRaces(t_array)"
      ]
    },
    {
      "cell_type": "code",
      "execution_count": null,
      "metadata": {
        "id": "a6D-jazfZK_R"
      },
      "outputs": [],
      "source": [
        "train[['NombreCaballo','UltimasActuacionesLargo']].head(128)"
      ]
    },
    {
      "cell_type": "markdown",
      "metadata": {
        "id": "pO3y7XmtVGKF"
      },
      "source": [
        "## **Tratamiento (Hora)**\n"
      ]
    },
    {
      "cell_type": "code",
      "execution_count": null,
      "metadata": {
        "id": "tEq7CD02wR-0"
      },
      "outputs": [],
      "source": [
        "train['Hora'] = train['Hora'].str.replace(':', '')"
      ]
    },
    {
      "cell_type": "markdown",
      "metadata": {
        "id": "mSBaoWTwVMGs"
      },
      "source": [
        "## **Tratamiento (Terreno)**\n"
      ]
    },
    {
      "cell_type": "code",
      "execution_count": null,
      "metadata": {
        "id": "atUehBWViH6E"
      },
      "outputs": [],
      "source": [
        "train.info()"
      ]
    },
    {
      "cell_type": "markdown",
      "metadata": {
        "id": "AT3WFAY1VV6m"
      },
      "source": [
        "## **Tratamiento (Distancia)**\n"
      ]
    },
    {
      "cell_type": "markdown",
      "metadata": {
        "id": "wSIoYoCBVZvz"
      },
      "source": [
        "## **Tratamiento (Tipo)**\n"
      ]
    },
    {
      "cell_type": "markdown",
      "metadata": {
        "id": "lmxe8YbuVe9c"
      },
      "source": [
        "## **Tratamiento (SentidoHipodromo)**\n"
      ]
    },
    {
      "cell_type": "markdown",
      "metadata": {
        "id": "IXmLbU8sViiz"
      },
      "source": [
        "## **Tratamiento (Meteorologia)**\n"
      ]
    },
    {
      "cell_type": "markdown",
      "metadata": {
        "id": "P0nFs5yJVk-E"
      },
      "source": [
        "## **Tratamiento (Lluvia)**\n"
      ]
    },
    {
      "cell_type": "markdown",
      "metadata": {
        "id": "K2C6KoQNVnSN"
      },
      "source": [
        "## **Tratamiento (Viento)**\n"
      ]
    },
    {
      "cell_type": "markdown",
      "metadata": {
        "id": "cUiYNaafVuSf"
      },
      "source": [
        "## **Tratamiento (Hipodromo)**\n"
      ]
    },
    {
      "cell_type": "markdown",
      "metadata": {
        "id": "R1PqUKx7cm1H"
      },
      "source": [
        "# Visualizacion"
      ]
    },
    {
      "cell_type": "code",
      "execution_count": null,
      "metadata": {
        "id": "ksvsSNTP8R63"
      },
      "outputs": [],
      "source": [
        "train.describe()"
      ]
    },
    {
      "cell_type": "code",
      "execution_count": null,
      "metadata": {
        "id": "wpX8azW_E7iY"
      },
      "outputs": [],
      "source": [
        "train.hist(figsize = (40,30))"
      ]
    },
    {
      "cell_type": "code",
      "execution_count": null,
      "metadata": {
        "id": "UAK9CmejFKN0"
      },
      "outputs": [],
      "source": [
        "# train['Puesto'].corr(train['MediaUltimasActuaciones'])"
      ]
    },
    {
      "cell_type": "code",
      "execution_count": null,
      "metadata": {
        "id": "ky1hRPgnFhUM"
      },
      "outputs": [],
      "source": [
        "from scipy.stats import kendalltau, pearsonr, spearmanr\n",
        "def kendall_pval(x,y):\n",
        "    return kendalltau(x,y)[1]\n",
        "\n",
        "def pearsonr_pval(x,y):\n",
        "    return pearsonr(x,y)[1]\n",
        "\n",
        "def spearmanr_pval(x,y):\n",
        "    return spearmanr(x,y)[1]\n",
        "\n",
        "\n",
        "print(\"Correlation -->\", train['Puesto'].corr(train['UltimasActuacionesLargo']))\n",
        "print(train['Puesto'].corr(train['UltimasActuacionesLargo'], method=kendall_pval))\n",
        "print(train['Puesto'].corr(train['UltimasActuacionesLargo'], method=pearsonr_pval))\n",
        "print(train['Puesto'].corr(train['UltimasActuacionesLargo'], method=spearmanr_pval))\n",
        "\n",
        "print(\"Correlation -->\", train['Puesto'].corr(train['UltimasActuacionesCorto']))\n",
        "print(train['Puesto'].corr(train['UltimasActuacionesCorto'], method=kendall_pval))\n",
        "print(train['Puesto'].corr(train['UltimasActuacionesCorto'], method=pearsonr_pval))\n",
        "print(train['Puesto'].corr(train['UltimasActuacionesCorto'], method=spearmanr_pval))"
      ]
    },
    {
      "cell_type": "code",
      "execution_count": null,
      "metadata": {
        "id": "D4AxCeH5FHSt"
      },
      "outputs": [],
      "source": [
        "C_mat = train.corr()\n",
        "fig = plt.figure(figsize = (15,15))\n",
        "\n",
        "#Correlation ranges from -1 to +1. Values closer to zero means there is no linear trend between the two variables.\n",
        "#The close to 1 the correlation is the more positively correlated they are; that is as one increases so does the other and the closer to 1 the stronger this relationship is.\n",
        "#A correlation closer to -1 is similar, but instead of both increasing one variable will decrease as the other increases.\n",
        "\n",
        "sns.heatmap(C_mat, vmax = .8, square = True, cmap=\"PiYG\")\n",
        "plt.show()"
      ]
    },
    {
      "cell_type": "code",
      "execution_count": null,
      "metadata": {
        "id": "8I-8VFtocpqj"
      },
      "outputs": [],
      "source": [
        "plt.figure(figsize=(12,8))\n",
        "sns.boxplot(data=train, x='Distancia', y='Puesto')\n",
        "\n",
        "plt.show()"
      ]
    },
    {
      "cell_type": "code",
      "execution_count": null,
      "metadata": {
        "id": "jZuBN_M-l4Nk"
      },
      "outputs": [],
      "source": [
        "print(len(train[(train['Distancia'] < 1600).tolist()]))\n",
        "\n",
        "print(len(train[((train['Distancia'] >= 1600) & (train['Distancia'] <= 2400) ).tolist()]))\n",
        "\n",
        "print(len(train[(train['Distancia'] >= 3200).tolist()]))"
      ]
    },
    {
      "cell_type": "code",
      "execution_count": null,
      "metadata": {
        "id": "M3o8h0QOcraE"
      },
      "outputs": [],
      "source": [
        "plt.figure(figsize=(12,8))\n",
        "sns.boxplot(data=train, x='Hora', y='Puesto')\n",
        "\n",
        "plt.show()"
      ]
    },
    {
      "cell_type": "code",
      "execution_count": null,
      "metadata": {
        "id": "rcz5Q6pOgqOq"
      },
      "outputs": [],
      "source": [
        "plt.figure(figsize=(50,8))\n",
        "sns.boxplot(data=train, x='Tipo', y='Puesto')\n",
        "\n",
        "plt.show()"
      ]
    },
    {
      "cell_type": "code",
      "execution_count": null,
      "metadata": {
        "id": "HLw83GVVgs2-"
      },
      "outputs": [],
      "source": [
        "plt.figure(figsize=(40,8))\n",
        "sns.boxplot(data=train, x='Meteorología', y='Puesto')\n",
        "\n",
        "plt.show()"
      ]
    },
    {
      "cell_type": "code",
      "execution_count": null,
      "metadata": {
        "id": "pCO2kvGFgvU2"
      },
      "outputs": [],
      "source": [
        "plt.figure(figsize=(40,8))\n",
        "sns.boxplot(data=train, x='LLuvia', y='Puesto')\n",
        "\n",
        "plt.show()"
      ]
    },
    {
      "cell_type": "code",
      "execution_count": null,
      "metadata": {
        "id": "ol6nFvIWqivn"
      },
      "outputs": [],
      "source": [
        "plt.figure(figsize=(12,8))\n",
        "sns.boxplot(data=train, x='Viento', y='Puesto')\n",
        "\n",
        "plt.show()"
      ]
    },
    {
      "cell_type": "code",
      "execution_count": null,
      "metadata": {
        "id": "uPRY73NArcFK"
      },
      "outputs": [],
      "source": [
        "plt.figure(figsize=(12,8))\n",
        "sns.boxplot(data=train, x='Temperatura', y='Puesto')\n",
        "\n",
        "plt.show()"
      ]
    },
    {
      "cell_type": "markdown",
      "metadata": {
        "id": "JCyC0Ia-eqj7"
      },
      "source": [
        "# Preprocesamiento Final"
      ]
    },
    {
      "cell_type": "code",
      "execution_count": null,
      "metadata": {
        "id": "bqepCaJ7pQT7"
      },
      "outputs": [],
      "source": [
        "train.info()"
      ]
    },
    {
      "cell_type": "code",
      "execution_count": null,
      "metadata": {
        "id": "yWXVchZK_Sv3"
      },
      "outputs": [],
      "source": [
        "pd.set_option('display.max_columns', None)\n",
        "train.head(20)"
      ]
    },
    {
      "cell_type": "code",
      "execution_count": null,
      "metadata": {
        "id": "nk-2Y-G4xtgj"
      },
      "outputs": [],
      "source": [
        "# def conversion(): #Colocado\n",
        "#   for i in range(len(train.index)):\n",
        "#     if(train.at[i ,'Contrincantes'] < 11):\n",
        "#       if(train.at[i ,'PuestoOg'] == 1 or train.at[i, 'PuestoOg'] == 2):\n",
        "#         train.at[i, 'Puesto'] = 1\n",
        "#       else:\n",
        "#         train.at[i, 'Puesto'] = 0\n",
        "#     else:\n",
        "#       if(train.at[i, 'PuestoOg'] == 1 or train.at[i, 'PuestoOg'] == 2 or train.at[i, 'PuestoOg'] == 3):\n",
        "#          train.at[i, 'Puesto'] = 1\n",
        "#       else:\n",
        "#         train.at[i, 'Puesto'] = 0\n",
        "\n",
        "# conversion()"
      ]
    },
    {
      "cell_type": "code",
      "execution_count": null,
      "metadata": {
        "id": "lOMA34jHb_ee"
      },
      "outputs": [],
      "source": [
        "def conversion(): #Ganadores\n",
        "    for i in range(len(train.index)):\n",
        "      if(train.at[i ,'PuestoOg'] == 1):\n",
        "        train.at[i, 'Puesto'] = 1\n",
        "      else:\n",
        "        train.at[i, 'Puesto'] = 0\n",
        "\n",
        "conversion()"
      ]
    },
    {
      "cell_type": "code",
      "execution_count": null,
      "metadata": {
        "id": "RcoXrgUdx3pV"
      },
      "outputs": [],
      "source": [
        "# train['PuestoChanged'] = train['Puesto'] //Temporal\n",
        "trainPuesto = train"
      ]
    },
    {
      "cell_type": "code",
      "execution_count": null,
      "metadata": {
        "id": "p_nddnkyDkg6"
      },
      "outputs": [],
      "source": [
        "print(train['DistanciaMeta'].unique().tolist())\n"
      ]
    },
    {
      "cell_type": "code",
      "execution_count": null,
      "metadata": {
        "id": "P-rFC62tnTJ5"
      },
      "outputs": [],
      "source": [
        "import sklearn\n",
        "import sklearn.compose\n",
        "#Solo ejecutar previo a esto product para separar las palabras\n",
        "trainDistancia = train\n",
        "column_transformer_train = sklearn.compose.ColumnTransformer(transformers=[\n",
        "    (\"drop\", \"drop\", ['Fecha','year','day', 'Problemas','Hora', 'FechaAux', 'Otoño', 'month', 'Distancia', 'Mantilla', 'Terreno', 'Tipo', 'Meteorología', 'LLuvia', 'Viento', 'Temperatura', 'Hipodromo', 'Contrincantes', 'DistanciaMeta', 'PuestoOg']),\n",
        "    (\"scale\", sklearn.preprocessing.StandardScaler(), []),\n",
        "    # (\"num\", sklearn.preprocessing.MinMaxScaler(), ['Distancia', 'Edad', 'Peso']),\n",
        "    (\"one-hot\", sklearn.preprocessing.OneHotEncoder(handle_unknown=\"ignore\"), ['NombreCaballo','Propietario', 'Preparador', 'Jinete']),\n",
        "], remainder='passthrough');\n",
        "\n",
        "# column_transformer = sklearn.compose.ColumnTransformer(transformers=[\n",
        "#     (\"drop\", \"drop\", ['UltimasActuaciones','Fecha','year','day', 'Problemas','Hora']),\n",
        "#     (\"scale\", sklearn.preprocessing.StandardScaler(), []),\n",
        "#     (\"num\", sklearn.preprocessing.MinMaxScaler(), ['Distancia', 'Edad', 'Peso']),\n",
        "#     (\"one-hot\", sklearn.preprocessing.OneHotEncoder(handle_unknown=\"ignore\"), ['NombreCaballo', 'Mantilla','Propietario', 'Preparador', 'Jinete', 'FechaAux', 'Terreno', 'Tipo', 'Meteorología', 'LLuvia', 'Viento', 'TemperaturaMax', 'TemperaturaMin', 'Hipodromo']),\n",
        "# ], remainder='passthrough');"
      ]
    },
    {
      "cell_type": "code",
      "execution_count": null,
      "metadata": {
        "id": "K8Pil183vZ-_"
      },
      "outputs": [],
      "source": [
        "train = train.reset_index()\n",
        "X=train\n",
        "X = X.drop([\"Puesto\"], axis = 1)\n",
        "X_trainAuxNN = X"
      ]
    },
    {
      "cell_type": "code",
      "execution_count": null,
      "metadata": {
        "id": "Zv-MOXk6SQ9i"
      },
      "outputs": [],
      "source": [
        "X_transform = column_transformer_train.fit_transform(X)\n",
        "\n",
        "X_transformAux = pd.DataFrame(column_transformer_train.fit_transform(X).toarray())"
      ]
    },
    {
      "cell_type": "code",
      "execution_count": null,
      "metadata": {
        "id": "3JSHAEo6FLHE"
      },
      "outputs": [],
      "source": [
        "\n",
        "# from scipy.sparse import csr_matrix\n",
        "\n",
        "# # create a NumPy array\n",
        "\n",
        "# X_transform_matrix = csr_matrix(X_transform)\n",
        "# X_transformAux = pd.DataFrame(X_transform_matrix.toarray())"
      ]
    },
    {
      "cell_type": "code",
      "execution_count": null,
      "metadata": {
        "id": "NqI3k89KY-u3"
      },
      "outputs": [],
      "source": [
        "column_transformer_train.get_feature_names_out()"
      ]
    },
    {
      "cell_type": "code",
      "execution_count": null,
      "metadata": {
        "id": "wDcx2HPswpdr"
      },
      "outputs": [],
      "source": [
        "train\n",
        "X_transform\n",
        "X = X_transform\n",
        "y = train[\"Puesto\"] #Nos quedamos con todo menos la columna objetivo, en este caso 'price'\n",
        "\n",
        "\n",
        "X_trainNN = X\n",
        "X_trainArrayNN = X_transformAux\n",
        "\n",
        "y_trainNN = y"
      ]
    },
    {
      "cell_type": "code",
      "execution_count": null,
      "metadata": {
        "id": "QIaYVmOXyUhP"
      },
      "outputs": [],
      "source": [
        "# train[['NombreCaballo','MediaUltimasActuaciones']].head(128)"
      ]
    },
    {
      "cell_type": "code",
      "execution_count": null,
      "metadata": {
        "id": "iu9A7E_1w67d"
      },
      "outputs": [],
      "source": [
        "from sklearn.model_selection import train_test_split\n",
        "\n",
        "X_train, X_test, y_train, y_test = train_test_split(X, y, test_size=0.33, random_state=1920)"
      ]
    },
    {
      "cell_type": "markdown",
      "metadata": {
        "id": "0ljpc_EKv3zR"
      },
      "source": [
        "# Optimización\n",
        "---"
      ]
    },
    {
      "cell_type": "code",
      "execution_count": null,
      "metadata": {
        "id": "Lv303sRUw8h1"
      },
      "outputs": [],
      "source": [
        "from sklearn.linear_model import LinearRegression\n",
        "from sklearn.linear_model import Ridge\n",
        "from sklearn import linear_model\n",
        "from sklearn.linear_model import ElasticNet\n",
        "from sklearn.linear_model import SGDRegressor\n",
        "\n",
        "#Regresión lineal\n",
        "linear = LinearRegression()\n",
        "linear.fit(X_train, y_train)\n",
        "\n",
        "#Regresión de Ridge\n",
        "\n",
        "ridge = Ridge()\n",
        "ridge.fit(X_train, y_train)\n",
        "\n",
        "#LASSO\n",
        "\n",
        "lasso = linear_model.Lasso()\n",
        "lasso.fit(X_train, y_train)\n",
        "\n",
        "#ElasticNet\n",
        "\n",
        "elasticnet = ElasticNet()\n",
        "elasticnet.fit(X_train, y_train);\n",
        "\n",
        "\n",
        "reg = SGDRegressor(max_iter=50, random_state=43)\n",
        "reg.fit(X_train, y_train);"
      ]
    },
    {
      "cell_type": "code",
      "execution_count": null,
      "metadata": {
        "id": "rXV9YRpcw-Gf"
      },
      "outputs": [],
      "source": [
        "from sklearn.linear_model import ElasticNet\n",
        "from sklearn.metrics import mean_absolute_error\n",
        "import xgboost as xgb\n",
        "\n",
        "for i in range(0, 11):\n",
        "  for j in range(0, 11):\n",
        "    #     xgb_model = xgb.XGBRegressor(objective = 'reg:squarederror', reg_alpha=i*0.1, reg_lambda=j*0.1, verbosity=0, random_state=42, eta=0.2, tree_method=\"exact\") 148\n",
        "\n",
        "    elasticnet = ElasticNet(alpha=i*0.1, l1_ratio=j*0.1)\n",
        "    elasticnet.fit(X_train, y_train)\n",
        "    print('ElasticNet (train): ' + str(mean_absolute_error(y_train, elasticnet.predict(X_train))))\n",
        "    print(f'{i} {j} ' + str(mean_absolute_error(y_test, elasticnet.predict(X_test))))"
      ]
    },
    {
      "cell_type": "code",
      "execution_count": null,
      "metadata": {
        "id": "1vD8jvFqw_S8"
      },
      "outputs": [],
      "source": [
        "from sklearn.linear_model import ElasticNet\n",
        "from sklearn.metrics import mean_absolute_error\n",
        "import xgboost as xgb\n",
        "\n",
        "for i in range(0, 11):\n",
        "  for j in range(0, 11):\n",
        "    #     xgb_model = xgb.XGBRegressor(objective = 'reg:squarederror', reg_alpha=i*0.1, reg_lambda=j*0.1, verbosity=0, random_state=42, eta=0.2, tree_method=\"exact\") 148\n",
        "\n",
        "    xgb_model = xgb.XGBRegressor(objective = 'reg:squarederror', reg_alpha=i*0.1, reg_lambda=j*0.1, verbosity=0, random_state=42, eta=0.2, tree_method=\"exact\") #subsample ojo\n",
        "    xgb_model.fit(X_train, y_train)\n",
        "    print('ElasticNet (train): ' + str(mean_absolute_error(y_train, xgb_model.predict(X_train))))\n",
        "    print(f'{i} {j} ' + str(mean_absolute_error(y_test, xgb_model.predict(X_test))))"
      ]
    },
    {
      "cell_type": "code",
      "execution_count": null,
      "metadata": {
        "id": "VcXpNFGq4cV2"
      },
      "outputs": [],
      "source": [
        "import xgboost as xgb\n",
        "\n",
        "xgb_model = xgb.XGBRegressor(objective = 'reg:squarederror', reg_alpha=7*0.1, reg_lambda=4*0.1, verbosity=0, random_state=42, eta=0.2, tree_method=\"exact\")\n",
        "\n",
        "xgb_model.fit(X, y)\n",
        "#print('Lineal (train): ' + str(mean_absolute_error(y_train, xgb_model.predict(X))))\n",
        "#print('Lineal (test): ' + str(mean_absolute_error(y_test, xgb_model.predict(X_test))))"
      ]
    },
    {
      "cell_type": "code",
      "execution_count": null,
      "metadata": {
        "id": "ynw-X-hr4e1A"
      },
      "outputs": [],
      "source": [
        "!pip install catboost\n",
        "import catboost as cb"
      ]
    },
    {
      "cell_type": "code",
      "execution_count": null,
      "metadata": {
        "id": "a1gcUS2H4gnK"
      },
      "outputs": [],
      "source": [
        "params = {\"depth\": 10, \"learning_rate\": 0.5, \"iterations\": 1, \"l2_leaf_reg\": 5} #Iterations CatBoost\n",
        "model_cat_tun = cb.CatBoostClassifier(**params)\n",
        "model_cat_tun.fit(X,y)"
      ]
    },
    {
      "cell_type": "code",
      "execution_count": null,
      "metadata": {
        "id": "qQMuaE1MVL14"
      },
      "outputs": [],
      "source": [
        "# Import the model we are using\n",
        "from sklearn.ensemble import RandomForestRegressor\n",
        "\n",
        "\n",
        "# Instantiate model with 1000 decision trees\n",
        "rf = RandomForestRegressor(n_estimators = 2000, random_state = 42)\n",
        "# Train the model on training data\n",
        "rf.fit(X, y);"
      ]
    },
    {
      "cell_type": "code",
      "execution_count": null,
      "metadata": {
        "id": "60xMWbsmxsxy"
      },
      "outputs": [],
      "source": [
        "\n",
        "from sklearn.tree import DecisionTreeRegressor\n",
        "\n",
        "# Build decision tree\n",
        "tree=DecisionTreeRegressor(max_depth=20)\n",
        "tree.fit(X, y);"
      ]
    },
    {
      "cell_type": "code",
      "execution_count": null,
      "metadata": {
        "id": "jSm-yQLI4j7s"
      },
      "outputs": [],
      "source": [
        "from sklearn.metrics import mean_absolute_error\n",
        "\n",
        "\n",
        "print('RandomForest (train): ' + str(mean_absolute_error(y_train,  rf.predict(X_train))))\n",
        "print('RandomForest (test): ' + str(mean_absolute_error(y_test,  rf.predict(X_test))))\n",
        "\n",
        "\n",
        "print('---')\n",
        "\n",
        "\n",
        "print('XGB (train): ' + str(mean_absolute_error(y_train, xgb_model.predict(X_train))))\n",
        "print('XGB (test): ' + str(mean_absolute_error(y_test, xgb_model.predict(X_test))))\n",
        "\n",
        "\n",
        "\n",
        "print('---')\n",
        "\n",
        "print('Cat (train): ' + str(mean_absolute_error(y_train, model_cat_tun.predict(X_train))))\n",
        "print('Cat (test): ' + str(mean_absolute_error(y_test, model_cat_tun.predict(X_test))))\n",
        "\n",
        "\n",
        "\n",
        "print('---')\n",
        "\n",
        "print('Lineal (train): ' + str(mean_absolute_error(y_train, linear.predict(X_train))))\n",
        "print('Lineal (test): ' + str(mean_absolute_error(y_test, linear.predict(X_test))))\n",
        "\n",
        "print('---')\n",
        "\n",
        "print('Ridge (train): ' + str(mean_absolute_error(y_train, ridge.predict(X_train))))\n",
        "print('Ridge (test): ' + str(mean_absolute_error(y_test, ridge.predict(X_test))))\n",
        "\n",
        "print('---')\n",
        "\n",
        "print('LASSO (train): ' + str(mean_absolute_error(y_train, lasso.predict(X_train))))\n",
        "print('LASSO (test): ' + str(mean_absolute_error(y_test, lasso.predict(X_test))))\n",
        "\n",
        "print('---')\n",
        "\n",
        "print('ElasticNet (train): ' + str(mean_absolute_error(y_train, elasticnet.predict(X_train))))\n",
        "print('ElasticNet (test): ' + str(mean_absolute_error(y_test, elasticnet.predict(X_test))))\n",
        "\n",
        "print('---')\n",
        "\n",
        "print('SGD (train): ' + str(mean_absolute_error(y_train, reg.predict(X_train))))\n",
        "print('SGD (test): ' + str(mean_absolute_error(y_test, reg.predict(X_test))))"
      ]
    },
    {
      "cell_type": "code",
      "execution_count": null,
      "metadata": {
        "id": "IcRcAhfc4lme"
      },
      "outputs": [],
      "source": [
        "from sklearn.metrics import accuracy_score\n",
        "\n",
        "print('Lineal (train): ' + str(linear.score(X_train, y_train)))\n",
        "print('Lineal (test): ' + str(linear.score(X_test, y_test)))\n",
        "print('---')\n",
        "print('Ridge (train): ' + str(ridge.score(X_train, y_train)))\n",
        "print('Ridge (test): ' + str(ridge.score(X_test, y_test)))\n",
        "print('---')\n",
        "print('LASSO (train): ' + str(lasso.score(X_train, y_train)))\n",
        "print('LASSO (test): ' + str(lasso.score(X_test, y_test)))\n",
        "print('---')\n",
        "print('ElasticNet (train): ' + str(elasticnet.score(X_train, y_train)))\n",
        "print('ElasticNet (test): ' + str(elasticnet.score(X_test, y_test)))"
      ]
    },
    {
      "cell_type": "code",
      "execution_count": null,
      "metadata": {
        "id": "09rf5dY04muJ"
      },
      "outputs": [],
      "source": [
        "from sklearn.metrics import mean_squared_error\n",
        "from math import sqrt\n",
        "print('Lineal (train): ' + str(sqrt(mean_squared_error(y_train, linear.predict(X_train)))))\n",
        "print('Lineal (test): ' + str(sqrt(mean_squared_error(y_test, linear.predict(X_test)))))\n",
        "print('---')\n",
        "print('Ridge (train): ' + str(sqrt(mean_squared_error(y_train, ridge.predict(X_train)))))\n",
        "print('Ridge (test): ' + str(sqrt(mean_squared_error(y_test, ridge.predict(X_test)))))\n",
        "print('---')\n",
        "print('LASSO (train): ' + str(sqrt(mean_squared_error(y_train, lasso.predict(X_train)))))\n",
        "print('LASSO (test): ' + str(sqrt(mean_squared_error(y_test, lasso.predict(X_test)))))\n",
        "print('---')\n",
        "print('ElasticNet (train): ' + str(sqrt(mean_squared_error(y_train, elasticnet.predict(X_train)))))\n",
        "print('ElasticNet (test): ' + str(sqrt(mean_squared_error(y_test, elasticnet.predict(X_test)))))"
      ]
    },
    {
      "cell_type": "markdown",
      "metadata": {
        "id": "E1VOY56rAXmq"
      },
      "source": [
        "Linear\n",
        "---"
      ]
    },
    {
      "cell_type": "code",
      "execution_count": null,
      "metadata": {
        "id": "mY8EIhB7_gVL"
      },
      "outputs": [],
      "source": [
        "from sklearn.model_selection import GridSearchCV"
      ]
    },
    {
      "cell_type": "code",
      "execution_count": null,
      "metadata": {
        "id": "AzNSozol_20c"
      },
      "outputs": [],
      "source": [
        "fit_intercept = [True, False]\n",
        "copy_x = [True, False]\n",
        "normalize = [True, False]"
      ]
    },
    {
      "cell_type": "code",
      "execution_count": null,
      "metadata": {
        "id": "PgQ2RTUi-GCT"
      },
      "outputs": [],
      "source": [
        "linear_Grid = GridSearchCV(\n",
        "  estimator = LinearRegression(),\n",
        "  param_grid = dict(fit_intercept = fit_intercept, copy_X = copy_x),\n",
        "  cv = 5\n",
        ")\n",
        "linear_Grid.fit(X, y)"
      ]
    },
    {
      "cell_type": "code",
      "execution_count": null,
      "metadata": {
        "id": "0a0YfqJPh_zr"
      },
      "outputs": [],
      "source": [
        "linear_Grid.best_estimator_"
      ]
    },
    {
      "cell_type": "code",
      "execution_count": null,
      "metadata": {
        "id": "3EruRja-AIst"
      },
      "outputs": [],
      "source": [
        "linear_Grid.best_params_"
      ]
    },
    {
      "cell_type": "code",
      "execution_count": null,
      "metadata": {
        "id": "25Nb13pTG_y6"
      },
      "outputs": [],
      "source": [
        "linear_Grid.best_score_"
      ]
    },
    {
      "cell_type": "code",
      "execution_count": null,
      "metadata": {
        "id": "300m24n9AqOK"
      },
      "outputs": [],
      "source": [
        "linear = LinearRegression(fit_intercept=True, copy_X=True)\n",
        "linear.fit(X_train, y_train)"
      ]
    },
    {
      "cell_type": "code",
      "execution_count": null,
      "metadata": {
        "id": "gTpG2tRlCMVB"
      },
      "outputs": [],
      "source": [
        "print(\"MAE: \")\n",
        "print('Train: ' + str(mean_absolute_error(y_train, linear.predict(X_train))))\n",
        "print('Test: ' + str(mean_absolute_error(y_test, linear.predict(X_test))))\n",
        "print(\"---------------------------------------\")\n",
        "print(\"R^2: \")\n",
        "print(\"Train: \" + str(linear.score(X_train, y_train)))\n",
        "print(\"Test: \" + str(linear.score(X_test, y_test)))\n",
        "print(\"---------------------------------------\")\n",
        "print(\"RMST: \")\n",
        "print('Train: ' + str(sqrt(mean_squared_error(y_train, linear.predict(X_train)))))\n",
        "print('Test: ' + str(sqrt(mean_squared_error(y_train, linear.predict(X_train)))))"
      ]
    },
    {
      "cell_type": "markdown",
      "metadata": {
        "id": "laYT9xJwDQeC"
      },
      "source": [
        "Se puede observar que no mejora ya que los parámetros que nos da el GridSearch son los mismos que tiene de base."
      ]
    },
    {
      "cell_type": "markdown",
      "metadata": {
        "id": "NqJKZLOSDsyB"
      },
      "source": [
        "Ridge\n",
        "---"
      ]
    },
    {
      "cell_type": "code",
      "execution_count": null,
      "metadata": {
        "id": "D8RFc_ufDxdZ"
      },
      "outputs": [],
      "source": [
        "ridge_Grid = GridSearchCV(\n",
        "  estimator = Ridge(),\n",
        "  param_grid = dict(alpha= np.linspace(0, 1, 50), copy_X = copy_x, fit_intercept=fit_intercept),\n",
        "  cv = 5\n",
        "\n",
        ")\n",
        "ridge_Grid.fit(X, y)"
      ]
    },
    {
      "cell_type": "code",
      "execution_count": null,
      "metadata": {
        "id": "uVTNrcR3l3w7"
      },
      "outputs": [],
      "source": [
        "ridge_Grid.best_estimator_"
      ]
    },
    {
      "cell_type": "code",
      "execution_count": null,
      "metadata": {
        "id": "RUYsSh3kDxf4"
      },
      "outputs": [],
      "source": [
        "ridge_Grid.best_params_"
      ]
    },
    {
      "cell_type": "code",
      "execution_count": null,
      "metadata": {
        "id": "KLxVAk5jl6pg"
      },
      "outputs": [],
      "source": [
        "ridge_Grid.best_score_"
      ]
    },
    {
      "cell_type": "code",
      "execution_count": null,
      "metadata": {
        "id": "BPfYc8maDxnI"
      },
      "outputs": [],
      "source": [
        "ridge = Ridge(alpha=0.32653061224489793, copy_X=True, fit_intercept=True,\n",
        "       random_state=1337, solver='auto', tol=0.001)\n",
        "ridge.fit(X_train, y_train)"
      ]
    },
    {
      "cell_type": "code",
      "execution_count": null,
      "metadata": {
        "id": "gGPOsyq5D10p"
      },
      "outputs": [],
      "source": [
        "print(\"MAE: \")\n",
        "print('Train: ' + str(mean_absolute_error(y_train, ridge.predict(X_train))))\n",
        "print('Test: ' + str(mean_absolute_error(y_test, ridge.predict(X_test))))\n",
        "print(\"---------------------------------------\")\n",
        "print(\"R^2: \")\n",
        "print(\"Train: \" + str(ridge.score(X_train, y_train)))\n",
        "print(\"Test: \" + str(ridge.score(X_test, y_test)))\n",
        "print(\"---------------------------------------\")\n",
        "print(\"RMST: \")\n",
        "print('Train: ' + str(sqrt(mean_squared_error(y_train, ridge.predict(X_train)))))\n",
        "print('Test: ' + str(sqrt(mean_squared_error(y_test, ridge.predict(X_test)))))"
      ]
    },
    {
      "cell_type": "markdown",
      "metadata": {
        "id": "81swjhxYklmc"
      },
      "source": [
        "Parece que empeora ligeramente con respecto a los valores por defecto que tenía antes."
      ]
    },
    {
      "cell_type": "markdown",
      "metadata": {
        "id": "zoNlsctKMr42"
      },
      "source": [
        "LASSO\n",
        "---"
      ]
    },
    {
      "cell_type": "code",
      "execution_count": null,
      "metadata": {
        "id": "0iM6cHwP2ldQ"
      },
      "outputs": [],
      "source": [
        "lasso_Grid = GridSearchCV(estimator = linear_model.Lasso(), param_grid = dict(alpha= np.linspace(0.05,1,20)), cv = 5)\n",
        "lasso_Grid.fit(X, y)"
      ]
    },
    {
      "cell_type": "code",
      "execution_count": null,
      "metadata": {
        "id": "alIQtheS2llV"
      },
      "outputs": [],
      "source": [
        "lasso_Grid.best_params_"
      ]
    },
    {
      "cell_type": "code",
      "execution_count": null,
      "metadata": {
        "id": "wQ6NsKWS2ls1"
      },
      "outputs": [],
      "source": [
        "lasso = linear_model.Lasso(alpha=1, random_state=1337)\n",
        "lasso.fit(X_train, y_train)"
      ]
    },
    {
      "cell_type": "code",
      "execution_count": null,
      "metadata": {
        "id": "BK4GQtLL2l0C"
      },
      "outputs": [],
      "source": [
        "print(\"MAE: \")\n",
        "print('Train: ' + str(mean_absolute_error(y_train, lasso.predict(X_train))))\n",
        "print('Test: ' + str(mean_absolute_error(y_test, lasso.predict(X_test))))\n",
        "print(\"---------------------------------------\")\n",
        "print(\"R^2: \")\n",
        "print(\"Train: \" + str(lasso.score(X_train, y_train)))\n",
        "print(\"Test: \" + str(lasso.score(X_test, y_test)))\n",
        "print(\"---------------------------------------\")\n",
        "print(\"RMST: \")\n",
        "print('Train: ' + str(sqrt(mean_squared_error(y_train, lasso.predict(X_train)))))\n",
        "print('Test: ' + str(sqrt(mean_squared_error(y_train, lasso.predict(X_train)))))"
      ]
    },
    {
      "cell_type": "markdown",
      "metadata": {
        "id": "vyydY4zBIIaC"
      },
      "source": [
        "Se queda igual que con los valores de base."
      ]
    },
    {
      "cell_type": "markdown",
      "metadata": {
        "id": "ZtAIFzIZOx93"
      },
      "source": [
        "ElasticNet\n",
        "---"
      ]
    },
    {
      "cell_type": "markdown",
      "metadata": {
        "id": "j9eChANL709v"
      },
      "source": [
        "Este regresor a veces funciona y a veces explota, dejamos guardado los resultados de cuando ha funcionado. De todos modos nos sale el siguiente error:<br>\n",
        "\n",
        "\n",
        "```\n",
        "# /usr/local/lib/python3.6/dist-packages/sklearn linear_model_coordinate_descent.py:476: ConvergenceWarning: Objective did not converge.\n",
        "```\n",
        "\n"
      ]
    },
    {
      "cell_type": "code",
      "execution_count": null,
      "metadata": {
        "id": "F8Qp6_727e11"
      },
      "outputs": [],
      "source": [
        "elastic_Grid = GridSearchCV(\n",
        "  estimator = ElasticNet(),\n",
        "  param_grid = dict(alpha=np.linspace(0.1,1,2), l1_ratio=np.linspace(0,1,2)),\n",
        "  cv = 5\n",
        ")\n",
        "elastic_Grid.fit(X, y)"
      ]
    },
    {
      "cell_type": "code",
      "execution_count": null,
      "metadata": {
        "id": "kDpl5-JtmrlO"
      },
      "outputs": [],
      "source": [
        "elastic_Grid.best_params_"
      ]
    },
    {
      "cell_type": "code",
      "execution_count": null,
      "metadata": {
        "id": "PhiAH0PEmrGY"
      },
      "outputs": [],
      "source": [
        "elasticnet = ElasticNet(alpha = 1.0, l1_ratio = 1, fit_intercept=True, copy_X=True)\n",
        "elasticnet.fit(X_train, y_train)"
      ]
    },
    {
      "cell_type": "code",
      "execution_count": null,
      "metadata": {
        "id": "N6QpoZnWmqB9"
      },
      "outputs": [],
      "source": [
        "print(\"MAE: \")\n",
        "print('Train: ' + str(mean_absolute_error(y_train, elasticnet.predict(X_train))))\n",
        "print('Test: ' + str(mean_absolute_error(y_test, elasticnet.predict(X_test))))\n",
        "print(\"---------------------------------------\")\n",
        "print(\"R^2: \")\n",
        "print(\"Train: \" + str(lasso.score(X_train, y_train)))\n",
        "print(\"Test: \" + str(lasso.score(X_test, y_test)))\n",
        "print(\"---------------------------------------\")\n",
        "print(\"RMST: \")\n",
        "print('Train: ' + str(sqrt(mean_squared_error(y_train, elasticnet.predict(X_train)))))\n",
        "print('Test: ' + str(sqrt(mean_squared_error(y_train, elasticnet.predict(X_train)))))"
      ]
    },
    {
      "cell_type": "markdown",
      "metadata": {
        "id": "e3RikP5HVUSW"
      },
      "source": [
        "# Validación Cruzada\n",
        "---"
      ]
    },
    {
      "cell_type": "markdown",
      "metadata": {
        "id": "KJkv475twgAc"
      },
      "source": [
        "## Linear"
      ]
    },
    {
      "cell_type": "markdown",
      "metadata": {
        "id": "AV_DNK0Cwu29"
      },
      "source": [
        "MAE"
      ]
    },
    {
      "cell_type": "code",
      "execution_count": null,
      "metadata": {
        "id": "N_57qnnBvv7A"
      },
      "outputs": [],
      "source": [
        "from sklearn.model_selection import cross_val_score\n",
        "from sklearn.model_selection import RepeatedKFold\n",
        "from sklearn.model_selection import cross_validate"
      ]
    },
    {
      "cell_type": "code",
      "execution_count": null,
      "metadata": {
        "id": "XOPNmINIv5fu"
      },
      "outputs": [],
      "source": [
        "cv_scores_linearMAE = cross_val_score(\n",
        "                estimator = linear,\n",
        "                X         = X,\n",
        "                y         = y,\n",
        "                scoring   = 'neg_mean_absolute_error',\n",
        "                cv        = 5\n",
        "             )\n",
        "print(f\"Métricas validación cruzada: {cv_scores_linearMAE}\")\n",
        "print(f\"Média métricas de validación cruzada: {cv_scores_linearMAE.mean()}\")"
      ]
    },
    {
      "cell_type": "markdown",
      "metadata": {
        "id": "HJhfmfvvwyP8"
      },
      "source": [
        "R^2"
      ]
    },
    {
      "cell_type": "code",
      "execution_count": null,
      "metadata": {
        "id": "F6Q4gC0bLXNn"
      },
      "outputs": [],
      "source": [
        "cv_scores_linearR = cross_val_score(\n",
        "                estimator = linear,\n",
        "                X         = X,\n",
        "                y         = y,\n",
        "                scoring   = 'r2',\n",
        "                cv        = 5\n",
        "             )\n",
        "print(f\"Métricas validación cruzada: {cv_scores_linearR}\")\n",
        "print(f\"Média métricas de validación cruzada: {cv_scores_linearR.mean()}\")"
      ]
    },
    {
      "cell_type": "markdown",
      "metadata": {
        "id": "LCEc01CHw1ZE"
      },
      "source": [
        "RMSE"
      ]
    },
    {
      "cell_type": "code",
      "execution_count": null,
      "metadata": {
        "id": "4QPkbFjhLXlY"
      },
      "outputs": [],
      "source": [
        "cv_scores_linearRMSE = cross_val_score(\n",
        "                estimator = linear,\n",
        "                X         = X,\n",
        "                y         = y,\n",
        "                scoring   = 'neg_mean_squared_error',\n",
        "                cv        = 5\n",
        "             )\n",
        "print(f\"Métricas validación cruzada: {cv_scores_linearRMSE}\")\n",
        "print(f\"Média métricas de validación cruzada: {cv_scores_linearRMSE.mean()}\")"
      ]
    },
    {
      "cell_type": "markdown",
      "metadata": {
        "id": "aX7A5lFxKi1Z"
      },
      "source": [
        "## Ridge\n",
        "---"
      ]
    },
    {
      "cell_type": "markdown",
      "metadata": {
        "id": "i7T6L4eLK5cY"
      },
      "source": [
        "MAE"
      ]
    },
    {
      "cell_type": "code",
      "execution_count": null,
      "metadata": {
        "id": "eP244yZaL6OY"
      },
      "outputs": [],
      "source": [
        "cv_scores_ridgeMAE = cross_val_score(\n",
        "                estimator = ridge,\n",
        "                X         = X,\n",
        "                y         = y,\n",
        "                scoring   = 'neg_mean_absolute_error',\n",
        "                cv        = 5\n",
        "             )\n",
        "print(f\"Métricas validación cruzada: {cv_scores_ridgeMAE}\")\n",
        "print(f\"Média métricas de validación cruzada: {cv_scores_ridgeMAE.mean()}\")"
      ]
    },
    {
      "cell_type": "markdown",
      "metadata": {
        "id": "cyasqzbTK7nH"
      },
      "source": [
        "R^2"
      ]
    },
    {
      "cell_type": "code",
      "execution_count": null,
      "metadata": {
        "id": "1qB7zRVCL663"
      },
      "outputs": [],
      "source": [
        "cv_scores_ridgeR = cross_val_score(\n",
        "                estimator = ridge,\n",
        "                X         = X,\n",
        "                y         = y,\n",
        "                scoring   = 'r2',\n",
        "                cv        = 5\n",
        "             )\n",
        "print(f\"Métricas validación cruzada: {cv_scores_ridgeR}\")\n",
        "print(f\"Média métricas de validación cruzada: {cv_scores_ridgeR.mean()}\")"
      ]
    },
    {
      "cell_type": "markdown",
      "metadata": {
        "id": "3Vm-JkDoK9DX"
      },
      "source": [
        "RMSE"
      ]
    },
    {
      "cell_type": "code",
      "execution_count": null,
      "metadata": {
        "id": "i4gq6Dc6L7W3"
      },
      "outputs": [],
      "source": [
        "cv_scores_ridgeRMSE = cross_val_score(\n",
        "                estimator = ridge,\n",
        "                X         = X,\n",
        "                y         = y,\n",
        "                scoring   = 'neg_mean_squared_error',\n",
        "                cv        = 5\n",
        "             )\n",
        "print(f\"Métricas validación cruzada: {cv_scores_ridgeRMSE}\")\n",
        "print(f\"Média métricas de validación cruzada: {cv_scores_ridgeRMSE.mean()}\")"
      ]
    },
    {
      "cell_type": "markdown",
      "metadata": {
        "id": "3hIBAw3uKm1f"
      },
      "source": [
        "## LASSO\n",
        "---"
      ]
    },
    {
      "cell_type": "markdown",
      "metadata": {
        "id": "u5XQ5xWFK_IW"
      },
      "source": [
        "MAE"
      ]
    },
    {
      "cell_type": "code",
      "execution_count": null,
      "metadata": {
        "id": "ihKKRPvOMj04"
      },
      "outputs": [],
      "source": [
        "cv_scores_lassoMAE = cross_val_score(\n",
        "                estimator = lasso,\n",
        "                X         = X,\n",
        "                y         = y,\n",
        "                scoring   = 'neg_mean_absolute_error',\n",
        "                cv        = 5\n",
        "             )\n",
        "print(f\"Métricas validación cruzada: {cv_scores_lassoMAE}\")\n",
        "print(f\"Média métricas de validación cruzada: {cv_scores_lassoMAE.mean()}\")"
      ]
    },
    {
      "cell_type": "markdown",
      "metadata": {
        "id": "e7RkvicIK_8e"
      },
      "source": [
        "R^2"
      ]
    },
    {
      "cell_type": "code",
      "execution_count": null,
      "metadata": {
        "id": "J40hMq5CMkR-"
      },
      "outputs": [],
      "source": [
        "cv_scores_lassoR = cross_val_score(\n",
        "                estimator = lasso,\n",
        "                X         = X,\n",
        "                y         = y,\n",
        "                scoring   = 'r2',\n",
        "                cv        = 5\n",
        "             )\n",
        "print(f\"Métricas validación cruzada: {cv_scores_lassoR}\")\n",
        "print(f\"Média métricas de validación cruzada: {cv_scores_lassoR.mean()}\")"
      ]
    },
    {
      "cell_type": "markdown",
      "metadata": {
        "id": "c8LuPfVZLBGP"
      },
      "source": [
        "RMSE"
      ]
    },
    {
      "cell_type": "code",
      "execution_count": null,
      "metadata": {
        "id": "brqdCkmVMk5G"
      },
      "outputs": [],
      "source": [
        "cv_scores_lassoRMSE = cross_val_score(\n",
        "                estimator = lasso,\n",
        "                X         = X,\n",
        "                y         = y,\n",
        "                scoring   = 'neg_mean_squared_error',\n",
        "                cv        = 5\n",
        "             )\n",
        "print(f\"Métricas validación cruzada: {cv_scores_lassoRMSE}\")\n",
        "print(f\"Média métricas de validación cruzada: {cv_scores_lassoRMSE.mean()}\")"
      ]
    },
    {
      "cell_type": "markdown",
      "metadata": {
        "id": "OWEb9BGDKp53"
      },
      "source": [
        "## ElasticNet\n",
        "---"
      ]
    },
    {
      "cell_type": "markdown",
      "metadata": {
        "id": "8mYny4-cLMV_"
      },
      "source": [
        "MAE"
      ]
    },
    {
      "cell_type": "code",
      "execution_count": null,
      "metadata": {
        "id": "-2NeCduoNWdB"
      },
      "outputs": [],
      "source": [
        "cv_scores_netMAE = cross_val_score(\n",
        "                estimator = elasticnet,\n",
        "                X         = X,\n",
        "                y         = y,\n",
        "                scoring   = 'neg_mean_absolute_error',\n",
        "                cv        = 5\n",
        "             )\n",
        "print(f\"Métricas validación cruzada: {cv_scores_netMAE}\")\n",
        "print(f\"Média métricas de validación cruzada: {cv_scores_netMAE.mean()}\")"
      ]
    },
    {
      "cell_type": "markdown",
      "metadata": {
        "id": "hiPNTcHYLN-3"
      },
      "source": [
        "R^2"
      ]
    },
    {
      "cell_type": "code",
      "execution_count": null,
      "metadata": {
        "id": "_hcKpKQ-NW-_"
      },
      "outputs": [],
      "source": [
        "cv_scores_netR = cross_val_score(\n",
        "                estimator = elasticnet,\n",
        "                X         = X,\n",
        "                y         = y,\n",
        "                scoring   = 'r2',\n",
        "                cv        = 5\n",
        "             )\n",
        "print(f\"Métricas validación cruzada: {cv_scores_netR}\")\n",
        "print(f\"Média métricas de validación cruzada: {cv_scores_netR.mean()}\")"
      ]
    },
    {
      "cell_type": "markdown",
      "metadata": {
        "id": "yOePOV1eLPdX"
      },
      "source": [
        "RMSE"
      ]
    },
    {
      "cell_type": "code",
      "execution_count": null,
      "metadata": {
        "id": "8B0Snmf9NXdP"
      },
      "outputs": [],
      "source": [
        "cv_scores_netRMSE = cross_val_score(\n",
        "                estimator = elasticnet,\n",
        "                X         = X,\n",
        "                y         = y,\n",
        "                scoring   = 'neg_mean_squared_error',\n",
        "                cv        = 5\n",
        "             )\n",
        "print(f\"Métricas validación cruzada: {cv_scores_netRMSE}\")\n",
        "print(f\"Média métricas de validación cruzada: {cv_scores_netRMSE.mean()}\")"
      ]
    },
    {
      "cell_type": "markdown",
      "metadata": {
        "id": "W9hxJma87Flr"
      },
      "source": [
        "## XGBoost\n",
        "---"
      ]
    },
    {
      "cell_type": "markdown",
      "metadata": {
        "id": "XmNX75HM7Flr"
      },
      "source": [
        "MAE"
      ]
    },
    {
      "cell_type": "code",
      "execution_count": null,
      "metadata": {
        "id": "XK6AW8JC7Flr"
      },
      "outputs": [],
      "source": [
        "cv_scores_netMAE = cross_val_score(\n",
        "                estimator = xgb_model,\n",
        "                X         = X,\n",
        "                y         = y,\n",
        "                scoring   = 'neg_mean_absolute_error',\n",
        "                cv        = 5\n",
        "             )\n",
        "print(f\"Métricas validación cruzada: {cv_scores_netMAE}\")\n",
        "print(f\"Média métricas de validación cruzada: {cv_scores_netMAE.mean()}\")"
      ]
    },
    {
      "cell_type": "markdown",
      "metadata": {
        "id": "NAbfYdSF7Flr"
      },
      "source": [
        "R^2"
      ]
    },
    {
      "cell_type": "code",
      "execution_count": null,
      "metadata": {
        "id": "7Rh2k2Na7Flr"
      },
      "outputs": [],
      "source": [
        "cv_scores_netR = cross_val_score(\n",
        "                estimator = xgb_model,\n",
        "                X         = X,\n",
        "                y         = y,\n",
        "                scoring   = 'r2',\n",
        "                cv        = 5\n",
        "             )\n",
        "print(f\"Métricas validación cruzada: {cv_scores_netR}\")\n",
        "print(f\"Média métricas de validación cruzada: {cv_scores_netR.mean()}\")"
      ]
    },
    {
      "cell_type": "markdown",
      "metadata": {
        "id": "CcwsbHnQ7Fls"
      },
      "source": [
        "RMSE"
      ]
    },
    {
      "cell_type": "code",
      "execution_count": null,
      "metadata": {
        "id": "wI7FR0yp7Fls"
      },
      "outputs": [],
      "source": [
        "cv_scores_netRMSE = cross_val_score(\n",
        "                estimator = xgb_model,\n",
        "                X         = X,\n",
        "                y         = y,\n",
        "                scoring   = 'neg_mean_squared_error',\n",
        "                cv        = 5\n",
        "             )\n",
        "print(f\"Métricas validación cruzada: {cv_scores_netRMSE}\")\n",
        "print(f\"Média métricas de validación cruzada: {cv_scores_netRMSE.mean()}\")"
      ]
    },
    {
      "cell_type": "markdown",
      "metadata": {
        "id": "VFPEBuWcJ5pj"
      },
      "source": [
        "# Prueba\n",
        "---"
      ]
    },
    {
      "cell_type": "code",
      "execution_count": null,
      "metadata": {
        "id": "_kY3HQxsnz5L"
      },
      "outputs": [],
      "source": [
        "train = test\n",
        "train['NombreCaballo'].value_counts()[:35].sort_values(ascending=False) #90 primeras apariencias >= 3"
      ]
    },
    {
      "cell_type": "markdown",
      "metadata": {
        "id": "pb5yf_8zjZ5Z"
      },
      "source": [
        "# Ajuste Preprocesamiento\n",
        "- Borrar Puesto\n",
        "- Ajuste Listas Apariciones"
      ]
    },
    {
      "cell_type": "code",
      "execution_count": null,
      "metadata": {
        "id": "NVpslHQnqWu-"
      },
      "outputs": [],
      "source": [
        "# train = train.drop('Dividendo', axis=1)\n",
        "\n",
        "def dividendToFloat():\n",
        "  for index, row in train.iterrows():\n",
        "    train.at[index, 'Dividendo'] = str(train.at[index, 'Dividendo']).replace('€', '')\n",
        "    train.at[index, 'Dividendo'] = str(train.at[index, 'Dividendo']).replace(',', '.')\n",
        "    if( '-' in str(train.at[index, 'Dividendo'])):\n",
        "      train.at[index, 'Dividendo'] = '0.0'\n",
        "\n",
        "dividendToFloat()\n",
        "train['Dividendo'] = train['Dividendo'].astype(float)"
      ]
    },
    {
      "cell_type": "code",
      "execution_count": null,
      "metadata": {
        "id": "L1pulPHSx-yS"
      },
      "outputs": [],
      "source": [
        "train['NombreCaballo'] = train['NombreCaballo'].str.partition('(')[0]\n",
        "print(listAparicionesHorse)\n",
        "listTestHorse= eraseBlank(listaNombreCaballo)\n",
        "\n",
        "\n",
        "\n",
        "train['Propietario'] = train['Propietario'].str.strip()\n",
        "train['NombreCaballo'] = train['NombreCaballo'].str.strip()\n",
        "train['Jinete'] = train['Jinete'].str.strip()\n",
        "train['Preparador'] = train['Preparador'].str.strip()\n",
        "\n",
        "train.loc[~train[\"Propietario\"].isin(listAparicionesOwner), \"Propietario\"] = \"OtherOwner\"\n",
        "# train.loc[~train[\"NombreCaballo\"].isin(listAparicionesHorse), \"NombreCaballo\"] = \"OtherHorse\" #Lo hacemos mas tarde\n",
        "train.loc[~train[\"Jinete\"].isin(listAparicionesJockey), \"Jinete\"] = \"OtherJockey\"\n",
        "train.loc[~train[\"Preparador\"].isin(listAparicionesTrainer), \"Preparador\"] = \"OtherTrainer\"\n",
        "\n",
        "# if 'OtherOwner' not in train:\n",
        "#   train['one-hot__Propietario_OtherOwner'] = 0\n",
        "\n",
        "# if 'OtherHorse' not in train:\n",
        "#   train[ 'one-hot__NombreCaballo_OtherHorse'] = 0\n",
        "\n",
        "# if 'OtherJockey' not in train:\n",
        "#   train['one-hot__Jinete_OtherJockey'] = 0\n",
        "\n",
        "if 'OtherTrainer' not in train:\n",
        "  train['one-hot__Preparador_OtherTrainer'] = 0\n"
      ]
    },
    {
      "cell_type": "markdown",
      "metadata": {
        "id": "w1hevyW7lRwj"
      },
      "source": [
        "# Preprocesamiento\n",
        "---"
      ]
    },
    {
      "cell_type": "code",
      "execution_count": null,
      "metadata": {
        "id": "4yPLQOJwyc26"
      },
      "outputs": [],
      "source": [
        "train['PuestoOg'] = train['Puesto']"
      ]
    },
    {
      "cell_type": "code",
      "execution_count": null,
      "metadata": {
        "id": "p5kdoX88lRwk"
      },
      "outputs": [],
      "source": [
        "train['Jinete'] = train['Jinete'].str.partition('(')[0]\n",
        "train['Preparador'] = train['Preparador'].str.partition('(')[0]\n",
        "train['Propietario'] = train['Propietario'].str.partition('(')[0]\n",
        "train['NombreCaballo'] = train['NombreCaballo'].str.partition('(')[0]\n",
        "\n",
        "train.head(5)"
      ]
    },
    {
      "cell_type": "markdown",
      "metadata": {
        "id": "7wK3g4Iyjvbq"
      },
      "source": [
        "## **Tratamiento (DistanciaMeta)**"
      ]
    },
    {
      "cell_type": "markdown",
      "metadata": {
        "id": "Ob1JKGKmj8rA"
      },
      "source": [
        "## **Convertir DistanciaMeta (Comentado porque no existe en Test)**"
      ]
    },
    {
      "cell_type": "code",
      "execution_count": null,
      "metadata": {
        "id": "PtoNPDXuj8rA"
      },
      "outputs": [],
      "source": [
        "# train[\"DistanciaMeta\"] = train[\"DistanciaMeta\"].fillna(0)"
      ]
    },
    {
      "cell_type": "code",
      "execution_count": null,
      "metadata": {
        "id": "E-TYiym1j8rB"
      },
      "outputs": [],
      "source": [
        "# def conversionDistanciaMetaTrain():\n",
        "#   train['DistanciaMeta'] = train['DistanciaMeta'].astype('str')\n",
        "#   for i in range(len(train.index)):\n",
        "#     decimal = 0\n",
        "#     if('LEJOS' in train.at[i, 'DistanciaMeta'] or 'Lejos' in train.at[i, 'DistanciaMeta'] or 'lejos' in train.at[i, 'DistanciaMeta']):\n",
        "#       train.at[i, 'DistanciaMeta'] = '20'\n",
        "#     if('DISTANCIADO' in train.at[i, 'DistanciaMeta'] or'Distanciado' in train.at[i, 'DistanciaMeta'] or 'distanciado' in train.at[i, 'DistanciaMeta']):\n",
        "#       train.at[i, 'DistanciaMeta'] = '20'\n",
        "#     if('CUELLO' in train.at[i, 'DistanciaMeta'] or 'Cuello' in train.at[i, 'DistanciaMeta'] or 'cuello' in train.at[i, 'DistanciaMeta']):\n",
        "#       train.at[i, 'DistanciaMeta'] = '0.3'\n",
        "#     if(('CABEZA') in train.at[i, 'DistanciaMeta'] or ('Cabeza') in train.at[i, 'DistanciaMeta'] or ('cabeza') in train.at[i, 'DistanciaMeta']):\n",
        "#       train.at[i, 'DistanciaMeta'] = '0.2'\n",
        "#     if(('NARIZ') in train.at[i, 'DistanciaMeta'] or ('Nariz') in train.at[i, 'DistanciaMeta'] or ('nariz') in train.at[i, 'DistanciaMeta']):\n",
        "#       train.at[i, 'DistanciaMeta'] = '0.1'\n",
        "#     if(('EMPATE') in train.at[i, 'DistanciaMeta'] or ('Empate') in train.at[i, 'DistanciaMeta'] or ('empate') in train.at[i, 'DistanciaMeta'] or train.at[i, 'DistanciaMeta'] == '-'):\n",
        "#       train.at[i, 'DistanciaMeta'] = '0'\n",
        "#     if(('CABALLO') in train.at[i, 'DistanciaMeta'] or ('Caballo') in train.at[i, 'DistanciaMeta'] or ('caballo') in train.at[i, 'DistanciaMeta']):\n",
        "#       train.at[i, 'DistanciaMeta'] = '1'\n",
        "#     if((' C') in train.at[i, 'DistanciaMeta']):\n",
        "#       train.at[i, 'DistanciaMeta'] = train.at[i, 'DistanciaMeta'].replace(' C', '')\n",
        "#     if(train.at[i, 'DistanciaMeta'] == '1/4'):\n",
        "#       train.at[i, 'DistanciaMeta'] = '0.25'\n",
        "#     if(train.at[i, 'DistanciaMeta'] == '1/2'):\n",
        "#       train.at[i, 'DistanciaMeta'] = '0.5'\n",
        "#     if(train.at[i, 'DistanciaMeta'] == '3/4'):\n",
        "#       train.at[i, 'DistanciaMeta'] = '0.75'\n",
        "#     if((' 1/4') in train.at[i, 'DistanciaMeta']):\n",
        "#       train.at[i, 'DistanciaMeta'] = train.at[i, 'DistanciaMeta'].replace(' 1/4', '')\n",
        "#       train.at[i, 'DistanciaMeta'] = train.at[i, 'DistanciaMeta'] + '.25'\n",
        "#     if((' 1/2') in train.at[i, 'DistanciaMeta']):\n",
        "#       train.at[i, 'DistanciaMeta'] = train.at[i, 'DistanciaMeta'].replace(' 1/2', '')\n",
        "#       train.at[i, 'DistanciaMeta'] = train.at[i, 'DistanciaMeta'] + '.5'\n",
        "#     if((' 3/4') in train.at[i, 'DistanciaMeta']):\n",
        "#       train.at[i, 'DistanciaMeta'] = train.at[i, 'DistanciaMeta'].replace(' 3/4', '')\n",
        "#       train.at[i, 'DistanciaMeta'] = train.at[i, 'DistanciaMeta'] + '.75'\n",
        "\n",
        "# conversionDistanciaMetaTrain();\n",
        "# train['DistanciaMeta'] = train['DistanciaMeta'].astype('float')\n",
        "# train['DistanciaMeta'] = np.where(train['DistanciaMeta'] > 20, 20, train['DistanciaMeta'])\n",
        "# train['DistanciaMeta'].describe()\n"
      ]
    },
    {
      "cell_type": "markdown",
      "metadata": {
        "id": "Jh3WSnxElRwm"
      },
      "source": [
        "## **Tratamiento (Peso)**"
      ]
    },
    {
      "cell_type": "code",
      "execution_count": null,
      "metadata": {
        "id": "ySrMtSGYlRwn"
      },
      "outputs": [],
      "source": [
        "# train['Peso'] = train['Peso'].str.partition('-')[0]\n",
        "# train['Peso'] = train['Peso'].str[:2]"
      ]
    },
    {
      "cell_type": "code",
      "execution_count": null,
      "metadata": {
        "id": "JXAJNsvdlRwn"
      },
      "outputs": [],
      "source": [
        "train['Peso'].value_counts()[:35].sort_values(ascending=False) #90 primeras apariencias >= 3"
      ]
    },
    {
      "cell_type": "markdown",
      "metadata": {
        "id": "62zkqi9-lRwr"
      },
      "source": [
        "## **Tratamiento (Fecha)**\n"
      ]
    },
    {
      "cell_type": "code",
      "execution_count": null,
      "metadata": {
        "id": "ueTnN4gelRwr"
      },
      "outputs": [],
      "source": [
        "import datetime as dt\n",
        "from datetime import date\n",
        "\n",
        "\n",
        "def switchMonth(month):\n",
        "  if month == 'ENERO':\n",
        "   return '01'\n",
        "  elif month == 'FEBRERO':\n",
        "    return '02'\n",
        "  elif month == 'MARZO':\n",
        "   return '03'\n",
        "  elif month == 'ABRIL':\n",
        "    return '04'\n",
        "  elif month == 'MAYO':\n",
        "    return '05'\n",
        "  elif month == 'JUNIO':\n",
        "    return '06'\n",
        "  elif month == 'JULIO':\n",
        "    return '07'\n",
        "  elif month == 'AGOSTO':\n",
        "    return '08'\n",
        "  elif month == 'SEPTIEMBRE':\n",
        "    return '09'\n",
        "  elif month == 'OCTUBRE':\n",
        "     return '10'\n",
        "  elif month == 'NOVIEMBRE':\n",
        "    return '11'\n",
        "  elif month == 'DICIEMBRE':\n",
        "    return '12'\n",
        "\n",
        "def convertDate(fechas):\n",
        "  index = 0\n",
        "  for element in fechas:\n",
        "    sum = 0\n",
        "    year = element[-4:]\n",
        "    dateAux = year\n",
        "    day = element[:2]\n",
        "    if(int(day) < 10):\n",
        "      day = \"0\" + day[:1]\n",
        "    month = element[5:]\n",
        "    month = ''.join(month.split())[:-6].upper()\n",
        "    month = switchMonth(month)\n",
        "    dateAux = dateAux + \"-\" + month + \"-\" + day\n",
        "\n",
        "    today = date.today()\n",
        "    yearToday = int(str(today)[:4])\n",
        "    monthToday = int(str(today)[5:7])\n",
        "    dayToday = int(str(today)[8:10])\n",
        "    if(yearToday > int(year)):\n",
        "      sum += (yearToday - int(year))*365\n",
        "    sum += (monthToday - int(month))*30\n",
        "    sum += (dayToday - int(day))\n",
        "    datetimeAux = dt.datetime(int(year), int(month), int(day))\n",
        "    train.at[index, 'FechaAux'] = datetimeAux\n",
        "\n",
        "    train.at[index, 'year'] = int(year)\n",
        "    train.at[index, 'month'] = int(month)\n",
        "    train.at[index, 'day'] = int(day)\n",
        "    calculateSeason(int(month), index)\n",
        "\n",
        "    # train.at[index, 'DiasDesdeCarrera'] = sum\n",
        "    index += 1\n",
        "\n",
        "def calculateSeason(month, index):\n",
        "  # train['Invierno'] = 0\n",
        "  # train['Primavera'] = 0\n",
        "  # train['Verano'] = 0\n",
        "  train['Otoño'] = 0\n",
        "  # if(month >= 12 and month <=2):\n",
        "  #    train.at[index, 'Invierno'] = month\n",
        "  # if(month >= 3 and month <=5):\n",
        "  #    train.at[index, 'Primavera'] = month\n",
        "  # if(month >= 6 and month <=8):\n",
        "  #    train.at[index, 'Verano'] = month\n",
        "  if(month >= 9 and month <=11):\n",
        "     train.at[index, 'Otoño'] = month\n",
        "\n",
        "\n",
        "\n",
        "\n",
        "t_array = train[\"Fecha\"]\n",
        "convertDate(t_array)\n",
        "train['FechaAux'].head(70)"
      ]
    },
    {
      "cell_type": "code",
      "execution_count": null,
      "metadata": {
        "id": "UdUYBQpplRws"
      },
      "outputs": [],
      "source": [
        "train.head(5)"
      ]
    },
    {
      "cell_type": "code",
      "execution_count": null,
      "metadata": {
        "id": "69cMMbqulRws"
      },
      "outputs": [],
      "source": [
        "from datetime import datetime\n",
        "\n",
        "def daysSincePreviousRace():\n",
        "  for index, row in train.iterrows():\n",
        "\n",
        "    nombreCaballo = row['NombreCaballo']\n",
        "    dict = {}\n",
        "    conta = 0\n",
        "    for indice, fila in trainOg.iterrows():\n",
        "      if( fila['NombreCaballo'] == nombreCaballo):\n",
        "        rowData = fila['FechaAux'].date()\n",
        "        dict[rowData] = indice\n",
        "        conta += 1\n",
        "\n",
        "    listaFechasAux = list(filter(lambda n: n < row['FechaAux'].date(), list(dict.keys())))\n",
        "    if(listaFechasAux):\n",
        "      mostRecentRace = max(listaFechasAux)\n",
        "      jockeyRecent = trainOg.at[dict[mostRecentRace], 'Jinete']\n",
        "      daysDifference = row['FechaAux'].date() - mostRecentRace\n",
        "      train.at[index, 'DaysSincePreviousRace'] = daysDifference.days\n",
        "\n",
        "\n",
        "      if(jockeyRecent == row['Jinete']):\n",
        "         train.at[index, 'SameJockey'] = 1\n",
        "      else:\n",
        "        train.at[index, 'SameJockey'] = 0\n",
        "    else:\n",
        "        train.at[index, 'SameJockey'] = 0\n",
        "        train.at[index, 'DaysSincePreviousRace'] = 45\n",
        "\n",
        "\n",
        "\n",
        "    # Rellenar dictionario con keys que sean las fechas en las que ha participado el caballo y los values , el index en el que aparecen\n",
        "    # Deberias buscar primero las fechas anteriores en las que corrio un caballo antes de este codigo\n",
        "    # y en caso de que no haya fechas hacer algo al respecto\n",
        "    # En caso de qie si haya , por keys.values y coger anteriores y la mas reciente. Obtener key.value de jinete y comprobar con jinete actual .\n",
        "    # Rambien calcular dias de diferencia desde fecha\n",
        "\n",
        "\n",
        "daysSincePreviousRace()\n",
        "train.info()"
      ]
    },
    {
      "cell_type": "code",
      "execution_count": null,
      "metadata": {
        "id": "c4xkMZwSDWuy"
      },
      "outputs": [],
      "source": [
        "train.head()"
      ]
    },
    {
      "cell_type": "markdown",
      "metadata": {
        "id": "xVd7IHIr49HF"
      },
      "source": [
        "## Calculo Contricantes\n",
        "---"
      ]
    },
    {
      "cell_type": "code",
      "execution_count": null,
      "metadata": {
        "id": "2_4wnsGB49HG"
      },
      "outputs": [],
      "source": [
        "def calculoContrincantes(listaF, listaH, longitud):\n",
        "  for fecha in listaF:\n",
        "    for horario in listaH:\n",
        "      index = 0\n",
        "      listaIndex = []\n",
        "      sum = 0\n",
        "      while(index < longitud):\n",
        "        if((train.at[index, 'Fecha'] == fecha ) and (train.at[index, 'Hora'] == horario )):\n",
        "          listaIndex.append(index)\n",
        "          sum += 1\n",
        "        index += 1\n",
        "      for indice in listaIndex:\n",
        "        train.at[indice, 'Contrincantes'] = sum\n",
        "\n",
        "\n",
        "listaFechas = train['Fecha'].unique().tolist()\n",
        "listaHorarios = train['Hora'].unique().tolist()\n",
        "longitud = len(train.index)\n",
        "\n",
        "calculoContrincantes(listaFechas, listaHorarios, longitud)\n",
        "\n",
        "\n"
      ]
    },
    {
      "cell_type": "markdown",
      "metadata": {
        "id": "DSF7H_HP4-4Z"
      },
      "source": [
        "## **Busqueda Caballos Ganadores en ciertas condiciones**\n",
        "---"
      ]
    },
    {
      "cell_type": "markdown",
      "metadata": {
        "id": "Vmh4YhzZYZMd"
      },
      "source": [
        "### Busqueda UltimasActuacionesLargo\n",
        "---"
      ]
    },
    {
      "cell_type": "code",
      "execution_count": null,
      "metadata": {
        "id": "YZqPe38tYZMe"
      },
      "outputs": [],
      "source": [
        "from datetime import timedelta\n",
        "\n",
        "def ultimasActuacionesIter(indices, indicesOg):\n",
        "  for i in range(indices):\n",
        "    print(i)\n",
        "    nombre = train.at[i, 'NombreCaballo']\n",
        "    fecha = train.at[i, 'FechaAux']\n",
        "    media = 0.0\n",
        "    sum = 0.0\n",
        "\n",
        "    sum_odds = 0.0\n",
        "    media_odds = 0.0\n",
        "\n",
        "    for j in range(indicesOg):\n",
        "      fechaAux = trainOg.at[j, 'FechaAux']\n",
        "      nombreAux= trainOg.at[j, 'NombreCaballo']\n",
        "      sinceDate = fecha - timedelta(days=200)\n",
        "      recentDates = fecha - timedelta(days = 30)\n",
        "      if((nombreAux == nombre) and (fechaAux < fecha) and (sinceDate < fechaAux)):\n",
        "        print(\"Valor Puesto-->\", trainPuesto.at[j, 'PuestoOg'], \"/\", fechaAux)\n",
        "        value = 0.0\n",
        "        value = (trainPuesto.at[j, 'PuestoOg'] )\n",
        "        media += value\n",
        "        sum += 1\n",
        "        # if(recentDates < fechaAux):\n",
        "          # value = value**(1.5);\n",
        "        odds = 0.0\n",
        "        odds = (trainPuesto.at[j, 'Dividendo'])\n",
        "        media_odds += odds\n",
        "        sum_odds += 1\n",
        "\n",
        "    print(\"Suma Medias -->\", media, \"/\", sum, \"<-- Nº Act Anteriores\")\n",
        "    if(sum != 0):\n",
        "      media /= sum\n",
        "    if(sum == 0):\n",
        "      media = (train.at[I, 'Contrincantes'] / 2)\n",
        "      train.at[i, 'UltimasActuacionesLargo'] = media\n",
        "    else:\n",
        "      train.at[i, 'UltimasActuacionesLargo'] = media\n",
        "    print(i, \"-->\", nombre, \" MediaUltAct->\", media)\n",
        "\n",
        "    #Dividendo\n",
        "    if(sum_odds != 0):\n",
        "      media_odds /= sum_odds\n",
        "    if(sum_odds == 0):\n",
        "      media_odds = 5.69\n",
        "      train.at[i, 'UltimosDividendosLargo'] = media_odds\n",
        "    else:\n",
        "      train.at[i, 'UltimosDividendosLargo'] = media_odds\n",
        "\n",
        "\n",
        "indicesOg = len(trainOg.index)\n",
        "indices = len(train.index)\n",
        "ultimasActuacionesIter(indices, indicesOg)"
      ]
    },
    {
      "cell_type": "code",
      "execution_count": null,
      "metadata": {
        "id": "sVUAA2X6YZMe"
      },
      "outputs": [],
      "source": [
        "train['UltimasActuacionesLargo'][:20].value_counts().sort_values(ascending=False) #90 primeras apariencias >= 3"
      ]
    },
    {
      "cell_type": "markdown",
      "metadata": {
        "id": "vWG55z9a8b8N"
      },
      "source": [
        "### Busqueda UltimasActuacionesMedio\n",
        "---"
      ]
    },
    {
      "cell_type": "code",
      "execution_count": null,
      "metadata": {
        "id": "VHVoLOaH8b8O"
      },
      "outputs": [],
      "source": [
        "from datetime import timedelta\n",
        "\n",
        "def ultimasActuacionesIter(indices, indicesOg):\n",
        "  for i in range(indices):\n",
        "    print(i)\n",
        "    nombre = train.at[i, 'NombreCaballo']\n",
        "    fecha = train.at[i, 'FechaAux']\n",
        "    media = 0.0\n",
        "    sum = 0.0\n",
        "\n",
        "    media_odds = 0.0\n",
        "    sum_odds = 0.0\n",
        "\n",
        "    for j in range(indicesOg):\n",
        "      fechaAux = trainOg.at[j, 'FechaAux']\n",
        "      nombreAux= trainOg.at[j, 'NombreCaballo']\n",
        "      sinceDate = fecha - timedelta(days=120)\n",
        "      recentDates = fecha - timedelta(days = 30)\n",
        "      if((nombreAux == nombre) and (fechaAux < fecha) and (sinceDate < fechaAux)):\n",
        "        print(\"Valor Puesto-->\", trainPuesto.at[j, 'PuestoOg'], \"/\", fechaAux)\n",
        "        value = 0.0\n",
        "        value = (trainPuesto.at[j, 'PuestoOg'] )\n",
        "        media += value\n",
        "        sum += 1\n",
        "        # if(recentDates < fechaAux):\n",
        "          # value = value**(1.4);\n",
        "        odds = 0.0\n",
        "        odds = (trainPuesto.at[j, 'Dividendo'])\n",
        "        media_odds += odds\n",
        "        sum_odds += 1\n",
        "\n",
        "    print(\"Suma Medias -->\", media, \"/\", sum, \"<-- Nº Act Anteriores\")\n",
        "    if(sum != 0):\n",
        "      media /= sum\n",
        "    if(sum == 0):\n",
        "      if( train.at[i, 'UltimasActuacionesLargo'] != 2.6):\n",
        "        media =  train.at[i, 'UltimasActuacionesLargo']\n",
        "      else:\n",
        "        media = 2.6\n",
        "      train.at[i, 'UltimasActuacionesMedio'] = media\n",
        "    else:\n",
        "      train.at[i, 'UltimasActuacionesMedio'] = media\n",
        "    print(i, \"-->\", nombre, \" MediaUltAct->\", media)\n",
        "\n",
        "    #Dividendo\n",
        "    if(sum_odds != 0):\n",
        "      media_odds /= sum_odds\n",
        "    if(sum_odds == 0):\n",
        "      if( train.at[i, 'UltimosDividendosLargo'] != 5.69):\n",
        "        media_odds =  train.at[i, 'UltimosDividendosLargo']\n",
        "      else:\n",
        "        media_odds = 5.69\n",
        "      train.at[i, 'UltimosDividendosMedio'] = media_odds\n",
        "    else:\n",
        "      train.at[i, 'UltimosDividendosMedio'] = media_odds\n",
        "\n",
        "\n",
        "indicesOg = len(trainOg.index)\n",
        "indices = len(train.index)\n",
        "ultimasActuacionesIter(indices, indicesOg)"
      ]
    },
    {
      "cell_type": "code",
      "execution_count": null,
      "metadata": {
        "id": "OEujyVvo8b8O"
      },
      "outputs": [],
      "source": [
        "train['UltimasActuacionesMedio'][:20].value_counts().sort_values(ascending=False) #90 primeras apariencias >= 3"
      ]
    },
    {
      "cell_type": "markdown",
      "metadata": {
        "id": "0tLHKaB--hFD"
      },
      "source": [
        "### Busqueda UltimasActuacionesCorto\n",
        "---"
      ]
    },
    {
      "cell_type": "code",
      "execution_count": null,
      "metadata": {
        "id": "rh5kwWB0-hFE"
      },
      "outputs": [],
      "source": [
        "from datetime import timedelta\n",
        "\n",
        "def ultimasActuacionesIter(indices, indicesOg):\n",
        "  for i in range(indices):\n",
        "    print(i)\n",
        "    nombre = train.at[i, 'NombreCaballo']\n",
        "    fecha = train.at[i, 'FechaAux']\n",
        "    media = 0.0\n",
        "    sum = 0.0\n",
        "\n",
        "    media_odds = 0.0\n",
        "    sum_odds = 0.0\n",
        "\n",
        "    for j in range(indicesOg):\n",
        "      fechaAux = trainOg.at[j, 'FechaAux']\n",
        "      nombreAux= trainOg.at[j, 'NombreCaballo']\n",
        "      sinceDate = fecha - timedelta(days=90)\n",
        "      recentDates = fecha - timedelta(days = 22)\n",
        "      if((nombreAux == nombre) and (fechaAux < fecha) and (sinceDate < fechaAux)):\n",
        "        print(\"Valor Puesto-->\", trainPuesto.at[j, 'PuestoOg'], \"/\", fechaAux)\n",
        "        value = 0.0\n",
        "        value = (trainPuesto.at[j, 'PuestoOg'] )\n",
        "        media += value\n",
        "        sum += 1\n",
        "        # if(recentDates < fechaAux):\n",
        "          # value = value**(1.3);\n",
        "\n",
        "        odds = 0.0\n",
        "        odds = (trainPuesto.at[j, 'Dividendo'])\n",
        "        media_odds += odds\n",
        "        sum_odds += 1\n",
        "\n",
        "    print(\"Suma Medias -->\", media, \"/\", sum, \"<-- Nº Act Anteriores\")\n",
        "    if(sum != 0):\n",
        "      media /= sum\n",
        "    if(sum == 0):\n",
        "      if( train.at[i, 'UltimasActuacionesMedio'] == 2.6):\n",
        "        if( train.at[i, 'UltimasActuacionesLargo'] != 2.6):\n",
        "          media =  train.at[i, 'UltimasActuacionesLargo']\n",
        "        else:\n",
        "          media = 2.6\n",
        "      else:\n",
        "        media =  train.at[i, 'UltimasActuacionesMedio']\n",
        "      train.at[i, 'UltimasActuacionesCorto'] = media\n",
        "    else:\n",
        "      train.at[i, 'UltimasActuacionesCorto'] = media\n",
        "    print(i, \"-->\", nombre, \" MediaUltAct->\", media)\n",
        "\n",
        "    #Dividendo\n",
        "    if(sum_odds != 0):\n",
        "      media_odds /= sum_odds\n",
        "    if(sum_odds == 0):\n",
        "      if( train.at[i, 'UltimosDividendosMedio'] == 5.69):\n",
        "        if( train.at[i, 'UltimosDividendosLargo'] != 5.69):\n",
        "          media_odds =  train.at[i, 'UltimosDividendosLargo']\n",
        "        else:\n",
        "          media_odds = 5.69\n",
        "      else:\n",
        "        media_odds =  train.at[i, 'UltimosDividendosMedio']\n",
        "      train.at[i, 'UltimosDividendosCorto'] = media_odds\n",
        "    else:\n",
        "      train.at[i, 'UltimosDividendosCorto'] = media_odds\n",
        "\n",
        "\n",
        "indicesOg = len(trainOg.index)\n",
        "indices = len(train.index)\n",
        "ultimasActuacionesIter(indices, indicesOg)"
      ]
    },
    {
      "cell_type": "code",
      "execution_count": null,
      "metadata": {
        "id": "WOfSBgiu-hFF"
      },
      "outputs": [],
      "source": [
        "train['UltimasActuacionesCorto'][:20].value_counts().sort_values(ascending=False) #90 primeras apariencias >= 3"
      ]
    },
    {
      "cell_type": "markdown",
      "metadata": {
        "id": "F0V0HPgnqDIq"
      },
      "source": [
        "\n",
        "### Busqueda UltimasDistancias\n",
        "---"
      ]
    },
    {
      "cell_type": "code",
      "execution_count": null,
      "metadata": {
        "id": "4DziCqioqDP9"
      },
      "outputs": [],
      "source": [
        "from datetime import timedelta\n",
        "\n",
        "def ultimasDistanciasCorto(indices, indicesOg):\n",
        "  for i in range(indices):\n",
        "    print(i)\n",
        "    nombre = train.at[i, 'NombreCaballo']\n",
        "    fecha = train.at[i, 'FechaAux']\n",
        "    media = 0.0\n",
        "    sum = 0.0\n",
        "\n",
        "    for j in range(indicesOg):\n",
        "      fechaAux = trainOg.at[j, 'FechaAux']\n",
        "      nombreAux= trainOg.at[j, 'NombreCaballo']\n",
        "      sinceDate = fecha - timedelta(days=60)\n",
        "      if((nombreAux == nombre) and (fechaAux < fecha) and (sinceDate < fechaAux)):\n",
        "        print(\"Valor Distancia-->\", trainOg.at[j, 'DistanciaMeta'], \"/\", fechaAux)\n",
        "        value = 0.0\n",
        "        value = (trainOg.at[j, 'DistanciaMeta'] )\n",
        "        media += value\n",
        "        sum += 1\n",
        "    print(\"Suma Medias -->\", media, \"/\", sum, \"<-- Nº Act Anteriores\")\n",
        "    if(sum != 0):\n",
        "      media /= sum\n",
        "    if(sum == 0):\n",
        "      media = 3.5\n",
        "      train.at[i, 'ultimasDistanciasCorto'] = media\n",
        "    else:\n",
        "      train.at[i, 'ultimasDistanciasCorto'] = media\n",
        "    print(i, \"-->\", nombre, \" MediaUltAct->\", media)\n",
        "\n",
        "\n",
        "indicesOg = len(trainOg.index)\n",
        "indices = len(train.index)\n",
        "ultimasDistanciasCorto(indices, indicesOg)"
      ]
    },
    {
      "cell_type": "code",
      "execution_count": null,
      "metadata": {
        "id": "S7ixNIHbqkao"
      },
      "outputs": [],
      "source": [
        "from datetime import timedelta\n",
        "\n",
        "def ultimasDistanciasMedio(indices, indicesOg):\n",
        "  for i in range(indices):\n",
        "    print(i)\n",
        "    nombre = train.at[i, 'NombreCaballo']\n",
        "    fecha = train.at[i, 'FechaAux']\n",
        "    media = 0.0\n",
        "    sum = 0.0\n",
        "\n",
        "    for j in range(indicesOg):\n",
        "      fechaAux = trainOg.at[j, 'FechaAux']\n",
        "      nombreAux= trainDistancia.at[j, 'NombreCaballo']\n",
        "      sinceDate = fecha - timedelta(days=120)\n",
        "      if((nombreAux == nombre) and (fechaAux < fecha) and (sinceDate < fechaAux)):\n",
        "        print(\"Valor Distancia-->\", trainOg.at[j, 'DistanciaMeta'], \"/\", fechaAux)\n",
        "        value = 0.0\n",
        "        value = (trainOg.at[j, 'DistanciaMeta'] )\n",
        "        media += value\n",
        "        sum += 1\n",
        "    print(\"Suma Medias -->\", media, \"/\", sum, \"<-- Nº Act Anteriores\")\n",
        "    if(sum != 0):\n",
        "      media /= sum\n",
        "    if(sum == 0):\n",
        "      media = 3.5\n",
        "      train.at[i, 'ultimasDistanciasMedio'] = media\n",
        "    else:\n",
        "      train.at[i, 'ultimasDistanciasMedio'] = media\n",
        "    print(i, \"-->\", nombre, \" MediaUltAct->\", media)\n",
        "\n",
        "\n",
        "indicesOg = len(trainOg.index)\n",
        "indices = len(train.index)\n",
        "ultimasDistanciasMedio(indices, indicesOg)"
      ]
    },
    {
      "cell_type": "code",
      "execution_count": null,
      "metadata": {
        "id": "3xuTQ2G-qkmA"
      },
      "outputs": [],
      "source": [
        "from datetime import timedelta\n",
        "\n",
        "def ultimasDistanciasLargo(indices, indicesOg):\n",
        "  for i in range(indices):\n",
        "    print(i)\n",
        "    nombre = train.at[i, 'NombreCaballo']\n",
        "    fecha = train.at[i, 'FechaAux']\n",
        "    media = 0.0\n",
        "    sum = 0.0\n",
        "\n",
        "    for j in range(indicesOg):\n",
        "      fechaAux = trainOg.at[j, 'FechaAux']\n",
        "      nombreAux= trainOg.at[j, 'NombreCaballo']\n",
        "      sinceDate = fecha - timedelta(days=200)\n",
        "      if((nombreAux == nombre) and (fechaAux < fecha) and (sinceDate < fechaAux)):\n",
        "        print(\"Valor Distancia-->\", trainOg.at[j, 'DistanciaMeta'], \"/\", fechaAux)\n",
        "        value = 0.0\n",
        "        value = (trainOg.at[j, 'DistanciaMeta'] )\n",
        "        media += value\n",
        "        sum += 1\n",
        "    print(\"Suma Medias -->\", media, \"/\", sum, \"<-- Nº Act Anteriores\")\n",
        "    if(sum != 0):\n",
        "      media /= sum\n",
        "    if(sum == 0):\n",
        "      media = 3.5\n",
        "      train.at[i, 'ultimasDistanciasLargo'] = media\n",
        "    else:\n",
        "      train.at[i, 'ultimasDistanciasLargo'] = media\n",
        "    print(i, \"-->\", nombre, \" MediaUltAct->\", media)\n",
        "\n",
        "\n",
        "indicesOg = len(trainOg.index)\n",
        "indices = len(train.index)\n",
        "ultimasDistanciasLargo(indices, indicesOg)"
      ]
    },
    {
      "cell_type": "code",
      "execution_count": null,
      "metadata": {
        "id": "2P5DAAlLrGeU"
      },
      "outputs": [],
      "source": [
        "train = train.drop('DistanciaMeta', axis=1)\n",
        "trainOg = trainOg.drop('DistanciaMeta', axis=1)"
      ]
    },
    {
      "cell_type": "markdown",
      "metadata": {
        "id": "dtcWgeS94-4a"
      },
      "source": [
        "\n",
        "### Busqueda Distancia\n",
        "---"
      ]
    },
    {
      "cell_type": "code",
      "execution_count": null,
      "metadata": {
        "id": "PUEEKuX_6G9-"
      },
      "outputs": [],
      "source": [
        "pd.set_option('display.max_rows', None)\n",
        "train.head(70)"
      ]
    },
    {
      "cell_type": "code",
      "execution_count": null,
      "metadata": {
        "id": "VRq4PK4b4-4a"
      },
      "outputs": [],
      "source": [
        "def comprobacionTipoDistanciaTrain(indice):\n",
        "  tipo = 0   # 0, 1, 2 / Corta, Media, Larga\n",
        "  val = trainOg.at[indice, 'Distancia']\n",
        "  if(val >= 3200):\n",
        "    tipo = 2\n",
        "  if((val >= 1600) & (val <= 2400)):\n",
        "    tipo = 1\n",
        "  return tipo;\n",
        "\n",
        "def comprobacionTipoDistanciaTest(indice):\n",
        "  tipo = 0   # 0, 1, 2 / Corta, Media, Larga\n",
        "  val = train.at[indice, 'Distancia']\n",
        "  if(val >= 3200):\n",
        "    tipo = 2\n",
        "  if((val >= 1600) & (val <= 2400)):\n",
        "    tipo = 1\n",
        "  return tipo;\n",
        "\n",
        "def destrezaDistanciaTest(indices,indicesOg):\n",
        "  for i in range(indices):\n",
        "    tipo = comprobacionTipoDistanciaTest(i)\n",
        "    nombre = train.at[i, 'NombreCaballo']\n",
        "    fecha = train.at[i, 'FechaAux']\n",
        "    media = 0 # Media carreras\n",
        "    sum = 0 # Numero Carreras\n",
        "    mediaAux = 0\n",
        "    sumAux = 0\n",
        "    for j in range(indicesOg):\n",
        "      fechaAux = trainOg.at[j, 'FechaAux']\n",
        "      tipoAux = comprobacionTipoDistanciaTrain(j)\n",
        "      nombreAux= trainOg.at[j, 'NombreCaballo']\n",
        "      if(nombreAux == nombre):\n",
        "        if((fechaAux < fecha) & (tipoAux == tipo)):\n",
        "          media += (trainPuesto.at[j, 'PuestoOg'])\n",
        "          sum += 1\n",
        "        elif((fechaAux < fecha) & (tipoAux != tipo)):\n",
        "          mediaAux += (trainPuesto.at[j, 'PuestoOg'])\n",
        "          sumAux += 1\n",
        "    if(sum != 0):\n",
        "      media /= sum\n",
        "    if(sumAux != 0):\n",
        "      mediaAux /= sumAux\n",
        "    print(i, \"-->\", nombre, \" - Media->\", media, \"/MediaAux-->\", mediaAux, \"/Numero Destreza(\", sum, sumAux, \"):Numero Otros/\") # Si hay mas de 2 participaciones (en esas condiciones y resto ) y con una media al menos un 33% mas baja , es valido\n",
        "    if((sum >= 2) & (sumAux >= 2) & (((1.1* media) < mediaAux))): # Si hay mas de 2 participaciones en esas condiciones y con una media al menos un 33% mas baja , es valido\n",
        "      train.at[i, 'DestrezaDistancia'] = 1\n",
        "    else:\n",
        "      train.at[i, 'DestrezaDistancia'] = 0\n",
        "\n",
        "    #IMP! Valorar si es buena idea crear una columna a partir de la variable \"media\" + \"mediaAux\" obtenida aqui.\n",
        "\n",
        "indices = len(train.index)\n",
        "indicesOg = len(trainOg.index)\n",
        "destrezaDistanciaTest(indices, indicesOg)\n",
        "\n",
        "\n",
        "\n",
        "#Len Intervalos\n",
        "print(len(train[(train['Distancia'] < 1600).tolist()]))\n",
        "print(len(train[((train['Distancia'] >= 1600) & (train['Distancia'] <= 2400) ).tolist()]))\n",
        "print(len(train[(train['Distancia'] >= 3200).tolist()]))"
      ]
    },
    {
      "cell_type": "code",
      "execution_count": null,
      "metadata": {
        "id": "xSJojUpN4-4a"
      },
      "outputs": [],
      "source": [
        "pd.set_option('display.max_rows', None)\n",
        "train[['NombreCaballo','DestrezaDistancia']].head(64)"
      ]
    },
    {
      "cell_type": "markdown",
      "metadata": {
        "id": "MkBLWmf7eAs9"
      },
      "source": [
        "### Busqueda Meteorologia\n",
        "---"
      ]
    },
    {
      "cell_type": "code",
      "execution_count": null,
      "metadata": {
        "id": "iLWAEE4keAs-"
      },
      "outputs": [],
      "source": [
        "train['Meteorología'].value_counts()[:35].sort_values(ascending=False) #90 primeras apariencias >= 3"
      ]
    },
    {
      "cell_type": "code",
      "execution_count": null,
      "metadata": {
        "id": "aFIHqWZOeAs-"
      },
      "outputs": [],
      "source": [
        "def comprobacionTipoMeteorologia(indice, listaMeteo):\n",
        "  tipo = -1 # 0 -> Lluvia / 1 -> Nublado / 2 -> Soleado, Despejado\n",
        "  val = train.at[indice, 'Meteorología']\n",
        "  for meteo in listaMeteo:\n",
        "   if(\"Lluvia\" in val or \"Llovizna\" in val or \"precipitaciones\" in val or \"lluvias\" in val):\n",
        "      tipo = 1\n",
        "   elif(\"Soleado\" in val or \"Despejado\" in val):\n",
        "      tipo = 2\n",
        "   else:\n",
        "     tipo = 0\n",
        "  return tipo;\n",
        "\n",
        "def comprobacionTipoMeteorologiaOg(indice, listaMeteo):\n",
        "  tipo = -1 # 0 -> Lluvia / 1 -> Nublado / 2 -> Soleado, Despejado\n",
        "  val = trainOg.at[indice, 'Meteorología']\n",
        "  for meteo in listaMeteo:\n",
        "   if(\"Lluvia\" in val or \"Llovizna\" in val or \"precipitaciones\" in val or \"lluvias\" in val):\n",
        "      tipo = 1\n",
        "   elif(\"Soleado\" in val or \"Despejado\" in val):\n",
        "      tipo = 2\n",
        "   else:\n",
        "     tipo = 0\n",
        "  return tipo;\n",
        "\n",
        "def destrezaMeteorologia(indices, indicesOg, listaMeteo):\n",
        "  for i in range(indices):\n",
        "    print(i)\n",
        "    tipo = comprobacionTipoMeteorologia(i, listaMeteo)\n",
        "    nombre = train.at[i, 'NombreCaballo']\n",
        "    fecha = train.at[i, 'FechaAux']\n",
        "    media = 0 # Media carreras\n",
        "    sum = 0 # Numero Carreras\n",
        "    mediaAux = 0\n",
        "    sumAux = 0\n",
        "    for j in range(indicesOg):\n",
        "      fechaAux = trainOg.at[j, 'FechaAux']\n",
        "      tipoAux = comprobacionTipoMeteorologiaOg(j, listaMeteo)\n",
        "      nombreAux= trainOg.at[j, 'NombreCaballo']\n",
        "      if(nombreAux == nombre):\n",
        "        if((fechaAux < fecha) & (tipoAux == tipo)):\n",
        "          media += (trainPuesto.at[j, 'PuestoOg'] )\n",
        "          sum += 1\n",
        "        elif((fechaAux < fecha) & (tipoAux != tipo)):\n",
        "          mediaAux += (trainPuesto.at[j, 'PuestoOg'] )\n",
        "          sumAux += 1\n",
        "    if(sum != 0):\n",
        "      media /= sum\n",
        "    if(sumAux != 0):\n",
        "      mediaAux /= sumAux\n",
        "    print(i, \"-->\", nombre, \" - Media->\", media, \"/MediaAux-->\", mediaAux, \"/Numero Destreza(\", sum, sumAux, \"):Numero Otros/\") # Si hay mas de 2 participaciones (en esas condiciones y resto ) y con una media al menos un 33% mas baja , es valido\n",
        "    if((sum >= 2) & (sumAux >= 2) & (((1.1* media) < mediaAux))): # Si hay mas de 2 participaciones (en esas condiciones y resto ) y con una media al menos un 33% mas baja , es valido\n",
        "      train.at[i, 'DestrezaMeteo'] = 1\n",
        "      print(\"XXXXXXXXXXXXXXXXXXXXXXXXXXXXXXXXXXXXXXXXX\")\n",
        "    else:\n",
        "      train.at[i, 'DestrezaMeteo'] = 0\n",
        "\n",
        "indicesOg = len(trainOg.index)\n",
        "indices = len(train.index)\n",
        "listaMeteo = train['Meteorología'].unique().tolist()\n",
        "destrezaMeteorologia(indices, indicesOg,  listaMeteo)"
      ]
    },
    {
      "cell_type": "markdown",
      "metadata": {
        "id": "GrUkib_snMOG"
      },
      "source": [
        "### Busqueda Lluvia\n",
        "---"
      ]
    },
    {
      "cell_type": "code",
      "execution_count": null,
      "metadata": {
        "id": "qBTVBaC5nMOG"
      },
      "outputs": [],
      "source": [
        "train['LLuvia'].value_counts()[:35].sort_values(ascending=False) #90 primeras apariencias >= 3"
      ]
    },
    {
      "cell_type": "code",
      "execution_count": null,
      "metadata": {
        "id": "ctlrrD-dnMOG"
      },
      "outputs": [],
      "source": [
        "def comprobacionTipoLLuvia(indice, listaLLuvia):\n",
        "  tipo = -1 # 0 -> 0.0 / 1 -> > 0.0 / 2 -> > 1\n",
        "  val = train.at[indice, 'LLuvia']\n",
        "  for meteo in listaMeteo:\n",
        "   if(val > 0):\n",
        "      tipo = 1\n",
        "   elif(val > 1):\n",
        "      tipo = 2\n",
        "   else:\n",
        "     tipo = 0\n",
        "  return tipo;\n",
        "\n",
        "\n",
        "def comprobacionTipoLLuviaOg(indice, listaLLuvia):\n",
        "  tipo = -1 # 0 -> 0.0 / 1 -> > 0.0 / 2 -> > 1\n",
        "  val = trainOg.at[indice, 'LLuvia']\n",
        "  for meteo in listaMeteo:\n",
        "   if(val > 0):\n",
        "      tipo = 1\n",
        "   elif(val > 1):\n",
        "      tipo = 2\n",
        "   else:\n",
        "     tipo = 0\n",
        "  return tipo;\n",
        "\n",
        "def destrezaLLuvia(indices, indicesOg,  listaLLuvia):\n",
        "  for i in range(indices):\n",
        "    print(i)\n",
        "    tipo = comprobacionTipoLLuvia(i, listaLLuvia)\n",
        "    nombre = train.at[i, 'NombreCaballo']\n",
        "    fecha = train.at[i, 'FechaAux']\n",
        "    media = 0 # Media carreras\n",
        "    sum = 0 # Numero Carreras\n",
        "    mediaAux = 0\n",
        "    sumAux = 0\n",
        "    for j in range(indicesOg):\n",
        "      fechaAux = trainOg.at[j, 'FechaAux']\n",
        "      tipoAux = comprobacionTipoLLuviaOg(j, listaLLuvia)\n",
        "      nombreAux= trainOg.at[j, 'NombreCaballo']\n",
        "      if(nombreAux == nombre):\n",
        "        if((fechaAux < fecha) & (tipoAux == tipo)):\n",
        "          media += (trainPuesto.at[j, 'PuestoOg'] )\n",
        "          sum += 1\n",
        "        elif((fechaAux < fecha) & (tipoAux != tipo)):\n",
        "          mediaAux += (trainPuesto.at[j, 'PuestoOg'] )\n",
        "          sumAux += 1\n",
        "    if(sum != 0):\n",
        "      media /= sum\n",
        "    if(sumAux != 0):\n",
        "      mediaAux /= sumAux\n",
        "    print(i, \"-->\", nombre, \" - Media->\", media, \"/MediaAux-->\", mediaAux, \"/Numero Destreza(\", sum, sumAux, \"):Numero Otros/\")\n",
        "    if((sum >= 2) & (sumAux >= 2) & (((1.1* media) < mediaAux))): # Si hay mas de 2 participaciones (en esas condiciones y resto ) y con una media al menos un 33% mas baja , es valido\n",
        "      train.at[i, 'DestrezaLLuvia'] = 1\n",
        "    else:\n",
        "      train.at[i, 'DestrezaLLuvia'] = 0\n",
        "\n",
        "indicesOg= len(trainOg.index)\n",
        "indices = len(train.index)\n",
        "listaLLuvia = train['LLuvia'].unique().tolist()\n",
        "destrezaLLuvia(indices, indicesOg,  listaLLuvia)"
      ]
    },
    {
      "cell_type": "code",
      "execution_count": null,
      "metadata": {
        "id": "T_FU4Xy4nMOG"
      },
      "outputs": [],
      "source": [
        "train['DestrezaLLuvia'].value_counts()[:35].sort_values(ascending=False) #90 primeras apariencias >= 3"
      ]
    },
    {
      "cell_type": "markdown",
      "metadata": {
        "id": "I1SlT8bgp7Yi"
      },
      "source": [
        "### Busqueda Temperatura\n",
        "---"
      ]
    },
    {
      "cell_type": "code",
      "execution_count": null,
      "metadata": {
        "id": "_SG-vHa5p7Yi"
      },
      "outputs": [],
      "source": [
        "train['Temperatura'].value_counts().sort_values(ascending=False) #90 primeras apariencias >= 3"
      ]
    },
    {
      "cell_type": "code",
      "execution_count": null,
      "metadata": {
        "id": "fTIW_VqMp7Yj"
      },
      "outputs": [],
      "source": [
        "def comprobacionTipoTemperatura(indice, listaTemperatura):\n",
        "  tipo = -1 # 0 -> < 20 / 1 -> > 30 > x < 20 / 2 -> > > 30\n",
        "  val = train.at[indice, 'Temperatura']\n",
        "  for meteo in listaMeteo:\n",
        "   if(val > 30):\n",
        "      tipo = 2\n",
        "   elif(val < 20):\n",
        "      tipo = 0\n",
        "   else:\n",
        "     tipo = 0\n",
        "  return tipo;\n",
        "\n",
        "def comprobacionTipoTemperaturaOg(indice, listaTemperatura):\n",
        "  tipo = -1 # 0 -> < 20 / 1 -> > 30 > x < 20 / 2 -> > > 30\n",
        "  val = trainOg.at[indice, 'Temperatura']\n",
        "  for meteo in listaMeteo:\n",
        "   if(val > 30):\n",
        "      tipo = 2\n",
        "   elif(val < 20):\n",
        "      tipo = 0\n",
        "   else:\n",
        "     tipo = 0\n",
        "  return tipo;\n",
        "\n",
        "def destrezaTemperatura(indices, indicesOg, listaTemperatura, ):\n",
        "  for i in range(indices):\n",
        "    print(i)\n",
        "    tipo = comprobacionTipoTemperatura(i, listaTemperatura)\n",
        "    nombre = train.at[i, 'NombreCaballo']\n",
        "    fecha = train.at[i, 'FechaAux']\n",
        "    media = 0 # Media carreras\n",
        "    sum = 0 # Numero Carreras\n",
        "    mediaAux = 0\n",
        "    sumAux = 0\n",
        "    for j in range(indicesOg):\n",
        "      fechaAux = trainOg.at[j, 'FechaAux']\n",
        "      tipoAux = comprobacionTipoTemperaturaOg(j, listaTemperatura)\n",
        "      nombreAux= trainOg.at[j, 'NombreCaballo']\n",
        "      if(nombreAux == nombre):\n",
        "        if((fechaAux < fecha) & (tipoAux == tipo)):\n",
        "          media += (trainPuesto.at[j, 'PuestoOg'] )\n",
        "          sum += 1\n",
        "        elif((fechaAux < fecha) & (tipoAux != tipo)):\n",
        "          mediaAux += (trainPuesto.at[j, 'PuestoOg'] )\n",
        "          sumAux += 1\n",
        "    if(sum != 0):\n",
        "      media /= sum\n",
        "    if(sumAux != 0):\n",
        "      mediaAux /= sumAux\n",
        "    print(i, \"-->\", nombre, \" - Media->\", media, \"/MediaAux-->\", mediaAux, \"/Numero Destreza(\", sum, sumAux, \"):Numero Otros/\")\n",
        "    if((sum >= 2) & (sumAux >= 2) & (((1.1* media) < mediaAux))): # Si hay mas de 2 participaciones (en esas condiciones y resto ) y con una media al menos un 33% mas baja , es valido\n",
        "      train.at[i, 'DestrezaTemperatura'] = 1\n",
        "    else:\n",
        "      train.at[i, 'DestrezaTemperatura'] = 0\n",
        "\n",
        "indicesOg = len(trainOg.index)\n",
        "indices = len(train.index)\n",
        "listaTemperatura = train['Temperatura'].unique().tolist()\n",
        "destrezaTemperatura(indices, indicesOg,  listaTemperatura)"
      ]
    },
    {
      "cell_type": "code",
      "execution_count": null,
      "metadata": {
        "id": "6H_klrDYp7Yj"
      },
      "outputs": [],
      "source": [
        "train['DestrezaTemperatura'].value_counts().sort_values(ascending=False) #90 primeras apariencias >= 3"
      ]
    },
    {
      "cell_type": "markdown",
      "metadata": {
        "id": "nIhIX5h0wews"
      },
      "source": [
        "### Busqueda Viento\n",
        "---"
      ]
    },
    {
      "cell_type": "code",
      "execution_count": null,
      "metadata": {
        "id": "ggAcKaSiwews"
      },
      "outputs": [],
      "source": [
        "train['Viento'].value_counts().sort_values(ascending=False) #90 primeras apariencias >= 3"
      ]
    },
    {
      "cell_type": "code",
      "execution_count": null,
      "metadata": {
        "id": "i-b7fTJKwews"
      },
      "outputs": [],
      "source": [
        "def comprobacionTipoViento(indice, listaViento):\n",
        "  tipo = -1 # 0 -> < 5 / 1 -> > 30 > x > 5 / 2 -> > > 30\n",
        "  val = train.at[indice, 'Viento']\n",
        "  for meteo in listaMeteo:\n",
        "   if(val > 30):\n",
        "      tipo = 2\n",
        "   elif(val < 5):\n",
        "      tipo = 0\n",
        "   else:\n",
        "     tipo = 0\n",
        "  return tipo;\n",
        "\n",
        "\n",
        "def comprobacionTipoVientoOg(indice, listaViento):\n",
        "  tipo = -1 # 0 -> < 5 / 1 -> > 30 > x > 5 / 2 -> > > 30\n",
        "  val = trainOg.at[indice, 'Viento']\n",
        "  for meteo in listaMeteo:\n",
        "   if(val > 30):\n",
        "      tipo = 2\n",
        "   elif(val < 5):\n",
        "      tipo = 0\n",
        "   else:\n",
        "     tipo = 0\n",
        "  return tipo;\n",
        "\n",
        "def destrezaViento(indices, indicesOg, listaViento):\n",
        "  for i in range(indices):\n",
        "    print(i)\n",
        "    tipo = comprobacionTipoViento(i, listaViento)\n",
        "    nombre = train.at[i, 'NombreCaballo']\n",
        "    fecha = train.at[i, 'FechaAux']\n",
        "    media = 0 # Media carreras\n",
        "    sum = 0 # Numero Carreras\n",
        "    mediaAux = 0\n",
        "    sumAux = 0\n",
        "    for j in range(indicesOg):\n",
        "      fechaAux = trainOg.at[j, 'FechaAux']\n",
        "      tipoAux = comprobacionTipoVientoOg(j, listaViento)\n",
        "      nombreAux= trainOg.at[j, 'NombreCaballo']\n",
        "      if(nombreAux == nombre):\n",
        "        if((fechaAux < fecha) & (tipoAux == tipo)):\n",
        "          media += (trainPuesto.at[j, 'PuestoOg'] )\n",
        "          sum += 1\n",
        "        elif((fechaAux < fecha) & (tipoAux != tipo)):\n",
        "          mediaAux += (trainPuesto.at[j, 'PuestoOg'] )\n",
        "          sumAux += 1\n",
        "    if(sum != 0):\n",
        "      media /= sum\n",
        "    if(sumAux != 0):\n",
        "      mediaAux /= sumAux\n",
        "    print(i, \"-->\", nombre, \" - Media->\", media, \"/MediaAux-->\", mediaAux, \"/Numero Destreza(\", sum, sumAux, \"):Numero Otros/\")\n",
        "    if((sum >= 2) & (sumAux >= 2) & (((1.1* media) < mediaAux))): # Si hay mas de 2 participaciones (en esas condiciones y resto ) y con una media al menos un 33% mas baja , es valido\n",
        "      train.at[i, 'DestrezaViento'] = 1\n",
        "    else:\n",
        "      train.at[i, 'DestrezaViento'] = 0\n",
        "\n",
        "indicesOg =  len(trainOg.index)\n",
        "indices = len(train.index)\n",
        "listaViento = train['Viento'].unique().tolist()\n",
        "destrezaViento(indices,indicesOg, listaViento)"
      ]
    },
    {
      "cell_type": "code",
      "execution_count": null,
      "metadata": {
        "id": "3PZEH-suwewt"
      },
      "outputs": [],
      "source": [
        "train['DestrezaViento'].value_counts().sort_values(ascending=False) #90 primeras apariencias >= 3"
      ]
    },
    {
      "cell_type": "markdown",
      "metadata": {
        "id": "coH3wMKOycVk"
      },
      "source": [
        "### Busqueda Terreno\n",
        "---"
      ]
    },
    {
      "cell_type": "code",
      "execution_count": null,
      "metadata": {
        "id": "h7eoAOQjycVk"
      },
      "outputs": [],
      "source": [
        "train['Terreno'].value_counts().sort_values(ascending=False) #90 primeras apariencias >= 3"
      ]
    },
    {
      "cell_type": "code",
      "execution_count": null,
      "metadata": {
        "id": "e_D_4IQ3ycVk"
      },
      "outputs": [],
      "source": [
        "def comprobacionTipoTerreno(indice, listaTerreno):\n",
        "  tipo = -1 # 0 -> Arena / 1 -> H - Blando / 2 -> H - Bueno\n",
        "  val = train.at[indice, 'Terreno']\n",
        "  if(val == \"H-Bueno\"):\n",
        "    element = element.replace('H-Bueno', 'H - Bueno')\n",
        "    train.at[indice, 'Terreno'] = val\n",
        "  for meteo in listaMeteo:\n",
        "   if(val == 'H - Bueno'):\n",
        "      tipo = 2\n",
        "   elif(val == 'H - Blando'):\n",
        "      tipo = 1\n",
        "   elif(val == 'H - Blando'):\n",
        "      tipo = 0\n",
        "   else:\n",
        "      tipo = 4\n",
        "  return tipo;\n",
        "\n",
        "def comprobacionTipoTerrenoOg(indice, listaTerreno):\n",
        "  tipo = -1 # 0 -> Arena / 1 -> H - Blando / 2 -> H - Bueno\n",
        "  val = trainOg.at[indice, 'Terreno']\n",
        "  if(val == \"H-Bueno\"):\n",
        "    element = element.replace('H-Bueno', 'H - Bueno')\n",
        "    trainOg.at[indice, 'Terreno'] = val\n",
        "  for meteo in listaMeteo:\n",
        "   if(val == 'H - Bueno'):\n",
        "      tipo = 2\n",
        "   elif(val == 'H - Blando'):\n",
        "      tipo = 1\n",
        "   elif(val == 'H - Blando'):\n",
        "      tipo = 0\n",
        "   else:\n",
        "      tipo = 4\n",
        "  return tipo;\n",
        "\n",
        "def destrezaTerreno(indices,indicesOg, listaTerreno):\n",
        "  for i in range(indices):\n",
        "    print(i)\n",
        "    tipo = comprobacionTipoTerreno(i, listaTerreno)\n",
        "    nombre = train.at[i, 'NombreCaballo']\n",
        "    fecha = train.at[i, 'FechaAux']\n",
        "    media = 0 # Media carreras\n",
        "    sum = 0 # Numero Carreras\n",
        "    mediaAux = 0\n",
        "    sumAux = 0\n",
        "    for j in range(indicesOg):\n",
        "      fechaAux = trainOg.at[j, 'FechaAux']\n",
        "      tipoAux = comprobacionTipoTerrenoOg(j, listaTerreno)\n",
        "      nombreAux= trainOg.at[j, 'NombreCaballo']\n",
        "      if(nombreAux == nombre):\n",
        "        if((fechaAux < fecha) & (tipoAux == tipo)):\n",
        "          media += (trainPuesto.at[j, 'PuestoOg'] )\n",
        "          sum += 1\n",
        "        elif((fechaAux < fecha) & (tipoAux != tipo)):\n",
        "          mediaAux += (trainPuesto.at[j, 'PuestoOg'] )\n",
        "          sumAux += 1\n",
        "    if(sum != 0):\n",
        "      media /= sum\n",
        "    if(sumAux != 0):\n",
        "      mediaAux /= sumAux\n",
        "    print(i, \"-->\", nombre, \" - Media->\", media, \"/MediaAux-->\", mediaAux, \"/Numero Destreza(\", sum, sumAux, \"):Numero Otros/\")\n",
        "    if((sum >= 2) & (sumAux >= 2) & (((1.1* media) < mediaAux))): # Si hay mas de 2 participaciones (en esas condiciones y resto ) y con una media al menos un 33% mas baja , es valido\n",
        "      train.at[i, 'DestrezaTerreno'] = 1\n",
        "    else:\n",
        "      train.at[i, 'DestrezaTerreno'] = 0\n",
        "\n",
        "\n",
        "indices = len(train.index)\n",
        "indicesOg = len(trainOg.index)\n",
        "listaTerreno = train['Terreno'].unique().tolist()\n",
        "destrezaTerreno(indices,indicesOg,  listaTerreno)"
      ]
    },
    {
      "cell_type": "code",
      "execution_count": null,
      "metadata": {
        "id": "s-tfyXrGycVl"
      },
      "outputs": [],
      "source": [
        "train['DestrezaTerreno'].value_counts().sort_values(ascending=False) #90 primeras apariencias >= 3"
      ]
    },
    {
      "cell_type": "markdown",
      "metadata": {
        "id": "-W5Gh3_ueiKu"
      },
      "source": [
        "### **Tratamiento (CaballoDistintos)**"
      ]
    },
    {
      "cell_type": "code",
      "execution_count": null,
      "metadata": {
        "id": "jwitMfNzep20"
      },
      "outputs": [],
      "source": [
        "train.loc[~train[\"NombreCaballo\"].isin(listAparicionesHorse), \"NombreCaballo\"] = \"OtherHorse\" # Lo posponemos a este momento(por ahora)"
      ]
    },
    {
      "cell_type": "markdown",
      "metadata": {
        "id": "TNcJzf5clRwn"
      },
      "source": [
        "## **Tratamiento (Edad)**"
      ]
    },
    {
      "cell_type": "code",
      "execution_count": null,
      "metadata": {
        "id": "7drI0KXqlRwn"
      },
      "outputs": [],
      "source": [
        "train['Edad'].value_counts()[:10].sort_values(ascending=False) #90 primeras apariencias >= 3"
      ]
    },
    {
      "cell_type": "markdown",
      "metadata": {
        "id": "Cgzb2rAalRwn"
      },
      "source": [
        "## **Tratamiento (Mantilla)**"
      ]
    },
    {
      "cell_type": "code",
      "execution_count": null,
      "metadata": {
        "id": "FK4j7b2LlRwo"
      },
      "outputs": [],
      "source": [
        "train['Mantilla'].value_counts()[:35].sort_values(ascending=False) #90 primeras apariencias >= 3"
      ]
    },
    {
      "cell_type": "markdown",
      "metadata": {
        "id": "OLeBdZtqlRwp"
      },
      "source": [
        "## **Tratamiento (Problemas)**\n"
      ]
    },
    {
      "cell_type": "code",
      "execution_count": null,
      "metadata": {
        "id": "MHy4cLmZlRwp"
      },
      "outputs": [],
      "source": [
        "train['Problemas'].value_counts()[:35].sort_values(ascending=False) #90 primeras apariencias >= 3"
      ]
    },
    {
      "cell_type": "code",
      "execution_count": null,
      "metadata": {
        "id": "RjpTdMkrlRwq"
      },
      "outputs": [],
      "source": [
        "train['Problemas'] = train['Problemas'].fillna('0')\n",
        "train['Problema_Nulo'] = np.where(train['Problemas'].str.contains('0'),1,0)\n",
        "train['Problema_1'] = np.where(train['Problemas'].str.contains('1'),1,0)\n",
        "train['Problema_2'] = np.where(train['Problemas'].str.contains('2'),1,0)\n",
        "train['Problema_3'] = np.where(train['Problemas'].str.contains('3'),1,0)\n",
        "train['Problema_4'] = np.where(train['Problemas'].str.contains('4'),1,0)\n",
        "train['Problema_5'] = np.where(train['Problemas'].str.contains('5'),1,0)\n",
        "train['Problema_6'] = np.where(train['Problemas'].str.contains('6'),1,0)\n",
        "train['Problema_7'] = np.where(train['Problemas'].str.contains('7'),1,0)\n",
        "train['Problema_8'] = np.where(train['Problemas'].str.contains('8'),1,0)\n",
        "train.head()\n",
        "\n"
      ]
    },
    {
      "cell_type": "markdown",
      "metadata": {
        "id": "Y0hIuNADlRwq"
      },
      "source": [
        "## **Tratamiento (UltimasActuaciones)**\n"
      ]
    },
    {
      "cell_type": "code",
      "execution_count": null,
      "metadata": {
        "id": "brpsU6QnlRwq"
      },
      "outputs": [],
      "source": [
        "# def count_lastRaces(arrayLast):\n",
        "#   index = 0\n",
        "#   for element in arrayLast:\n",
        "#     element = element.replace(',', '')\n",
        "#     element = element.replace('[', '')\n",
        "#     element = element[:len(element)-1]\n",
        "#     sum = 0\n",
        "#     if 'Debutante' in element:\n",
        "#       sum = 10\n",
        "#       element = []\n",
        "#     else:\n",
        "#       element = element.replace('NP', '08')\n",
        "#       element = element.replace('Desc', '08')\n",
        "#       element = element.replace(' ', '')\n",
        "#       i = len(element)\n",
        "#       j = len(element)\n",
        "#       iter = (len(element)) / 2\n",
        "#       count = 0\n",
        "#       while(iter > 0):\n",
        "#         if(count == 0):\n",
        "#           i = i-2\n",
        "#           sum += int(element[i:j])**1.3\n",
        "#           j = j-2\n",
        "#         elif(count == 1):\n",
        "#           i = i-2\n",
        "#           sum += int(element[i:j])**1.2\n",
        "#           j = j-2\n",
        "#         else:\n",
        "#           print(iter)\n",
        "#           i = i-2\n",
        "#           sum += int(element[i:j])\n",
        "#           j = j-2\n",
        "#         count += 1\n",
        "#         iter -= 1\n",
        "#       sum = sum / len(element)\n",
        "#       if(index < 30):\n",
        "#         print('******INDEX ', index+2, '*****')\n",
        "#         print('Sum -->', sum, '/Len -->', len(element))\n",
        "#         print('Result -->', sum, '/Element -->' ,element)\n",
        "#     train.at[index, 'MediaUltimasActuaciones'] = sum\n",
        "#     train.at[index, 'CantidadActuaciones'] = len(element)\n",
        "#     index += 1\n",
        "\n",
        "\n",
        "\n",
        "\n",
        "\n",
        "# t_array = train[\"UltimasActuaciones\"]\n",
        "# count_lastRaces(t_array)"
      ]
    },
    {
      "cell_type": "code",
      "execution_count": null,
      "metadata": {
        "id": "YZ7UPavTlRwr"
      },
      "outputs": [],
      "source": [
        "#  train['MediaUltimasActuaciones'].head(25)"
      ]
    },
    {
      "cell_type": "markdown",
      "metadata": {
        "id": "4dZmuPgIlRws"
      },
      "source": [
        "## **Tratamiento (Hora)**\n"
      ]
    },
    {
      "cell_type": "code",
      "execution_count": null,
      "metadata": {
        "id": "BD5YDOnylRws"
      },
      "outputs": [],
      "source": [
        "train['Hora'] = train['Hora'].str.replace(':', '')"
      ]
    },
    {
      "cell_type": "markdown",
      "metadata": {
        "id": "_92pJYndlRwt"
      },
      "source": [
        "## **Tratamiento (Terreno)**\n"
      ]
    },
    {
      "cell_type": "markdown",
      "metadata": {
        "id": "GxCqIWailRwt"
      },
      "source": [
        "## **Tratamiento (Distancia)**\n"
      ]
    },
    {
      "cell_type": "markdown",
      "metadata": {
        "id": "M6UpYVOVlRwt"
      },
      "source": [
        "## **Tratamiento (Tipo)**\n"
      ]
    },
    {
      "cell_type": "markdown",
      "metadata": {
        "id": "YNYSed3olRwt"
      },
      "source": [
        "## **Tratamiento (SentidoHipodromo)**\n"
      ]
    },
    {
      "cell_type": "markdown",
      "metadata": {
        "id": "4D0eOBFflRwt"
      },
      "source": [
        "## **Tratamiento (Meteorologia)**\n"
      ]
    },
    {
      "cell_type": "markdown",
      "metadata": {
        "id": "gD5cZkFclRwu"
      },
      "source": [
        "## **Tratamiento (Lluvia)**\n"
      ]
    },
    {
      "cell_type": "markdown",
      "metadata": {
        "id": "HouSXFB_lRwu"
      },
      "source": [
        "## **Tratamiento (Viento)**\n"
      ]
    },
    {
      "cell_type": "markdown",
      "metadata": {
        "id": "XL0mqMmxlRwu"
      },
      "source": [
        "## **Tratamiento (TemperaturaMax)**\n"
      ]
    },
    {
      "cell_type": "markdown",
      "metadata": {
        "id": "AA170c9RlRwu"
      },
      "source": [
        "## **Tratamiento (TemperaturaMin)**\n"
      ]
    },
    {
      "cell_type": "markdown",
      "metadata": {
        "id": "oQ-ZsvXDlRwx"
      },
      "source": [
        "## **Tratamiento (Hipodromo)**\n"
      ]
    },
    {
      "cell_type": "markdown",
      "metadata": {
        "id": "DDyOyCLzG4a-"
      },
      "source": [
        "#Continuacion"
      ]
    },
    {
      "cell_type": "code",
      "execution_count": null,
      "metadata": {
        "id": "FpmIxDDOy3yN"
      },
      "outputs": [],
      "source": [
        "def conversion():\n",
        "  for i in range(len(train.index)):\n",
        "    if(train.at[i ,'Contrincantes'] < 11):\n",
        "      if(train.at[i ,'PuestoOg'] == 1 or train.at[i, 'PuestoOg'] == 2):\n",
        "        train.at[i, 'Puesto'] = 0\n",
        "      else:\n",
        "        train.at[i, 'Puesto'] = 1\n",
        "    else:\n",
        "      if(train.at[i, 'PuestoOg'] == 1 or train.at[i, 'PuestoOg'] == 2 or train.at[i, 'PuestoOg'] == 3):\n",
        "         train.at[i, 'Puesto'] = 0\n",
        "      else:\n",
        "        train.at[i, 'Puesto'] = 1\n",
        "\n",
        "conversion()"
      ]
    },
    {
      "cell_type": "code",
      "execution_count": null,
      "metadata": {
        "id": "nfRV-lB9zFf-"
      },
      "outputs": [],
      "source": [
        "y_testNN = train.pop('Puesto')"
      ]
    },
    {
      "cell_type": "code",
      "execution_count": null,
      "metadata": {
        "id": "qr4DCNzkHSC5"
      },
      "outputs": [],
      "source": [
        "X_val = train\n",
        "ids = train\n",
        "X_val = X_val.reset_index()\n",
        "X_val.info()\n",
        "X_valTF = X_val #TensorFlow"
      ]
    },
    {
      "cell_type": "code",
      "execution_count": null,
      "metadata": {
        "id": "fnvAxxhxTGJh"
      },
      "outputs": [],
      "source": [
        "column_transformer_test = sklearn.compose.ColumnTransformer(transformers=[\n",
        "    (\"drop\", \"drop\", ['Fecha','year', 'day', 'Problemas','Hora', 'FechaAux', 'Otoño', 'month', 'Distancia', 'Mantilla', 'Terreno', 'Tipo', 'Meteorología', 'LLuvia', 'Viento', 'Temperatura', 'Hipodromo', 'Contrincantes', 'PuestoOg']),\n",
        "    (\"scale\", sklearn.preprocessing.StandardScaler(), []),\n",
        "    # (\"num\", sklearn.preprocessing.MinMaxScaler(), ['Distancia', 'Edad', 'Peso']),\n",
        "    (\"one-hot\", sklearn.preprocessing.OneHotEncoder(handle_unknown=\"ignore\"), ['NombreCaballo','Propietario', 'Preparador', 'Jinete']),\n",
        "], remainder='passthrough');\n",
        "\n",
        "# column_transformer = sklearn.compose.ColumnTransformer(transformers=[\n",
        "#     (\"drop\", \"drop\", ['UltimasActuaciones','Fecha','year','day', 'Problemas']),\n",
        "#     (\"scale\", sklearn.preprocessing.StandardScaler(), []),\n",
        "#     (\"one-hot\", sklearn.preprocessing.OneHotEncoder(handle_unknown=\"ignore\"), ['NombreCaballo','Peso','Edad', 'Mantilla','Propietario', 'Preparador', 'Jinete', 'estacion', 'FechaAux', 'Terreno','Distancia', 'Tipo', 'Meteorología', 'LLuvia', 'Viento', 'TemperaturaMax', 'TemperaturaMin', 'Hipodromo']),\n",
        "# ], remainder='passthrough');"
      ]
    },
    {
      "cell_type": "code",
      "execution_count": null,
      "metadata": {
        "id": "WZY_P1RQR1u4"
      },
      "outputs": [],
      "source": [
        "train = train.reset_index()\n",
        "X_testAux1NN = X_val\n",
        "\n",
        "X_testArrayNN = pd.DataFrame(column_transformer_test.fit_transform(X_val).toarray())\n",
        "X_val = column_transformer_test.fit_transform(X_val)\n",
        "\n"
      ]
    },
    {
      "cell_type": "code",
      "execution_count": null,
      "metadata": {
        "id": "y-LjZq30vRlw"
      },
      "outputs": [],
      "source": [
        "X_val"
      ]
    },
    {
      "cell_type": "code",
      "execution_count": null,
      "metadata": {
        "id": "KeotIhAwzGNY"
      },
      "outputs": [],
      "source": [
        "column_transformer_train.get_feature_names_out()"
      ]
    },
    {
      "cell_type": "code",
      "execution_count": null,
      "metadata": {
        "id": "KB71KKrFMfmw"
      },
      "outputs": [],
      "source": [
        "feat_names = column_transformer_train.get_feature_names_out()"
      ]
    },
    {
      "cell_type": "code",
      "execution_count": null,
      "metadata": {
        "id": "b2wOYxlvX5Qn"
      },
      "outputs": [],
      "source": [
        "column_transformer_test.get_feature_names_out()"
      ]
    },
    {
      "cell_type": "code",
      "execution_count": null,
      "metadata": {
        "id": "5miTGWr3jZtj"
      },
      "outputs": [],
      "source": [
        "print(X_val)"
      ]
    },
    {
      "cell_type": "code",
      "execution_count": null,
      "metadata": {
        "id": "0IXHruWCN3hD"
      },
      "outputs": [],
      "source": [
        "X_testNN = X_train\n",
        "X_testAuxNN = X_val"
      ]
    },
    {
      "cell_type": "markdown",
      "metadata": {
        "id": "s9BK-WgyQn9l"
      },
      "source": [
        "# Algoritmos\n",
        "---"
      ]
    },
    {
      "cell_type": "code",
      "execution_count": null,
      "metadata": {
        "id": "m2gBRtgJQMQR"
      },
      "outputs": [],
      "source": [
        "from sklearn.metrics import mean_absolute_error\n",
        "tree.fit(X, y);\n",
        "\n",
        "print('---')\n",
        "\n",
        "print('Tree (train): ' + str(mean_absolute_error(y_train, tree.predict(X_train))))\n",
        "predicted_yTree = tree.predict(X_val)\n",
        "print('Tree (test): ' + str(mean_absolute_error(y_testNN, tree.predict(X_val))))\n",
        "\n",
        "print('---')\n",
        "\n",
        "print('RF (train): ' + str(mean_absolute_error(y_train, rf.predict(X_train))))\n",
        "predicted_yRF = rf.predict(X_val)\n",
        "print('RF (test): ' + str(mean_absolute_error(y_testNN, rf.predict(X_val))))\n",
        "\n",
        "print('---')\n",
        "\n",
        "print('XGB (train): ' + str(mean_absolute_error(y_train, xgb_model.predict(X_train))))\n",
        "predicted_yXGB = xgb_model.predict(X_val)\n",
        "print('XGB (test): ' + str(mean_absolute_error(y_testNN, xgb_model.predict(X_val))))\n",
        "\n",
        "print('---')\n",
        "\n",
        "print('Cat (train): ' + str(mean_absolute_error(y_train, model_cat_tun.predict(X_train))))\n",
        "predicted_yCat = model_cat_tun.predict(X_val)\n",
        "print('Cat (test): ' + str(mean_absolute_error(y_testNN, model_cat_tun.predict(X_val))))\n",
        "\n",
        "print('---')\n",
        "\n",
        "print('Lineal (train): ' + str(mean_absolute_error(y_train, linear.predict(X_train))))\n",
        "predicted_yLineal = linear.predict(X_val)\n",
        "print('Lineal (test): ' + str(mean_absolute_error(y_testNN, linear.predict(X_val))))\n",
        "\n",
        "\n",
        "\n",
        "print('---')\n",
        "\n",
        "print('Ridge (train): ' + str(mean_absolute_error(y_train, ridge.predict(X_train))))\n",
        "predicted_yRidge = ridge.predict(X_val)\n",
        "print('Ridge (test): ' + str(mean_absolute_error(y_testNN, ridge.predict(X_val))))\n",
        "\n",
        "\n",
        "print('---')\n",
        "\n",
        "print('LASSO (train): ' + str(mean_absolute_error(y_train, lasso.predict(X_train))))\n",
        "predicted_yLASSO = lasso.predict(X_val)\n",
        "print('LASSO (test): ' + str(mean_absolute_error(y_testNN, lasso.predict(X_val))))\n",
        "\n",
        "\n",
        "print('---')\n",
        "\n",
        "print('ElasticNet (train): ' + str(mean_absolute_error(y_train, elasticnet.predict(X_train))))\n",
        "predicted_yElastic = elasticnet.predict(X_val)\n",
        "print('ElasticNet (test): ' + str(mean_absolute_error(y_testNN, elasticnet.predict(X_val))))"
      ]
    },
    {
      "cell_type": "code",
      "execution_count": null,
      "metadata": {
        "id": "jrBS3EDhgDcp"
      },
      "outputs": [],
      "source": [
        "from matplotlib.pyplot import figure\n",
        "feat_importances = pd.Series(xgb_model.feature_importances_, index=feat_names).sort_values(ascending = False)\n",
        "plt.figure(figsize=(10,30))\n",
        "feat_importances.plot(kind = 'barh')"
      ]
    },
    {
      "cell_type": "code",
      "execution_count": null,
      "metadata": {
        "id": "zUS3buJ7etv_"
      },
      "outputs": [],
      "source": [
        "def get_xgb_imp(xgb, feat_names):\n",
        "    from numpy import array\n",
        "    imp_vals = xgb.booster().get_fscore()\n",
        "    imp_dict = {feat_names[i]:float(imp_vals.get('f'+str(i),0.)) for i in range(len(feat_names))}\n",
        "    total = array(imp_dict.values()).sum()\n",
        "    return {k:v/total for k,v in imp_dict.items()}"
      ]
    },
    {
      "cell_type": "code",
      "execution_count": null,
      "metadata": {
        "id": "SJcEpxQry2WF"
      },
      "outputs": [],
      "source": [
        "import graphviz\n",
        "from sklearn.tree import export_graphviz\n",
        "\n",
        "dot_data = export_graphviz(tree, out_file=None)\n",
        "graph = graphviz.Source(dot_data)"
      ]
    },
    {
      "cell_type": "code",
      "execution_count": null,
      "metadata": {
        "id": "DJ7TQU6sGHXx"
      },
      "outputs": [],
      "source": [
        "trainOg = train\n",
        "train['Prediccion'] = 0\n",
        "train['Puesto'] = 0\n",
        "train['Carrera'] = 0\n",
        "y_val = pd.concat([train['Carrera'], train['Puesto'],train['NombreCaballo'], train['Prediccion'], train['UltimasActuacionesCorto'], train['UltimasActuacionesMedio'],train['UltimasActuacionesLargo'],train['DestrezaDistancia'], train['SameJockey'], train['FechaAux'], train['Hora']],axis=1)"
      ]
    },
    {
      "cell_type": "code",
      "execution_count": null,
      "metadata": {
        "id": "WYHiHuePkTqA"
      },
      "outputs": [],
      "source": [
        "def ordenarTest(horarios, index, x):\n",
        "  carrera = 0\n",
        "  aux = -1\n",
        "  for horario in horarios:\n",
        "    if(aux != horario):\n",
        "      carrera += 1\n",
        "      aux = horario\n",
        "    dict = {}\n",
        "    conta = 0\n",
        "    for i in index:\n",
        "      horarioActual = x.at[i, 'Hora']\n",
        "      if(horario == horarioActual ):\n",
        "          x.at[i, 'Carrera'] = carrera\n",
        "          prediccion = x.at[i, 'Prediccion']\n",
        "          dict[i] = prediccion\n",
        "          conta += 1\n",
        "    puesto = 1\n",
        "    for w in sorted(dict, key=dict.get):\n",
        "      x.at[w, 'Puesto'] = puesto\n",
        "      puesto += 1\n",
        "\n",
        "def ordenarTestReverse(horarios, index, x):\n",
        "  carrera = 0\n",
        "  aux = -1\n",
        "  for horario in horarios:\n",
        "    if(aux != horario):\n",
        "      carrera += 1\n",
        "      aux = horario\n",
        "    dict = {}\n",
        "    conta = 0\n",
        "    for i in index:\n",
        "      horarioActual = x.at[i, 'Hora']\n",
        "      if(horario == horarioActual ):\n",
        "          x.at[i, 'Carrera'] = carrera\n",
        "          prediccion = x.at[i, 'Prediccion']\n",
        "          dict[i] = prediccion\n",
        "          conta += 1\n",
        "    puesto = 1\n",
        "    for w in sorted(dict, key=dict.get, reverse=True):\n",
        "      x.at[w, 'Puesto'] = puesto\n",
        "      puesto += 1\n",
        "\n",
        "\n",
        "\n",
        "horarios = train['Hora'].tolist()\n",
        "index = train['index'].tolist()"
      ]
    },
    {
      "cell_type": "code",
      "execution_count": null,
      "metadata": {
        "id": "kV2jm8yXJYmh"
      },
      "outputs": [],
      "source": [
        "y_valTree = y_val\n",
        "y_valRF = y_val\n",
        "y_valXgb = y_val\n",
        "y_valCat = y_val\n",
        "y_val1 = y_val\n",
        "y_val2= y_val\n",
        "y_val3 = y_val\n",
        "y_val4= y_val\n",
        "y_valNN = y_val\n",
        "y_valTreeXgb = y_val"
      ]
    },
    {
      "cell_type": "code",
      "execution_count": null,
      "metadata": {
        "id": "pP3DWfcuGR2L"
      },
      "outputs": [],
      "source": [
        "y_valTree['Prediccion'] = predicted_yTree\n",
        "xTree = y_valTree\n",
        "ordenarTestReverse(horarios, index, xTree)\n",
        "xTree.to_csv('outputTree.csv' , index=False)"
      ]
    },
    {
      "cell_type": "code",
      "execution_count": null,
      "metadata": {
        "id": "FSxPmMQczM_W"
      },
      "outputs": [],
      "source": [
        "y_valRF['Prediccion'] = predicted_yRF\n",
        "xRF = y_valRF\n",
        "ordenarTestReverse(horarios, index, xRF)\n",
        "xRF.to_csv('outputRF.csv' , index=False)"
      ]
    },
    {
      "cell_type": "code",
      "execution_count": null,
      "metadata": {
        "id": "XfEgk3lrfyo3"
      },
      "outputs": [],
      "source": [
        "y_valXgb['Prediccion'] = predicted_yXGB\n",
        "xXGB = y_valXgb\n",
        "ordenarTestReverse(horarios, index, xXGB)\n",
        "xXGB.to_csv('outputXgb.csv' , index=False)\n"
      ]
    },
    {
      "cell_type": "code",
      "execution_count": null,
      "metadata": {
        "id": "CFCcGS23yIsV"
      },
      "outputs": [],
      "source": [
        "y_valTreeXgb['Prediccion'] = (predicted_yTree + predicted_yXGB)\n",
        "xTreeXgb = y_valTreeXgb\n",
        "ordenarTestReverse(horarios, index, xTreeXgb)\n",
        "xTreeXgb.to_csv('outputTreeXGB.csv' , index=False)"
      ]
    },
    {
      "cell_type": "code",
      "execution_count": null,
      "metadata": {
        "id": "veJOEkFYnJP0"
      },
      "outputs": [],
      "source": [
        "y_valCat['Prediccion'] = predicted_yCat\n",
        "xCat = y_valCat\n",
        "ordenarTestReverse(horarios, index, xCat)\n",
        "xCat.to_csv('outputCat.csv' , index=False)"
      ]
    },
    {
      "cell_type": "code",
      "execution_count": null,
      "metadata": {
        "id": "KJsp0jrkX1RG"
      },
      "outputs": [],
      "source": [
        "\n",
        "y_val1['Prediccion'] = predicted_yLineal\n",
        "x1 = y_val1\n",
        "ordenarTestReverse(horarios, index, x1)\n",
        "x1.to_csv('outputLineal.csv' , index=False)\n",
        "y_val2['Prediccion'] = predicted_yRidge\n",
        "# print(x2)\n",
        "# x2 = y_val2\n",
        "# ordenarTestReverse(horarios, index, x2)\n",
        "# x2.to_csv('outputRidge.csv', index=False)\n",
        "y_val3['Prediccion'] = predicted_yLASSO\n",
        "x3 = y_val3\n",
        "ordenarTestReverse(horarios, index, x3)\n",
        "x3.to_csv('outputLASSO.csv', index=False)\n",
        "y_val4['Prediccion'] = predicted_yElastic\n",
        "x4 = y_val4\n",
        "ordenarTestReverse(horarios, index, x4)\n",
        "x4.to_csv('outputElastic.csv' , index=False)"
      ]
    },
    {
      "cell_type": "markdown",
      "metadata": {
        "id": "YmInW-4vZsjC"
      },
      "source": [
        "- **Considero importante realizar una explicacion en cada subida de .csv sobre en que se diferencia respecto al anterior**"
      ]
    },
    {
      "cell_type": "markdown",
      "metadata": {
        "id": "kZr6lvP__Jtl"
      },
      "source": [
        "# NN\n",
        "---"
      ]
    },
    {
      "cell_type": "markdown",
      "metadata": {
        "id": "HnamHEyDeN78"
      },
      "source": [
        "**Convertir 20% de la tabla superior en valores 1 ( en carrera de 11 corredores , puestos 1 , 2 y 3 y en carrera de 10 corredores , puestos 1 y 2. Resto de corredores dar valor de 0.**"
      ]
    },
    {
      "cell_type": "code",
      "execution_count": null,
      "metadata": {
        "id": "UAQ-iNfR_MUs"
      },
      "outputs": [],
      "source": [
        "import tensorflow as tf\n",
        "import numpy as np\n",
        "\n",
        "\n",
        "np.random.seed(42) # Establecer la semilla aleatoria\n",
        "tf.random.set_seed(42) # Establecer la semilla aleatoria en TensorFlow\n",
        "\n",
        "model = tf.keras.Sequential([\n",
        "    tf.keras.layers.Dense(162, activation='relu', input_shape=(189,)),\n",
        "    tf.keras.layers.Dense(81, activation='relu'),\n",
        "    tf.keras.layers.Dense(1)\n",
        "])\n",
        "model.compile(optimizer=tf.keras.optimizers.RMSprop(0.005),\n",
        "              loss='mse',\n",
        "              metrics=['mae', 'mse'])\n",
        "print(model.summary())"
      ]
    },
    {
      "cell_type": "code",
      "execution_count": null,
      "metadata": {
        "id": "Yh2qgvO2SS57"
      },
      "outputs": [],
      "source": [
        "print((X_trainArrayNN.shape))\n",
        "print((y_trainNN.shape))\n",
        "\n",
        "print(X_testArrayNN.shape)\n",
        "print(y_testNN.shape)\n",
        "\n",
        "# print((y_trainNN))\n",
        "# print((X_testArrayNN))"
      ]
    },
    {
      "cell_type": "code",
      "execution_count": null,
      "metadata": {
        "id": "45WepLsQ_ml0"
      },
      "outputs": [],
      "source": [
        "dataset = tf.data.Dataset.from_tensor_slices((X_trainArrayNN.values, y_trainNN.values))\n",
        "train_dataset = dataset.shuffle(len(X_trainArrayNN)).batch(500)\n",
        "dataset = tf.data.Dataset.from_tensor_slices((X_testArrayNN.values, y_testNN.values))\n",
        "validation_dataset = dataset.shuffle(len(X_testArrayNN)).batch(500)\n",
        "\n",
        "class EarlyStopping(tf.keras.callbacks.Callback):\n",
        "  def on_epoch_end(self, epoch, logs={}):\n",
        "    '''\n",
        "    Stops training when 0.2 > val_loss is reached\n",
        "    '''\n",
        "    # Get the current accuracy and check if it is above 95%\n",
        "    if(logs.get('val_loss') < 0.2):\n",
        "\n",
        "      # Stop training if condition is met\n",
        "      print(\"\\nThreshold reached. Stopping training...\")\n",
        "      self.model.stop_training = True\n",
        "\n",
        "# Let's instantiate our ES class\n",
        "early_stopping = EarlyStopping()\n",
        "\n",
        "# early_stop = tf.keras.callbacks.EarlyStopping(monitor='val_loss', start_from_epoch=50, patience = 50, mode='min')\n",
        "\n",
        "print(\"Start training..\\n\")\n",
        "history = model.fit(train_dataset, epochs=200 , validation_data=validation_dataset, callbacks=[early_stopping])\n",
        "# history = model.fit(train_dataset, epochs=1000 , validation_data=validation_dataset, callbacks=[early_stop])\n",
        "\n",
        "print(\"Done.\")\n",
        "\n",
        "# precision = history.history['precision']\n",
        "# val_precision = history.history['val_precision']\n",
        "# loss = history.history['loss']\n",
        "# val_loss = history.history['val_loss']\n",
        "# epochs = range(1, len(precision) + 1)\n",
        "\n",
        "# plt.plot(epochs, precision, 'b', label='Training precision')\n",
        "# plt.plot(epochs, val_precision, 'r', label='Validation precision')\n",
        "# plt.title('Training and validation precision')\n",
        "# plt.legend()\n",
        "# plt.figure()\n",
        "\n",
        "# plt.plot(epochs, loss, 'b', label='Training loss')\n",
        "# plt.plot(epochs, val_loss, 'r', label='Validation loss')\n",
        "# plt.title('Training and validation loss')\n",
        "# plt.legend()\n",
        "# plt.show()"
      ]
    },
    {
      "cell_type": "code",
      "execution_count": null,
      "metadata": {
        "id": "D_CNHe7cGTjH"
      },
      "outputs": [],
      "source": [
        "hist = pd.DataFrame(history.history)\n",
        "hist['epoch'] = history.epoch\n",
        "hist.tail()"
      ]
    },
    {
      "cell_type": "code",
      "execution_count": null,
      "metadata": {
        "id": "lYUcJqIdGVpj"
      },
      "outputs": [],
      "source": [
        "def plot_history(history):\n",
        "  hist = pd.DataFrame(history.history)\n",
        "  hist['epoch'] = history.epoch\n",
        "\n",
        "  plt.figure()\n",
        "  plt.xlabel('Epoch')\n",
        "  plt.ylabel('Mean Abs Error [MPG]')\n",
        "  plt.plot(hist['epoch'], hist['mae'],\n",
        "           label='Train Error')\n",
        "  plt.plot(hist['epoch'], hist['val_mae'],\n",
        "           label = 'Val Error')\n",
        "  plt.ylim([0,1])\n",
        "  plt.legend()\n",
        "\n",
        "  plt.figure()\n",
        "  plt.xlabel('Epoch')\n",
        "  plt.ylabel('Mean Square Error [$MPG^2$]')\n",
        "  plt.plot(hist['epoch'], hist['mse'],\n",
        "           label='Train Error')\n",
        "  plt.plot(hist['epoch'], hist['val_mse'],\n",
        "           label = 'Val Error')\n",
        "  plt.ylim([0,1])\n",
        "  plt.legend()\n",
        "\n",
        "  plt.figure()\n",
        "  plt.xlabel('Epoch')\n",
        "  plt.ylabel('Mean Abs Error [MPG]')\n",
        "  plt.plot(hist['epoch'], hist['mae'],\n",
        "           label='Train Error')\n",
        "  plt.plot(hist['epoch'], hist['val_loss'],\n",
        "           label = 'Val Error')\n",
        "  plt.ylim([0,1])\n",
        "  plt.legend()\n",
        "\n",
        "  plt.show()\n",
        "\n",
        "\n",
        "plot_history(history)"
      ]
    },
    {
      "cell_type": "code",
      "execution_count": null,
      "metadata": {
        "id": "_kgIIg6waUmE"
      },
      "outputs": [],
      "source": [
        "loss, mae, mse = model.evaluate(X_testArrayNN, y_testNN, verbose=2)\n",
        "\n",
        "print(\"Testing set Mean Abs Error: {:5.2f} MPG\".format(mae))"
      ]
    },
    {
      "cell_type": "code",
      "execution_count": null,
      "metadata": {
        "id": "s1qdrSIGaVrl"
      },
      "outputs": [],
      "source": [
        "test_predictions = model.predict(X_testArrayNN).flatten()\n",
        "\n",
        "plt.scatter(y_testNN, test_predictions)\n",
        "plt.xlabel('True Values [MPG]')\n",
        "plt.ylabel('Predictions [MPG]')\n",
        "plt.axis('equal')\n",
        "plt.axis('square')\n",
        "plt.xlim([0,plt.xlim()[1]])\n",
        "plt.ylim([0,plt.ylim()[1]])\n",
        "_ = plt.plot([-100, 100], [-100, 100])"
      ]
    },
    {
      "cell_type": "code",
      "execution_count": null,
      "metadata": {
        "id": "IhHm898Harq8"
      },
      "outputs": [],
      "source": [
        "error = test_predictions - y_testNN\n",
        "plt.hist(error, bins = 25)\n",
        "plt.xlabel(\"Prediction Error [MPG]\")\n",
        "_ = plt.ylabel(\"Count\")"
      ]
    },
    {
      "cell_type": "code",
      "execution_count": null,
      "metadata": {
        "id": "7WW8rXqDFdmL"
      },
      "outputs": [],
      "source": [
        "predicted_yNN = model.predict(X_val)\n",
        "y_valNN['Prediccion'] = predicted_yNN\n",
        "xNN = y_valNN\n",
        "ordenarTestReverse(horarios, index, xNN)\n",
        "xNN.to_csv('outputNN.csv' , index=False)\n",
        "\n",
        "predicted_yNN"
      ]
    },
    {
      "cell_type": "code",
      "execution_count": null,
      "metadata": {
        "id": "HGM136qmvN6D"
      },
      "outputs": [],
      "source": [
        "print('Neural Network (test): ' + str(mean_absolute_error(y_testNN, model.predict(X_val))))"
      ]
    }
  ],
  "metadata": {
    "colab": {
      "collapsed_sections": [
        "zBkuLFwodhPi",
        "kQUBnHP2c_B_",
        "pRrKU5JlLmug",
        "QjeeiBjzpr_k",
        "HQVT4l8wPiMf",
        "lMoHtG0plzfp",
        "qpZrbmDunXnE",
        "Rl8x6qOLvur-",
        "pTP8tb-Awmac",
        "cszh0PPWqego",
        "YtUAW4RbsgBI",
        "7cG1h6OssuhQ",
        "pO3y7XmtVGKF",
        "mSBaoWTwVMGs",
        "AT3WFAY1VV6m",
        "wSIoYoCBVZvz",
        "lmxe8YbuVe9c",
        "IXmLbU8sViiz",
        "P0nFs5yJVk-E",
        "K2C6KoQNVnSN",
        "cUiYNaafVuSf",
        "R1PqUKx7cm1H",
        "JCyC0Ia-eqj7",
        "0ljpc_EKv3zR",
        "E1VOY56rAXmq",
        "NqJKZLOSDsyB",
        "zoNlsctKMr42",
        "e3RikP5HVUSW",
        "KJkv475twgAc",
        "aX7A5lFxKi1Z",
        "3hIBAw3uKm1f",
        "OWEb9BGDKp53",
        "W9hxJma87Flr",
        "VFPEBuWcJ5pj",
        "pb5yf_8zjZ5Z",
        "7wK3g4Iyjvbq",
        "Ob1JKGKmj8rA",
        "Jh3WSnxElRwm",
        "F0V0HPgnqDIq",
        "dtcWgeS94-4a",
        "MkBLWmf7eAs9",
        "GrUkib_snMOG",
        "I1SlT8bgp7Yi",
        "nIhIX5h0wews",
        "-W5Gh3_ueiKu",
        "TNcJzf5clRwn",
        "Cgzb2rAalRwn",
        "4dZmuPgIlRws",
        "_92pJYndlRwt",
        "GxCqIWailRwt",
        "M6UpYVOVlRwt",
        "YNYSed3olRwt",
        "4D0eOBFflRwt",
        "gD5cZkFclRwu",
        "HouSXFB_lRwu",
        "XL0mqMmxlRwu",
        "AA170c9RlRwu",
        "oQ-ZsvXDlRwx"
      ],
      "provenance": [],
      "authorship_tag": "ABX9TyPg/te4Ds+g01ftxpkBQUFV"
    },
    "kernelspec": {
      "display_name": "Python 3",
      "name": "python3"
    },
    "language_info": {
      "name": "python"
    }
  },
  "nbformat": 4,
  "nbformat_minor": 0
}